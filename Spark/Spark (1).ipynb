{
  "cells": [
    {
      "cell_type": "markdown",
      "id": "GEqQaHzsZ_bA",
      "metadata": {
        "id": "GEqQaHzsZ_bA"
      },
      "source": [
        "# Предсказание стоимости жилья / Predicting the cost of housing\n",
        "\n",
        "В проекте вам нужно обучить модель линейной регрессии на данных о жилье в Калифорнии в 1990 году. На основе данных нужно предсказать медианную стоимость дома в жилом массиве. Обучите модель и сделайте предсказания на тестовой выборке. Для оценки качества модели используйте метрики RMSE, MAE и R2.\n",
        "\n",
        "ENG:\n",
        "\n",
        "In the project, you need to train a linear regression model on housing data in California in 1990. Based on the data, it is necessary to predict the median cost of a house in a residential area. Train the model and make predictions on the test sample. To assess the quality of the model, use the RMSE, MAE and R2 metrics."
      ]
    },
    {
      "cell_type": "markdown",
      "id": "53871372",
      "metadata": {
        "id": "53871372"
      },
      "source": [
        "## Подготовка данных / Data preparation"
      ]
    },
    {
      "cell_type": "markdown",
      "id": "bf1cd8f1",
      "metadata": {
        "id": "bf1cd8f1"
      },
      "source": [
        "### Библиотеки / Libraries"
      ]
    },
    {
      "cell_type": "code",
      "execution_count": null,
      "id": "df92e3ec",
      "metadata": {
        "id": "df92e3ec"
      },
      "outputs": [],
      "source": [
        "import pandas as pd\n",
        "import pyspark\n",
        "from pyspark.sql import SparkSession\n",
        "import  pyspark.sql.functions as F\n",
        "from pyspark.sql.types import DoubleType, IntegerType, StringType\n",
        "from pyspark.sql.types import *\n",
        "from pyspark.ml.feature import StringIndexer, VectorAssembler, StandardScaler,OneHotEncoder\n",
        "from pyspark.ml.regression import LinearRegression\n",
        "from pyspark.ml.evaluation import BinaryClassificationEvaluator, RegressionEvaluator\n",
        "import seaborn as sns\n",
        "\n",
        "RANDOM=1224"
      ]
    },
    {
      "cell_type": "markdown",
      "id": "f37e52b6",
      "metadata": {
        "id": "f37e52b6"
      },
      "source": [
        "* longitude — широта;\n",
        "*latitude — долгота;\n",
        "*housing_median_age — медианный возраст жителей жилого массива;\n",
        "*total_rooms — общее количество комнат в домах жилого массива;\n",
        "*total_bedrooms — общее количество спален в домах жилого массива;\n",
        "*population — количество человек, которые проживают в жилом массиве;\n",
        "*households — количество домовладений в жилом массиве;\n",
        "*median_income — медианный доход жителей жилого массива;\n",
        "*median_house_value — медианная стоимость дома в жилом массиве;\n",
        "*ocean_proximity — близость к океану."
      ]
    },
    {
      "cell_type": "markdown",
      "id": "954fb0dd",
      "metadata": {
        "id": "954fb0dd"
      },
      "source": [
        "### Создадим ссесию и выведем первые 5 строк / Create a session and output the first 5 lines"
      ]
    },
    {
      "cell_type": "code",
      "execution_count": null,
      "id": "8e8e1bc0",
      "metadata": {
        "id": "8e8e1bc0"
      },
      "outputs": [],
      "source": [
        "spark=SparkSession.builder.appName('project').getOrCreate()"
      ]
    },
    {
      "cell_type": "code",
      "execution_count": null,
      "id": "5bca3f16",
      "metadata": {
        "id": "5bca3f16",
        "outputId": "9f35749a-51af-49e0-f6b3-ccc510f0c378"
      },
      "outputs": [
        {
          "name": "stderr",
          "output_type": "stream",
          "text": [
            "                                                                                \r"
          ]
        },
        {
          "name": "stdout",
          "output_type": "stream",
          "text": [
            "+---------+--------+------------------+-----------+--------------+----------+----------+-------------+------------------+---------------+\n",
            "|longitude|latitude|housing_median_age|total_rooms|total_bedrooms|population|households|median_income|median_house_value|ocean_proximity|\n",
            "+---------+--------+------------------+-----------+--------------+----------+----------+-------------+------------------+---------------+\n",
            "|  -122.23|   37.88|              41.0|      880.0|         129.0|     322.0|     126.0|       8.3252|          452600.0|       NEAR BAY|\n",
            "|  -122.22|   37.86|              21.0|     7099.0|        1106.0|    2401.0|    1138.0|       8.3014|          358500.0|       NEAR BAY|\n",
            "|  -122.24|   37.85|              52.0|     1467.0|         190.0|     496.0|     177.0|       7.2574|          352100.0|       NEAR BAY|\n",
            "|  -122.25|   37.85|              52.0|     1274.0|         235.0|     558.0|     219.0|       5.6431|          341300.0|       NEAR BAY|\n",
            "|  -122.25|   37.85|              52.0|     1627.0|         280.0|     565.0|     259.0|       3.8462|          342200.0|       NEAR BAY|\n",
            "|  -122.25|   37.85|              52.0|      919.0|         213.0|     413.0|     193.0|       4.0368|          269700.0|       NEAR BAY|\n",
            "|  -122.25|   37.84|              52.0|     2535.0|         489.0|    1094.0|     514.0|       3.6591|          299200.0|       NEAR BAY|\n",
            "|  -122.25|   37.84|              52.0|     3104.0|         687.0|    1157.0|     647.0|         3.12|          241400.0|       NEAR BAY|\n",
            "|  -122.26|   37.84|              42.0|     2555.0|         665.0|    1206.0|     595.0|       2.0804|          226700.0|       NEAR BAY|\n",
            "|  -122.25|   37.84|              52.0|     3549.0|         707.0|    1551.0|     714.0|       3.6912|          261100.0|       NEAR BAY|\n",
            "|  -122.26|   37.85|              52.0|     2202.0|         434.0|     910.0|     402.0|       3.2031|          281500.0|       NEAR BAY|\n",
            "|  -122.26|   37.85|              52.0|     3503.0|         752.0|    1504.0|     734.0|       3.2705|          241800.0|       NEAR BAY|\n",
            "|  -122.26|   37.85|              52.0|     2491.0|         474.0|    1098.0|     468.0|        3.075|          213500.0|       NEAR BAY|\n",
            "|  -122.26|   37.84|              52.0|      696.0|         191.0|     345.0|     174.0|       2.6736|          191300.0|       NEAR BAY|\n",
            "|  -122.26|   37.85|              52.0|     2643.0|         626.0|    1212.0|     620.0|       1.9167|          159200.0|       NEAR BAY|\n",
            "|  -122.26|   37.85|              50.0|     1120.0|         283.0|     697.0|     264.0|        2.125|          140000.0|       NEAR BAY|\n",
            "|  -122.27|   37.85|              52.0|     1966.0|         347.0|     793.0|     331.0|        2.775|          152500.0|       NEAR BAY|\n",
            "|  -122.27|   37.85|              52.0|     1228.0|         293.0|     648.0|     303.0|       2.1202|          155500.0|       NEAR BAY|\n",
            "|  -122.26|   37.84|              50.0|     2239.0|         455.0|     990.0|     419.0|       1.9911|          158700.0|       NEAR BAY|\n",
            "|  -122.27|   37.84|              52.0|     1503.0|         298.0|     690.0|     275.0|       2.6033|          162900.0|       NEAR BAY|\n",
            "+---------+--------+------------------+-----------+--------------+----------+----------+-------------+------------------+---------------+\n",
            "only showing top 20 rows\n",
            "\n"
          ]
        }
      ],
      "source": [
        "\n",
        "df=spark.read.load('/datasets/housing.csv',sep=',',format='csv',inferSchema=True,header='true')\n",
        "df.show()"
      ]
    },
    {
      "cell_type": "markdown",
      "id": "36726abd",
      "metadata": {
        "id": "36726abd"
      },
      "source": [
        "### Проверим тип данных и  преобразуем / Let's check the data type and convert"
      ]
    },
    {
      "cell_type": "code",
      "execution_count": null,
      "id": "b2427ed2",
      "metadata": {
        "id": "b2427ed2",
        "outputId": "784f29d8-4687-4e7a-80b6-8a32dbbe09e5"
      },
      "outputs": [
        {
          "name": "stderr",
          "output_type": "stream",
          "text": [
            "                                                                                \r"
          ]
        },
        {
          "name": "stdout",
          "output_type": "stream",
          "text": [
            "+-------+------------------+------------------+-----------------+------------------+------------------+------------------+\n",
            "|summary|housing_median_age|        population|       households|     median_income|       total_rooms|    total_bedrooms|\n",
            "+-------+------------------+------------------+-----------------+------------------+------------------+------------------+\n",
            "|  count|             20640|             20640|            20640|             20640|             20640|             20433|\n",
            "|   mean|28.639486434108527|1425.4767441860465|499.5396802325581|3.8706710029070246|2635.7630813953488| 537.8705525375618|\n",
            "| stddev| 12.58555761211163|  1132.46212176534|382.3297528316098| 1.899821717945263|2181.6152515827944|421.38507007403115|\n",
            "|    min|               1.0|               3.0|              1.0|            0.4999|               2.0|               1.0|\n",
            "|    max|              52.0|           35682.0|           6082.0|           15.0001|           39320.0|            6445.0|\n",
            "+-------+------------------+------------------+-----------------+------------------+------------------+------------------+\n",
            "\n"
          ]
        }
      ],
      "source": [
        "df.select(['housing_median_age','population','households','median_income','total_rooms','total_bedrooms']).describe().show()"
      ]
    },
    {
      "cell_type": "code",
      "execution_count": null,
      "id": "99d64780",
      "metadata": {
        "id": "99d64780",
        "outputId": "08a9a66d-3b3e-435f-d39e-cc7585771588"
      },
      "outputs": [
        {
          "name": "stdout",
          "output_type": "stream",
          "text": [
            "root\n",
            " |-- longitude: double (nullable = true)\n",
            " |-- latitude: double (nullable = true)\n",
            " |-- housing_median_age: double (nullable = true)\n",
            " |-- total_rooms: double (nullable = true)\n",
            " |-- total_bedrooms: double (nullable = true)\n",
            " |-- population: double (nullable = true)\n",
            " |-- households: double (nullable = true)\n",
            " |-- median_income: double (nullable = true)\n",
            " |-- median_house_value: double (nullable = true)\n",
            " |-- ocean_proximity: string (nullable = true)\n",
            "\n"
          ]
        }
      ],
      "source": [
        "df.printSchema()"
      ]
    },
    {
      "cell_type": "code",
      "execution_count": null,
      "id": "5677e21a",
      "metadata": {
        "id": "5677e21a",
        "outputId": "81855dbe-c0f4-424b-a27b-badf3f1f03b3"
      },
      "outputs": [
        {
          "name": "stderr",
          "output_type": "stream",
          "text": [
            "                                                                                \r"
          ]
        },
        {
          "name": "stdout",
          "output_type": "stream",
          "text": [
            "longitude  -  Количество уникальных значений : 844\n"
          ]
        },
        {
          "name": "stderr",
          "output_type": "stream",
          "text": [
            "                                                                                \r"
          ]
        },
        {
          "name": "stdout",
          "output_type": "stream",
          "text": [
            "latitude  -  Количество уникальных значений : 862\n"
          ]
        },
        {
          "name": "stderr",
          "output_type": "stream",
          "text": [
            "                                                                                \r"
          ]
        },
        {
          "name": "stdout",
          "output_type": "stream",
          "text": [
            "housing_median_age  -  Количество уникальных значений : 52\n"
          ]
        },
        {
          "name": "stderr",
          "output_type": "stream",
          "text": [
            "                                                                                \r"
          ]
        },
        {
          "name": "stdout",
          "output_type": "stream",
          "text": [
            "total_rooms  -  Количество уникальных значений : 5926\n"
          ]
        },
        {
          "name": "stderr",
          "output_type": "stream",
          "text": [
            "                                                                                \r"
          ]
        },
        {
          "name": "stdout",
          "output_type": "stream",
          "text": [
            "total_bedrooms  -  Количество уникальных значений : 1924\n"
          ]
        },
        {
          "name": "stderr",
          "output_type": "stream",
          "text": [
            "                                                                                \r"
          ]
        },
        {
          "name": "stdout",
          "output_type": "stream",
          "text": [
            "population  -  Количество уникальных значений : 3888\n"
          ]
        },
        {
          "name": "stderr",
          "output_type": "stream",
          "text": [
            "                                                                                \r"
          ]
        },
        {
          "name": "stdout",
          "output_type": "stream",
          "text": [
            "households  -  Количество уникальных значений : 1815\n"
          ]
        },
        {
          "name": "stderr",
          "output_type": "stream",
          "text": [
            "                                                                                \r"
          ]
        },
        {
          "name": "stdout",
          "output_type": "stream",
          "text": [
            "median_income  -  Количество уникальных значений : 12928\n"
          ]
        },
        {
          "name": "stderr",
          "output_type": "stream",
          "text": [
            "[Stage 30:===================================================>  (192 + 1) / 200]\r"
          ]
        },
        {
          "name": "stdout",
          "output_type": "stream",
          "text": [
            "median_house_value  -  Количество уникальных значений : 3842\n"
          ]
        },
        {
          "name": "stderr",
          "output_type": "stream",
          "text": [
            "[Stage 33:==============================================>       (174 + 1) / 200]\r"
          ]
        },
        {
          "name": "stdout",
          "output_type": "stream",
          "text": [
            "ocean_proximity  -  Количество уникальных значений : 5\n"
          ]
        },
        {
          "name": "stderr",
          "output_type": "stream",
          "text": [
            "                                                                                \r"
          ]
        }
      ],
      "source": [
        "for i in df.columns:\n",
        "    \n",
        "    print(i,' - ',f'Количество уникальных значений : {df.select(i).distinct().count()}')\n",
        "    "
      ]
    },
    {
      "cell_type": "code",
      "execution_count": null,
      "id": "0fe285e7",
      "metadata": {
        "id": "0fe285e7"
      },
      "outputs": [],
      "source": [
        "#df.withColumn('ocean_proximity',F.col('ocean_proximity').cast('Integer'))\n",
        "for i in df.columns[:-1]:\n",
        "    df=df.withColumn(i,F.col(i).cast('double'))"
      ]
    },
    {
      "cell_type": "markdown",
      "id": "4be0faf1",
      "metadata": {
        "id": "4be0faf1"
      },
      "source": [
        "## Предобработка данных / Data preprocessing"
      ]
    },
    {
      "cell_type": "markdown",
      "id": "4c81ee3d",
      "metadata": {
        "id": "4c81ee3d"
      },
      "source": [
        "### Иследовательский анализ / Research analysis"
      ]
    },
    {
      "cell_type": "code",
      "execution_count": 1,
      "id": "4e9b303e",
      "metadata": {
        "colab": {
          "base_uri": "https://localhost:8080/",
          "height": 165
        },
        "id": "4e9b303e",
        "outputId": "8b8ad97d-6ee0-4dc2-f025-341186c2a8b0"
      },
      "outputs": [
        {
          "output_type": "error",
          "ename": "NameError",
          "evalue": "ignored",
          "traceback": [
            "\u001b[0;31m---------------------------------------------------------------------------\u001b[0m",
            "\u001b[0;31mNameError\u001b[0m                                 Traceback (most recent call last)",
            "\u001b[0;32m<ipython-input-1-63b4c423605b>\u001b[0m in \u001b[0;36m<cell line: 1>\u001b[0;34m()\u001b[0m\n\u001b[0;32m----> 1\u001b[0;31m \u001b[0mdf\u001b[0m\u001b[0;34m.\u001b[0m\u001b[0mselect\u001b[0m\u001b[0;34m(\u001b[0m\u001b[0;34m[\u001b[0m\u001b[0mF\u001b[0m\u001b[0;34m.\u001b[0m\u001b[0mcount\u001b[0m\u001b[0;34m(\u001b[0m\u001b[0mF\u001b[0m\u001b[0;34m.\u001b[0m\u001b[0mwhen\u001b[0m\u001b[0;34m(\u001b[0m\u001b[0mF\u001b[0m\u001b[0;34m.\u001b[0m\u001b[0misnull\u001b[0m\u001b[0;34m(\u001b[0m\u001b[0mi\u001b[0m\u001b[0;34m)\u001b[0m\u001b[0;34m,\u001b[0m\u001b[0mi\u001b[0m\u001b[0;34m)\u001b[0m\u001b[0;34m)\u001b[0m\u001b[0;34m.\u001b[0m\u001b[0malias\u001b[0m\u001b[0;34m(\u001b[0m\u001b[0mi\u001b[0m\u001b[0;34m)\u001b[0m \u001b[0;32mfor\u001b[0m \u001b[0mi\u001b[0m \u001b[0;32min\u001b[0m \u001b[0mdf\u001b[0m\u001b[0;34m.\u001b[0m\u001b[0mcolumns\u001b[0m\u001b[0;34m]\u001b[0m\u001b[0;34m)\u001b[0m\u001b[0;34m.\u001b[0m\u001b[0mshow\u001b[0m\u001b[0;34m(\u001b[0m\u001b[0;34m)\u001b[0m\u001b[0;34m\u001b[0m\u001b[0;34m\u001b[0m\u001b[0m\n\u001b[0m",
            "\u001b[0;31mNameError\u001b[0m: name 'df' is not defined"
          ]
        }
      ],
      "source": [
        "df.select([F.count(F.when(F.isnull(i),i)).alias(i) for i in df.columns]).show()"
      ]
    },
    {
      "cell_type": "code",
      "execution_count": null,
      "id": "637d954e",
      "metadata": {
        "id": "637d954e",
        "outputId": "089a2439-64b2-414b-ac61-4eaeb7454941"
      },
      "outputs": [
        {
          "data": {
            "image/png": "[encoded data removed]",
            "text/plain": [
              "<Figure size 432x288 with 2 Axes>"
            ]
          },
          "metadata": {
            "needs_background": "light"
          },
          "output_type": "display_data"
        }
      ],
      "source": [
        "data=df.limit(10000).toPandas()\n",
        "corr=data.corr()\n",
        "sns.heatmap(corr);"
      ]
    },
    {
      "cell_type": "code",
      "execution_count": null,
      "id": "4648ce0d",
      "metadata": {
        "id": "4648ce0d",
        "outputId": "701c51f5-147d-4c9c-9dec-7c55135db5f2"
      },
      "outputs": [
        {
          "data": {
            "image/png": "[encoded data removed]",
            "text/plain": [
              "<Figure size 1080x1080 with 81 Axes>"
            ]
          },
          "metadata": {
            "needs_background": "light"
          },
          "output_type": "display_data"
        }
      ],
      "source": [
        "\n",
        "pd.plotting.scatter_matrix(data, figsize=(15, 15)); "
      ]
    },
    {
      "cell_type": "markdown",
      "id": "89e34d68",
      "metadata": {
        "id": "89e34d68"
      },
      "source": [
        "### Заметка / Note : \n",
        "\n",
        "Построив несколько графиков для того что бы определить взаимосвязь между количеством спален и другими признаками, мы можем увидеть сильну. кореляцию с параметрами:\n",
        "       \n",
        "- Количество домов\n",
        "- Количество жителей\n",
        "- Общее количество комнат\n",
        "\n",
        "ENG:\n",
        "\n",
        "Having built several graphs in order to determine the relationship between the number of bedrooms and other signs, we can see the strong. correlation with parameters:\n",
        "\n",
        "- Number of houses\n",
        "- Number of inhabitants\n",
        "- Total number of rooms"
      ]
    },
    {
      "cell_type": "code",
      "execution_count": null,
      "id": "a8dc16f8",
      "metadata": {
        "scrolled": false,
        "id": "a8dc16f8",
        "outputId": "9155dcd9-ad80-4207-b97b-640a5ea8f496"
      },
      "outputs": [
        {
          "data": {
            "image/png": "[encoded data removed]",
            "text/plain": [
              "<Figure size 432x288 with 1 Axes>"
            ]
          },
          "metadata": {
            "needs_background": "light"
          },
          "output_type": "display_data"
        },
        {
          "data": {
            "image/png": "[encoded data removed]",
            "text/plain": [
              "<Figure size 432x288 with 1 Axes>"
            ]
          },
          "metadata": {
            "needs_background": "light"
          },
          "output_type": "display_data"
        },
        {
          "data": {
            "image/png": "[encoded data removed]",
            "text/plain": [
              "<Figure size 432x288 with 1 Axes>"
            ]
          },
          "metadata": {
            "needs_background": "light"
          },
          "output_type": "display_data"
        },
        {
          "data": {
            "image/png": "[encoded data removed]",
            "text/plain": [
              "<Figure size 432x288 with 1 Axes>"
            ]
          },
          "metadata": {
            "needs_background": "light"
          },
          "output_type": "display_data"
        },
        {
          "data": {
            "image/png": "[encoded data removed]",
            "text/plain": [
              "<Figure size 432x288 with 1 Axes>"
            ]
          },
          "metadata": {
            "needs_background": "light"
          },
          "output_type": "display_data"
        },
        {
          "data": {
            "image/png": "[encoded data removed]",
            "text/plain": [
              "<Figure size 432x288 with 1 Axes>"
            ]
          },
          "metadata": {
            "needs_background": "light"
          },
          "output_type": "display_data"
        },
        {
          "data": {
            "image/png": "[encoded data removed]",
            "text/plain": [
              "<Figure size 432x288 with 1 Axes>"
            ]
          },
          "metadata": {
            "needs_background": "light"
          },
          "output_type": "display_data"
        },
        {
          "data": {
            "image/png": "[encoded data removed]",
            "text/plain": [
              "<Figure size 432x288 with 1 Axes>"
            ]
          },
          "metadata": {
            "needs_background": "light"
          },
          "output_type": "display_data"
        },
        {
          "data": {
            "image/png": "[encoded data removed]",
            "text/plain": [
              "<Figure size 432x288 with 1 Axes>"
            ]
          },
          "metadata": {
            "needs_background": "light"
          },
          "output_type": "display_data"
        }
      ],
      "source": [
        "for i in df.columns[:-1]:\n",
        "    bath=df.limit(10000).select(i).toPandas()\n",
        "    bath.hist(bins=100);"
      ]
    },
    {
      "cell_type": "code",
      "execution_count": null,
      "id": "8ff652d4",
      "metadata": {
        "id": "8ff652d4",
        "outputId": "a71b8106-858a-41f9-b3c8-a854de625b52"
      },
      "outputs": [
        {
          "data": {
            "text/plain": [
              "20640"
            ]
          },
          "execution_count": 12,
          "metadata": {},
          "output_type": "execute_result"
        }
      ],
      "source": [
        "df.count()"
      ]
    },
    {
      "cell_type": "code",
      "execution_count": null,
      "id": "047f19e4",
      "metadata": {
        "id": "047f19e4"
      },
      "outputs": [],
      "source": [
        "df=df.filter((df['housing_median_age']<50) & (df['median_income']<10))"
      ]
    },
    {
      "cell_type": "code",
      "execution_count": null,
      "id": "50622198",
      "metadata": {
        "id": "50622198",
        "outputId": "f6dd9a55-45f1-4fe4-de58-859298aaea8b"
      },
      "outputs": [
        {
          "data": {
            "text/plain": [
              "18920"
            ]
          },
          "execution_count": 14,
          "metadata": {},
          "output_type": "execute_result"
        }
      ],
      "source": [
        "df.count()"
      ]
    },
    {
      "cell_type": "markdown",
      "id": "4c7e564f",
      "metadata": {
        "id": "4c7e564f"
      },
      "source": [
        "Заменим на медианное значение /  Change for median "
      ]
    },
    {
      "cell_type": "code",
      "execution_count": null,
      "id": "e16c8229",
      "metadata": {
        "scrolled": true,
        "id": "e16c8229"
      },
      "outputs": [],
      "source": [
        "median=pd.Series([float(i[-1]) for i in df.select(df['total_bedrooms']/df['total_rooms']).filter(df['total_bedrooms']!=0).collect()]).median()"
      ]
    },
    {
      "cell_type": "code",
      "execution_count": null,
      "id": "75daab35",
      "metadata": {
        "id": "75daab35"
      },
      "outputs": [],
      "source": [
        "#avg_bath=df.select(F.avg('total_bedrooms')).collect()[0][0]\n",
        "df = df.withColumn('total_bedrooms', F.when(F.col('total_bedrooms').isNull(), F.col('total_rooms') * median).otherwise(F.col('total_bedrooms')))"
      ]
    },
    {
      "cell_type": "code",
      "execution_count": null,
      "id": "3809dfa6",
      "metadata": {
        "id": "3809dfa6"
      },
      "outputs": [],
      "source": [
        "#df=df.drop(F.col('longitude'))\n",
        "#df=df.drop(F.col('latitude'))"
      ]
    },
    {
      "cell_type": "markdown",
      "id": "f00b7aef",
      "metadata": {
        "id": "f00b7aef"
      },
      "source": [
        "### Делим на выборки и преобразовываем данные в них / Divide into samples and convert the data into them"
      ]
    },
    {
      "cell_type": "code",
      "execution_count": null,
      "id": "3ffc135c",
      "metadata": {
        "id": "3ffc135c"
      },
      "outputs": [],
      "source": [
        "category_cols=['ocean_proximity']\n",
        "numeric_cols=['housing_median_age','population','households','median_income','total_rooms','total_bedrooms']\n",
        "target='median_house_value'\n",
        "features=['category_features', 'numeric_features_scalled']"
      ]
    },
    {
      "cell_type": "code",
      "execution_count": null,
      "id": "d32f8ed6",
      "metadata": {
        "id": "d32f8ed6",
        "outputId": "dfd6f8ea-dacc-4140-dcdc-af9059094421"
      },
      "outputs": [
        {
          "name": "stderr",
          "output_type": "stream",
          "text": [
            "                                                                                \r"
          ]
        },
        {
          "name": "stdout",
          "output_type": "stream",
          "text": [
            "15091 3829\n"
          ]
        }
      ],
      "source": [
        "\n",
        "train_data,test_data=df.randomSplit([.8,.2],seed=RANDOM)\n",
        "print(train_data.count(),test_data.count())"
      ]
    },
    {
      "cell_type": "code",
      "execution_count": null,
      "id": "ea952c1f",
      "metadata": {
        "id": "ea952c1f",
        "outputId": "02e3d0e9-fee7-4031-fe5b-c391f0a95530"
      },
      "outputs": [
        {
          "name": "stderr",
          "output_type": "stream",
          "text": [
            "                                                                                \r"
          ]
        }
      ],
      "source": [
        "\n",
        "features=['category_features', 'numeric_features_scalled']\n",
        "indexer = StringIndexer(inputCols=[i for i in category_cols], outputCols=[col + '_indx' for col in category_cols])\n",
        "encoder = OneHotEncoder(inputCols=[col + '_indx' for col in category_cols], outputCols=[col + '_encod' for col in category_cols])\n",
        "category_features = VectorAssembler(inputCols=[col + '_encod' for col in category_cols], outputCol='category_features')\n",
        "numeric_assembler = VectorAssembler(inputCols=numeric_cols, outputCol='numeric_features')\n",
        "scaler = StandardScaler(inputCol='numeric_features', outputCol='numeric_features_scalled')\n",
        "final_features = VectorAssembler(inputCols=features, outputCol='final_features')\n",
        "\n",
        "indexed_data = indexer.fit(train_data)\n",
        "train_data=indexed_data.transform(train_data)\n",
        "test_data=indexed_data.transform(test_data)\n",
        "\n",
        "\n",
        "encoded_data = encoder.fit(train_data)\n",
        "train_data=encoded_data.transform(train_data)\n",
        "test_data=encoded_data.transform(test_data)\n",
        "\n",
        "\n",
        "train_data=category_features.transform(train_data)\n",
        "test_data=category_features.transform(test_data)\n",
        "\n",
        "\n",
        "train_data=numeric_assembler.transform(train_data)\n",
        "test_data=numeric_assembler.transform(test_data)\n",
        "\n",
        "scaler_model = scaler.fit(train_data)\n",
        "train_data=scaler_model.transform(train_data)\n",
        "test_data=scaler_model.transform(test_data)\n",
        "\n",
        "train_data=final_features.transform(train_data)\n",
        "test_data=final_features.transform(test_data)\n",
        "\n",
        "\n"
      ]
    },
    {
      "cell_type": "code",
      "execution_count": null,
      "id": "9d4bf766",
      "metadata": {
        "id": "9d4bf766",
        "outputId": "903b3956-0244-4188-8fd7-8cd48d489102"
      },
      "outputs": [
        {
          "name": "stdout",
          "output_type": "stream",
          "text": [
            "root\n",
            " |-- longitude: double (nullable = true)\n",
            " |-- latitude: double (nullable = true)\n",
            " |-- housing_median_age: double (nullable = true)\n",
            " |-- total_rooms: double (nullable = true)\n",
            " |-- total_bedrooms: double (nullable = true)\n",
            " |-- population: double (nullable = true)\n",
            " |-- households: double (nullable = true)\n",
            " |-- median_income: double (nullable = true)\n",
            " |-- median_house_value: double (nullable = true)\n",
            " |-- ocean_proximity: string (nullable = true)\n",
            " |-- ocean_proximity_indx: double (nullable = false)\n",
            " |-- ocean_proximity_encod: vector (nullable = true)\n",
            " |-- category_features: vector (nullable = true)\n",
            " |-- numeric_features: vector (nullable = true)\n",
            " |-- numeric_features_scalled: vector (nullable = true)\n",
            " |-- final_features: vector (nullable = true)\n",
            "\n"
          ]
        }
      ],
      "source": [
        "train_data.printSchema()"
      ]
    },
    {
      "cell_type": "markdown",
      "id": "9f0a82f3",
      "metadata": {
        "id": "9f0a82f3"
      },
      "source": [
        "## Обучение моделей / Model training"
      ]
    },
    {
      "cell_type": "markdown",
      "id": "2431568a",
      "metadata": {
        "id": "2431568a"
      },
      "source": [
        "### Обучаем модель / Train model"
      ]
    },
    {
      "cell_type": "markdown",
      "id": "df6a47c4",
      "metadata": {
        "id": "df6a47c4"
      },
      "source": [
        "#### Функция для обучения / Function for study"
      ]
    },
    {
      "cell_type": "code",
      "execution_count": null,
      "id": "fb17cbbb",
      "metadata": {
        "id": "fb17cbbb"
      },
      "outputs": [],
      "source": [
        "def train(train_data, test_data, features_col):\n",
        "    \n",
        "    model = LinearRegression(labelCol='median_house_value',featuresCol=features_col)\n",
        "    model_fit = model.fit(train_data)\n",
        "    predictions = model_fit.transform(test_data)\n",
        "    \n",
        "    mae=RegressionEvaluator(labelCol='median_house_value',metricName='mae').evaluate(predictions)\n",
        "    r2=RegressionEvaluator(labelCol='median_house_value',metricName='r2').evaluate(predictions)\n",
        "    rmse=RegressionEvaluator(labelCol='median_house_value',metricName='rmse').evaluate(predictions)\n",
        "    \n",
        "    print('MAE построенной на всех признакаъ :',mae)\n",
        "    print('RMSE построенной на всех признакаъ :',rmse)\n",
        "    print('R2 построенной на всех признакаъ :',r2)\n",
        "    \n",
        "    "
      ]
    },
    {
      "cell_type": "code",
      "execution_count": null,
      "id": "d18d8454",
      "metadata": {
        "id": "d18d8454",
        "outputId": "d4a01ad2-29e4-49bb-a42b-769a9f35b7f4"
      },
      "outputs": [
        {
          "name": "stderr",
          "output_type": "stream",
          "text": [
            "23/02/17 18:36:35 WARN Instrumentation: [ca811769] regParam is zero, which might cause numerical instability and overfitting.\n",
            "23/02/17 18:36:36 WARN BLAS: Failed to load implementation from: com.github.fommil.netlib.NativeSystemBLAS\n",
            "23/02/17 18:36:36 WARN BLAS: Failed to load implementation from: com.github.fommil.netlib.NativeRefBLAS\n",
            "23/02/17 18:36:36 WARN LAPACK: Failed to load implementation from: com.github.fommil.netlib.NativeSystemLAPACK\n",
            "23/02/17 18:36:36 WARN LAPACK: Failed to load implementation from: com.github.fommil.netlib.NativeRefLAPACK\n",
            "                                                                                \r"
          ]
        },
        {
          "name": "stdout",
          "output_type": "stream",
          "text": [
            "MAE построенной на всех признакаъ : 48485.07108456319\n",
            "RMSE построенной на всех признакаъ : 67205.40683967526\n",
            "R2 построенной на всех признакаъ : 0.6234835748540846\n"
          ]
        }
      ],
      "source": [
        "train(train_data,test_data,'final_features')"
      ]
    },
    {
      "cell_type": "markdown",
      "id": "74e5ffe9",
      "metadata": {
        "id": "74e5ffe9"
      },
      "source": [
        "#### Только числовые признаки / Numeric signs only"
      ]
    },
    {
      "cell_type": "code",
      "execution_count": null,
      "id": "38d1db53",
      "metadata": {
        "id": "38d1db53",
        "outputId": "6b2f62bb-a70d-4c91-e260-98372ca667bb"
      },
      "outputs": [
        {
          "name": "stderr",
          "output_type": "stream",
          "text": [
            "23/02/17 18:36:41 WARN Instrumentation: [243009d9] regParam is zero, which might cause numerical instability and overfitting.\n"
          ]
        },
        {
          "name": "stdout",
          "output_type": "stream",
          "text": [
            "MAE построенной на всех признакаъ : 53248.0883898316\n",
            "RMSE построенной на всех признакаъ : 72761.62204574233\n",
            "R2 построенной на всех признакаъ : 0.5586529361716074\n"
          ]
        }
      ],
      "source": [
        "train(train_data,test_data,'numeric_features_scalled')"
      ]
    },
    {
      "cell_type": "markdown",
      "id": "757fd103",
      "metadata": {
        "id": "757fd103"
      },
      "source": [
        "# Анализ результатов / Analysis of results"
      ]
    },
    {
      "cell_type": "markdown",
      "id": "60cfa91e",
      "metadata": {
        "id": "60cfa91e"
      },
      "source": [
        "Если смотреть по резульатам то разницы как таковой нету ,видно что в первом случае когда мы обучали на всех данных модельнемного хуже,чем во втором случае ,но в любом случае результаты ужасные в обоих случаях,и мне кажеться здесь нужно проводить более глубокую подготовку признаков.Так как думаю что здесь много шумов. / If you look at the results, there is no difference as such, it is clear that in the first case, when we trained on all the data of the model, it is much worse than in the second case, but in any case, the results are terrible in both cases, and it seems to me that a deeper preparation of the signs should be carried out here.Since I think there is a lot of noise here."
      ]
    },
    {
      "cell_type": "code",
      "execution_count": null,
      "id": "de27caa0",
      "metadata": {
        "id": "de27caa0"
      },
      "outputs": [],
      "source": []
    }
  ],
  "metadata": {
    "ExecuteTimeLog": [
      {
        "duration": 47,
        "start_time": "2023-02-15T07:01:50.664Z"
      },
      {
        "duration": 58,
        "start_time": "2023-02-15T07:01:57.772Z"
      },
      {
        "duration": 324,
        "start_time": "2023-02-15T07:02:02.949Z"
      },
      {
        "duration": 3,
        "start_time": "2023-02-15T07:02:23.945Z"
      },
      {
        "duration": 52,
        "start_time": "2023-02-15T07:02:49.023Z"
      },
      {
        "duration": 3,
        "start_time": "2023-02-15T07:02:58.432Z"
      },
      {
        "duration": 331,
        "start_time": "2023-02-15T07:03:13.564Z"
      },
      {
        "duration": 25,
        "start_time": "2023-02-15T07:06:26.881Z"
      },
      {
        "duration": 4,
        "start_time": "2023-02-15T07:06:51.102Z"
      },
      {
        "duration": 22165,
        "start_time": "2023-02-15T07:06:54.208Z"
      },
      {
        "duration": 14,
        "start_time": "2023-02-15T07:09:45.894Z"
      },
      {
        "duration": 4447,
        "start_time": "2023-02-15T07:09:52.291Z"
      },
      {
        "duration": 527,
        "start_time": "2023-02-15T07:10:11.075Z"
      },
      {
        "duration": 7002,
        "start_time": "2023-02-15T07:10:45.714Z"
      },
      {
        "duration": 713,
        "start_time": "2023-02-15T07:11:04.243Z"
      },
      {
        "duration": 519,
        "start_time": "2023-02-15T07:11:18.935Z"
      },
      {
        "duration": 255,
        "start_time": "2023-02-15T07:11:22.316Z"
      },
      {
        "duration": 513,
        "start_time": "2023-02-15T07:11:31.053Z"
      },
      {
        "duration": 256,
        "start_time": "2023-02-15T07:11:33.788Z"
      },
      {
        "duration": 11,
        "start_time": "2023-02-15T07:13:37.795Z"
      },
      {
        "duration": 354,
        "start_time": "2023-02-15T07:21:15.622Z"
      },
      {
        "duration": 144,
        "start_time": "2023-02-15T07:21:18.871Z"
      },
      {
        "duration": 314,
        "start_time": "2023-02-15T07:21:29.577Z"
      },
      {
        "duration": 591,
        "start_time": "2023-02-15T07:21:38.972Z"
      },
      {
        "duration": 1924,
        "start_time": "2023-02-15T07:22:09.968Z"
      },
      {
        "duration": 25,
        "start_time": "2023-02-15T07:22:19.642Z"
      },
      {
        "duration": 547,
        "start_time": "2023-02-15T07:25:50.015Z"
      },
      {
        "duration": 4,
        "start_time": "2023-02-15T07:27:12.314Z"
      },
      {
        "duration": 11,
        "start_time": "2023-02-15T07:30:39.296Z"
      },
      {
        "duration": 11,
        "start_time": "2023-02-15T07:32:09.516Z"
      },
      {
        "duration": 11,
        "start_time": "2023-02-15T07:34:15.512Z"
      },
      {
        "duration": 1628,
        "start_time": "2023-02-15T07:34:19.960Z"
      },
      {
        "duration": 39,
        "start_time": "2023-02-15T07:34:48.571Z"
      },
      {
        "duration": 317,
        "start_time": "2023-02-15T07:34:53.912Z"
      },
      {
        "duration": 856,
        "start_time": "2023-02-15T07:35:00.098Z"
      },
      {
        "duration": 781,
        "start_time": "2023-02-15T07:35:20.205Z"
      },
      {
        "duration": 543,
        "start_time": "2023-02-15T07:35:36.128Z"
      },
      {
        "duration": 15,
        "start_time": "2023-02-15T07:37:03.137Z"
      },
      {
        "duration": 11,
        "start_time": "2023-02-15T07:37:23.374Z"
      },
      {
        "duration": 8,
        "start_time": "2023-02-15T07:37:30.798Z"
      },
      {
        "duration": 13,
        "start_time": "2023-02-15T07:38:46.028Z"
      },
      {
        "duration": 20,
        "start_time": "2023-02-15T07:39:10.634Z"
      },
      {
        "duration": 291,
        "start_time": "2023-02-15T07:39:17.138Z"
      },
      {
        "duration": 195,
        "start_time": "2023-02-15T07:39:33.645Z"
      },
      {
        "duration": 626,
        "start_time": "2023-02-15T07:39:42.154Z"
      },
      {
        "duration": 24,
        "start_time": "2023-02-15T07:39:51.159Z"
      },
      {
        "duration": 179,
        "start_time": "2023-02-15T07:40:07.142Z"
      },
      {
        "duration": 121,
        "start_time": "2023-02-15T07:40:21.289Z"
      },
      {
        "duration": 204,
        "start_time": "2023-02-15T07:40:39.370Z"
      },
      {
        "duration": 101,
        "start_time": "2023-02-15T07:40:45.229Z"
      },
      {
        "duration": 8,
        "start_time": "2023-02-15T07:40:53.823Z"
      },
      {
        "duration": 84,
        "start_time": "2023-02-15T07:41:01.427Z"
      },
      {
        "duration": 370,
        "start_time": "2023-02-15T07:41:05.909Z"
      },
      {
        "duration": 536,
        "start_time": "2023-02-15T07:45:08.383Z"
      },
      {
        "duration": 132,
        "start_time": "2023-02-15T07:45:21.128Z"
      },
      {
        "duration": 203,
        "start_time": "2023-02-15T07:45:24.668Z"
      },
      {
        "duration": 286,
        "start_time": "2023-02-15T07:45:34.469Z"
      },
      {
        "duration": 229,
        "start_time": "2023-02-15T07:45:41.147Z"
      },
      {
        "duration": 160,
        "start_time": "2023-02-15T07:45:52.215Z"
      },
      {
        "duration": 5,
        "start_time": "2023-02-15T07:49:40.187Z"
      },
      {
        "duration": 11,
        "start_time": "2023-02-15T07:53:55.290Z"
      },
      {
        "duration": 10,
        "start_time": "2023-02-15T07:54:02.187Z"
      },
      {
        "duration": 4,
        "start_time": "2023-02-15T07:54:24.632Z"
      },
      {
        "duration": 9,
        "start_time": "2023-02-15T07:54:28.863Z"
      },
      {
        "duration": 424,
        "start_time": "2023-02-15T07:54:35.946Z"
      },
      {
        "duration": 185,
        "start_time": "2023-02-15T07:54:40.282Z"
      },
      {
        "duration": 306,
        "start_time": "2023-02-15T07:54:51.256Z"
      },
      {
        "duration": 186,
        "start_time": "2023-02-15T07:55:42.876Z"
      },
      {
        "duration": 4,
        "start_time": "2023-02-15T07:55:54.927Z"
      },
      {
        "duration": 233,
        "start_time": "2023-02-15T07:57:19.521Z"
      },
      {
        "duration": 466,
        "start_time": "2023-02-15T07:57:33.387Z"
      },
      {
        "duration": 3,
        "start_time": "2023-02-15T07:57:37.769Z"
      },
      {
        "duration": 163,
        "start_time": "2023-02-15T07:57:41.452Z"
      },
      {
        "duration": 10,
        "start_time": "2023-02-15T07:57:55.562Z"
      },
      {
        "duration": 93,
        "start_time": "2023-02-15T07:58:07.168Z"
      },
      {
        "duration": 116,
        "start_time": "2023-02-15T07:58:25.293Z"
      },
      {
        "duration": 14,
        "start_time": "2023-02-15T08:01:39.057Z"
      },
      {
        "duration": 42,
        "start_time": "2023-02-15T08:01:51.099Z"
      },
      {
        "duration": 8,
        "start_time": "2023-02-15T08:01:56.273Z"
      },
      {
        "duration": 4,
        "start_time": "2023-02-15T08:02:05.957Z"
      },
      {
        "duration": 8,
        "start_time": "2023-02-15T08:02:09.479Z"
      },
      {
        "duration": 46,
        "start_time": "2023-02-15T08:02:42.788Z"
      },
      {
        "duration": 9,
        "start_time": "2023-02-15T08:02:49.729Z"
      },
      {
        "duration": 9,
        "start_time": "2023-02-15T08:09:24.360Z"
      },
      {
        "duration": 9,
        "start_time": "2023-02-15T08:09:51.595Z"
      },
      {
        "duration": 10,
        "start_time": "2023-02-15T08:10:11.483Z"
      },
      {
        "duration": 50,
        "start_time": "2023-02-15T08:11:33.781Z"
      },
      {
        "duration": 8,
        "start_time": "2023-02-15T08:11:42.616Z"
      },
      {
        "duration": 10,
        "start_time": "2023-02-15T08:12:20.598Z"
      },
      {
        "duration": 332,
        "start_time": "2023-02-15T08:12:40.960Z"
      },
      {
        "duration": 10,
        "start_time": "2023-02-15T08:12:51.174Z"
      },
      {
        "duration": 9,
        "start_time": "2023-02-15T08:13:05.649Z"
      },
      {
        "duration": 8,
        "start_time": "2023-02-15T08:13:32.300Z"
      },
      {
        "duration": 13,
        "start_time": "2023-02-15T08:15:22.624Z"
      },
      {
        "duration": 383,
        "start_time": "2023-02-15T08:15:32.422Z"
      },
      {
        "duration": 12,
        "start_time": "2023-02-15T08:15:42.125Z"
      },
      {
        "duration": 223,
        "start_time": "2023-02-15T08:15:50.936Z"
      },
      {
        "duration": 14,
        "start_time": "2023-02-15T08:16:04.397Z"
      },
      {
        "duration": 244,
        "start_time": "2023-02-15T08:16:07.372Z"
      },
      {
        "duration": 343,
        "start_time": "2023-02-15T08:16:21.426Z"
      },
      {
        "duration": 12,
        "start_time": "2023-02-15T08:16:29.737Z"
      },
      {
        "duration": 175,
        "start_time": "2023-02-15T08:16:32.881Z"
      },
      {
        "duration": 97,
        "start_time": "2023-02-15T08:17:05.419Z"
      },
      {
        "duration": 283,
        "start_time": "2023-02-15T08:17:15.622Z"
      },
      {
        "duration": 78,
        "start_time": "2023-02-15T08:18:42.074Z"
      },
      {
        "duration": 56,
        "start_time": "2023-02-15T08:18:50.802Z"
      },
      {
        "duration": 169,
        "start_time": "2023-02-15T08:19:04.530Z"
      },
      {
        "duration": 4,
        "start_time": "2023-02-15T08:19:15.503Z"
      },
      {
        "duration": 52,
        "start_time": "2023-02-15T08:19:28.677Z"
      },
      {
        "duration": 4,
        "start_time": "2023-02-15T08:19:32.038Z"
      },
      {
        "duration": 785,
        "start_time": "2023-02-15T08:19:44.604Z"
      },
      {
        "duration": 616,
        "start_time": "2023-02-15T08:19:57.741Z"
      },
      {
        "duration": 19,
        "start_time": "2023-02-15T08:23:09.392Z"
      },
      {
        "duration": 9,
        "start_time": "2023-02-15T08:24:40.663Z"
      },
      {
        "duration": 18,
        "start_time": "2023-02-15T08:25:08.127Z"
      },
      {
        "duration": 57,
        "start_time": "2023-02-15T08:25:42.474Z"
      },
      {
        "duration": 22,
        "start_time": "2023-02-15T08:25:53.395Z"
      },
      {
        "duration": 20,
        "start_time": "2023-02-15T08:26:05.864Z"
      },
      {
        "duration": 162,
        "start_time": "2023-02-15T08:26:50.064Z"
      },
      {
        "duration": 150,
        "start_time": "2023-02-15T08:28:33.921Z"
      },
      {
        "duration": 26,
        "start_time": "2023-02-15T08:30:42.920Z"
      },
      {
        "duration": 9,
        "start_time": "2023-02-15T08:31:03.335Z"
      },
      {
        "duration": 23,
        "start_time": "2023-02-15T08:31:23.633Z"
      },
      {
        "duration": 12,
        "start_time": "2023-02-15T08:33:23.490Z"
      },
      {
        "duration": 212,
        "start_time": "2023-02-15T08:33:35.876Z"
      },
      {
        "duration": 18,
        "start_time": "2023-02-15T08:33:56.486Z"
      },
      {
        "duration": 17,
        "start_time": "2023-02-15T08:34:14.392Z"
      },
      {
        "duration": 186,
        "start_time": "2023-02-15T08:34:31.709Z"
      },
      {
        "duration": 75,
        "start_time": "2023-02-15T08:34:44.489Z"
      },
      {
        "duration": 192,
        "start_time": "2023-02-15T08:34:59.177Z"
      },
      {
        "duration": 205,
        "start_time": "2023-02-15T08:35:05.548Z"
      },
      {
        "duration": 179,
        "start_time": "2023-02-15T08:35:11.203Z"
      },
      {
        "duration": 149,
        "start_time": "2023-02-15T08:35:20.690Z"
      },
      {
        "duration": 266,
        "start_time": "2023-02-15T08:35:35.892Z"
      },
      {
        "duration": 179,
        "start_time": "2023-02-15T08:36:01.942Z"
      },
      {
        "duration": 25,
        "start_time": "2023-02-15T08:36:07.729Z"
      },
      {
        "duration": 771,
        "start_time": "2023-02-15T08:36:15.919Z"
      },
      {
        "duration": 4,
        "start_time": "2023-02-15T08:59:52.893Z"
      },
      {
        "duration": 4,
        "start_time": "2023-02-15T09:05:14.370Z"
      },
      {
        "duration": 87,
        "start_time": "2023-02-15T09:08:56.475Z"
      },
      {
        "duration": 98,
        "start_time": "2023-02-15T09:10:51.038Z"
      },
      {
        "duration": 1655,
        "start_time": "2023-02-15T09:12:03.345Z"
      },
      {
        "duration": 108,
        "start_time": "2023-02-15T09:12:12.414Z"
      },
      {
        "duration": 382,
        "start_time": "2023-02-15T09:12:25.004Z"
      },
      {
        "duration": 852,
        "start_time": "2023-02-15T09:12:47.802Z"
      },
      {
        "duration": 297,
        "start_time": "2023-02-15T09:13:57.588Z"
      },
      {
        "duration": 3,
        "start_time": "2023-02-15T09:14:00.792Z"
      },
      {
        "duration": 14,
        "start_time": "2023-02-15T09:14:03.478Z"
      },
      {
        "duration": 52,
        "start_time": "2023-02-15T09:14:05.521Z"
      },
      {
        "duration": 508,
        "start_time": "2023-02-15T09:14:08.478Z"
      },
      {
        "duration": 156,
        "start_time": "2023-02-15T09:14:13.435Z"
      },
      {
        "duration": 6,
        "start_time": "2023-02-15T09:14:15.702Z"
      },
      {
        "duration": 2,
        "start_time": "2023-02-15T09:14:18.038Z"
      },
      {
        "duration": 627,
        "start_time": "2023-02-15T09:14:24.072Z"
      },
      {
        "duration": 89,
        "start_time": "2023-02-15T09:14:47.618Z"
      },
      {
        "duration": 182,
        "start_time": "2023-02-15T09:14:51.232Z"
      },
      {
        "duration": 4,
        "start_time": "2023-02-15T09:15:08.688Z"
      },
      {
        "duration": 3,
        "start_time": "2023-02-15T09:15:10.029Z"
      },
      {
        "duration": 280,
        "start_time": "2023-02-15T09:15:10.834Z"
      },
      {
        "duration": 4,
        "start_time": "2023-02-15T09:15:14.397Z"
      },
      {
        "duration": 14,
        "start_time": "2023-02-15T09:15:15.345Z"
      },
      {
        "duration": 126,
        "start_time": "2023-02-15T09:15:16.266Z"
      },
      {
        "duration": 507,
        "start_time": "2023-02-15T09:15:19.254Z"
      },
      {
        "duration": 382,
        "start_time": "2023-02-15T09:15:20.851Z"
      },
      {
        "duration": 158,
        "start_time": "2023-02-15T09:15:25.195Z"
      },
      {
        "duration": 5,
        "start_time": "2023-02-15T09:15:26.207Z"
      },
      {
        "duration": 4,
        "start_time": "2023-02-15T09:15:30.222Z"
      },
      {
        "duration": 315,
        "start_time": "2023-02-15T09:15:31.974Z"
      },
      {
        "duration": 105,
        "start_time": "2023-02-15T09:15:49.982Z"
      },
      {
        "duration": 108,
        "start_time": "2023-02-15T09:15:59.694Z"
      },
      {
        "duration": 167,
        "start_time": "2023-02-15T09:30:11.635Z"
      },
      {
        "duration": 108,
        "start_time": "2023-02-15T09:30:19.082Z"
      },
      {
        "duration": 3,
        "start_time": "2023-02-15T09:30:23.733Z"
      },
      {
        "duration": 265,
        "start_time": "2023-02-15T09:30:24.192Z"
      },
      {
        "duration": 4,
        "start_time": "2023-02-15T09:30:24.974Z"
      },
      {
        "duration": 11,
        "start_time": "2023-02-15T09:30:25.166Z"
      },
      {
        "duration": 54,
        "start_time": "2023-02-15T09:30:25.351Z"
      },
      {
        "duration": 373,
        "start_time": "2023-02-15T09:30:26.288Z"
      },
      {
        "duration": 384,
        "start_time": "2023-02-15T09:30:26.663Z"
      },
      {
        "duration": 209,
        "start_time": "2023-02-15T09:30:27.053Z"
      },
      {
        "duration": 4,
        "start_time": "2023-02-15T09:30:27.264Z"
      },
      {
        "duration": 3,
        "start_time": "2023-02-15T09:30:27.412Z"
      },
      {
        "duration": 531,
        "start_time": "2023-02-15T09:30:27.639Z"
      },
      {
        "duration": 716,
        "start_time": "2023-02-15T11:04:46.350Z"
      },
      {
        "duration": 15548,
        "start_time": "2023-02-15T11:04:47.068Z"
      },
      {
        "duration": 8496,
        "start_time": "2023-02-15T11:05:02.618Z"
      },
      {
        "duration": 82,
        "start_time": "2023-02-15T11:05:11.117Z"
      },
      {
        "duration": 110,
        "start_time": "2023-02-15T11:05:11.201Z"
      },
      {
        "duration": 810,
        "start_time": "2023-02-15T11:05:11.313Z"
      },
      {
        "duration": 2684,
        "start_time": "2023-02-15T11:05:12.125Z"
      },
      {
        "duration": 1443,
        "start_time": "2023-02-15T11:05:14.811Z"
      },
      {
        "duration": 575,
        "start_time": "2023-02-15T11:05:16.256Z"
      },
      {
        "duration": 70,
        "start_time": "2023-02-15T11:05:16.833Z"
      },
      {
        "duration": 8,
        "start_time": "2023-02-15T11:05:16.905Z"
      },
      {
        "duration": 107,
        "start_time": "2023-02-15T11:05:16.915Z"
      },
      {
        "duration": 0,
        "start_time": "2023-02-15T11:05:17.024Z"
      },
      {
        "duration": 5,
        "start_time": "2023-02-15T11:05:55.225Z"
      },
      {
        "duration": 1355,
        "start_time": "2023-02-15T11:06:01.077Z"
      },
      {
        "duration": 455,
        "start_time": "2023-02-15T11:06:05.255Z"
      },
      {
        "duration": 14,
        "start_time": "2023-02-15T11:08:42.468Z"
      },
      {
        "duration": 45,
        "start_time": "2023-02-15T11:09:22.727Z"
      },
      {
        "duration": 10,
        "start_time": "2023-02-15T11:09:33.546Z"
      },
      {
        "duration": 4,
        "start_time": "2023-02-15T11:09:37.662Z"
      },
      {
        "duration": 551,
        "start_time": "2023-02-15T11:09:40.579Z"
      },
      {
        "duration": 3457,
        "start_time": "2023-02-15T11:10:03.897Z"
      },
      {
        "duration": 87,
        "start_time": "2023-02-15T11:13:18.160Z"
      },
      {
        "duration": 728,
        "start_time": "2023-02-15T11:13:29.905Z"
      },
      {
        "duration": 15384,
        "start_time": "2023-02-15T11:13:30.635Z"
      },
      {
        "duration": 9200,
        "start_time": "2023-02-15T11:13:46.021Z"
      },
      {
        "duration": 91,
        "start_time": "2023-02-15T11:13:55.223Z"
      },
      {
        "duration": 115,
        "start_time": "2023-02-15T11:13:55.316Z"
      },
      {
        "duration": 794,
        "start_time": "2023-02-15T11:13:55.432Z"
      },
      {
        "duration": 2495,
        "start_time": "2023-02-15T11:13:56.228Z"
      },
      {
        "duration": 1198,
        "start_time": "2023-02-15T11:13:58.726Z"
      },
      {
        "duration": 674,
        "start_time": "2023-02-15T11:13:59.925Z"
      },
      {
        "duration": 6,
        "start_time": "2023-02-15T11:14:00.603Z"
      },
      {
        "duration": 88,
        "start_time": "2023-02-15T11:14:00.611Z"
      },
      {
        "duration": 1545,
        "start_time": "2023-02-15T11:14:00.701Z"
      },
      {
        "duration": 0,
        "start_time": "2023-02-15T11:14:02.300Z"
      },
      {
        "duration": 0,
        "start_time": "2023-02-15T11:14:02.301Z"
      },
      {
        "duration": 0,
        "start_time": "2023-02-15T11:14:02.302Z"
      },
      {
        "duration": 104,
        "start_time": "2023-02-15T11:14:41.617Z"
      },
      {
        "duration": 26,
        "start_time": "2023-02-15T11:14:49.964Z"
      },
      {
        "duration": 780,
        "start_time": "2023-02-15T11:15:31.339Z"
      },
      {
        "duration": 5,
        "start_time": "2023-02-15T11:15:32.347Z"
      },
      {
        "duration": 2,
        "start_time": "2023-02-15T11:15:32.565Z"
      },
      {
        "duration": 165,
        "start_time": "2023-02-15T11:15:33.738Z"
      },
      {
        "duration": 1479,
        "start_time": "2023-02-15T11:15:35.850Z"
      },
      {
        "duration": 992,
        "start_time": "2023-02-15T11:15:39.011Z"
      },
      {
        "duration": 518,
        "start_time": "2023-02-15T11:15:48.689Z"
      },
      {
        "duration": 10,
        "start_time": "2023-02-15T11:15:50.518Z"
      },
      {
        "duration": 4,
        "start_time": "2023-02-15T11:15:52.934Z"
      },
      {
        "duration": 88,
        "start_time": "2023-02-15T11:15:54.514Z"
      },
      {
        "duration": 18,
        "start_time": "2023-02-15T11:15:55.493Z"
      },
      {
        "duration": 48,
        "start_time": "2023-02-15T11:21:39.932Z"
      },
      {
        "duration": 3,
        "start_time": "2023-02-15T11:22:00.096Z"
      },
      {
        "duration": 56,
        "start_time": "2023-02-15T11:22:01.635Z"
      },
      {
        "duration": 48,
        "start_time": "2023-02-15T11:22:26.452Z"
      },
      {
        "duration": 1772,
        "start_time": "2023-02-15T11:23:02.636Z"
      },
      {
        "duration": 99,
        "start_time": "2023-02-15T11:23:35.865Z"
      },
      {
        "duration": 428,
        "start_time": "2023-02-15T11:23:46.118Z"
      },
      {
        "duration": 4,
        "start_time": "2023-02-15T11:23:47.302Z"
      },
      {
        "duration": 3,
        "start_time": "2023-02-15T11:23:47.703Z"
      },
      {
        "duration": 139,
        "start_time": "2023-02-15T11:23:48.093Z"
      },
      {
        "duration": 765,
        "start_time": "2023-02-15T11:23:49.654Z"
      },
      {
        "duration": 668,
        "start_time": "2023-02-15T11:23:50.421Z"
      },
      {
        "duration": 317,
        "start_time": "2023-02-15T11:23:52.009Z"
      },
      {
        "duration": 7,
        "start_time": "2023-02-15T11:23:53.283Z"
      },
      {
        "duration": 4,
        "start_time": "2023-02-15T11:23:54.685Z"
      },
      {
        "duration": 671,
        "start_time": "2023-02-15T11:23:55.734Z"
      },
      {
        "duration": 88,
        "start_time": "2023-02-15T11:24:10.332Z"
      },
      {
        "duration": 484,
        "start_time": "2023-02-15T11:24:31.358Z"
      },
      {
        "duration": 4,
        "start_time": "2023-02-15T11:24:32.469Z"
      },
      {
        "duration": 3,
        "start_time": "2023-02-15T11:24:32.997Z"
      },
      {
        "duration": 114,
        "start_time": "2023-02-15T11:24:33.517Z"
      },
      {
        "duration": 997,
        "start_time": "2023-02-15T11:24:36.309Z"
      },
      {
        "duration": 591,
        "start_time": "2023-02-15T11:24:37.309Z"
      },
      {
        "duration": 190,
        "start_time": "2023-02-15T11:24:38.845Z"
      },
      {
        "duration": 6,
        "start_time": "2023-02-15T11:24:40.090Z"
      },
      {
        "duration": 4,
        "start_time": "2023-02-15T11:24:41.504Z"
      },
      {
        "duration": 488,
        "start_time": "2023-02-15T11:24:42.432Z"
      },
      {
        "duration": 17,
        "start_time": "2023-02-15T11:24:50.274Z"
      },
      {
        "duration": 18,
        "start_time": "2023-02-15T11:25:04.514Z"
      },
      {
        "duration": 9,
        "start_time": "2023-02-15T11:26:16.018Z"
      },
      {
        "duration": 121,
        "start_time": "2023-02-15T11:26:29.137Z"
      },
      {
        "duration": 36,
        "start_time": "2023-02-15T11:26:46.180Z"
      },
      {
        "duration": 512,
        "start_time": "2023-02-15T11:26:49.408Z"
      },
      {
        "duration": 26,
        "start_time": "2023-02-15T11:27:13.718Z"
      },
      {
        "duration": 4283,
        "start_time": "2023-02-15T11:27:14.572Z"
      },
      {
        "duration": 1238,
        "start_time": "2023-02-15T11:30:56.671Z"
      },
      {
        "duration": 7,
        "start_time": "2023-02-15T11:31:01.953Z"
      },
      {
        "duration": 443,
        "start_time": "2023-02-15T11:31:05.174Z"
      },
      {
        "duration": 34,
        "start_time": "2023-02-15T11:33:11.655Z"
      },
      {
        "duration": 254,
        "start_time": "2023-02-15T11:33:35.961Z"
      },
      {
        "duration": 29,
        "start_time": "2023-02-15T11:36:10.394Z"
      },
      {
        "duration": 1844,
        "start_time": "2023-02-15T11:36:43.662Z"
      },
      {
        "duration": 2331,
        "start_time": "2023-02-15T11:36:50.400Z"
      },
      {
        "duration": 4,
        "start_time": "2023-02-15T11:39:08.104Z"
      },
      {
        "duration": 190,
        "start_time": "2023-02-15T11:40:50.036Z"
      },
      {
        "duration": 3676,
        "start_time": "2023-02-15T11:41:15.228Z"
      },
      {
        "duration": 32,
        "start_time": "2023-02-15T11:43:04.094Z"
      },
      {
        "duration": 167,
        "start_time": "2023-02-15T11:43:48.978Z"
      },
      {
        "duration": 153,
        "start_time": "2023-02-15T11:45:12.016Z"
      },
      {
        "duration": 145,
        "start_time": "2023-02-15T11:45:40.450Z"
      },
      {
        "duration": 162,
        "start_time": "2023-02-15T11:46:01.367Z"
      },
      {
        "duration": 307,
        "start_time": "2023-02-15T11:47:00.498Z"
      },
      {
        "duration": 2518,
        "start_time": "2023-02-15T11:47:25.755Z"
      },
      {
        "duration": 144,
        "start_time": "2023-02-15T11:47:33.318Z"
      },
      {
        "duration": 176,
        "start_time": "2023-02-15T11:53:38.556Z"
      },
      {
        "duration": 18,
        "start_time": "2023-02-15T11:53:50.135Z"
      },
      {
        "duration": 920,
        "start_time": "2023-02-15T11:56:38.413Z"
      },
      {
        "duration": 154,
        "start_time": "2023-02-15T11:57:10.348Z"
      },
      {
        "duration": 157,
        "start_time": "2023-02-15T11:57:23.390Z"
      },
      {
        "duration": 1051,
        "start_time": "2023-02-15T11:57:30.585Z"
      },
      {
        "duration": 744,
        "start_time": "2023-02-15T11:58:25.710Z"
      },
      {
        "duration": 90,
        "start_time": "2023-02-15T12:02:58.164Z"
      },
      {
        "duration": 6,
        "start_time": "2023-02-15T12:05:31.139Z"
      },
      {
        "duration": 82,
        "start_time": "2023-02-15T12:05:43.057Z"
      },
      {
        "duration": 840,
        "start_time": "2023-02-15T12:05:55.298Z"
      },
      {
        "duration": 51,
        "start_time": "2023-02-15T12:06:47.972Z"
      },
      {
        "duration": 558,
        "start_time": "2023-02-15T12:06:54.354Z"
      },
      {
        "duration": 1020,
        "start_time": "2023-02-15T12:07:32.031Z"
      },
      {
        "duration": 577,
        "start_time": "2023-02-15T12:07:56.224Z"
      },
      {
        "duration": 9,
        "start_time": "2023-02-15T12:09:10.011Z"
      },
      {
        "duration": 2332,
        "start_time": "2023-02-15T12:09:43.698Z"
      },
      {
        "duration": 2650,
        "start_time": "2023-02-15T12:09:55.512Z"
      },
      {
        "duration": 2925,
        "start_time": "2023-02-15T12:10:17.184Z"
      },
      {
        "duration": 3610,
        "start_time": "2023-02-15T12:10:42.998Z"
      },
      {
        "duration": 1750,
        "start_time": "2023-02-15T12:12:46.416Z"
      },
      {
        "duration": 445,
        "start_time": "2023-02-15T12:12:50.199Z"
      },
      {
        "duration": 1447,
        "start_time": "2023-02-15T12:12:53.270Z"
      },
      {
        "duration": 3675,
        "start_time": "2023-02-15T12:18:48.577Z"
      },
      {
        "duration": 2082,
        "start_time": "2023-02-15T12:21:48.639Z"
      },
      {
        "duration": 581,
        "start_time": "2023-02-15T12:21:50.724Z"
      },
      {
        "duration": 1371,
        "start_time": "2023-02-15T12:21:54.387Z"
      },
      {
        "duration": 3278,
        "start_time": "2023-02-15T12:23:20.449Z"
      },
      {
        "duration": 3272,
        "start_time": "2023-02-15T12:23:57.927Z"
      },
      {
        "duration": 1187,
        "start_time": "2023-02-15T12:24:29.256Z"
      },
      {
        "duration": 3017,
        "start_time": "2023-02-15T12:25:18.767Z"
      },
      {
        "duration": 3532,
        "start_time": "2023-02-15T12:25:50.536Z"
      },
      {
        "duration": 2801,
        "start_time": "2023-02-15T12:26:08.798Z"
      },
      {
        "duration": 3094,
        "start_time": "2023-02-15T12:26:30.675Z"
      },
      {
        "duration": 706,
        "start_time": "2023-02-15T12:27:30.031Z"
      },
      {
        "duration": 15481,
        "start_time": "2023-02-15T12:27:30.739Z"
      },
      {
        "duration": 8199,
        "start_time": "2023-02-15T12:27:46.222Z"
      },
      {
        "duration": 77,
        "start_time": "2023-02-15T12:27:54.423Z"
      },
      {
        "duration": 4,
        "start_time": "2023-02-15T12:27:54.502Z"
      },
      {
        "duration": 727,
        "start_time": "2023-02-15T12:27:54.509Z"
      },
      {
        "duration": 2500,
        "start_time": "2023-02-15T12:27:55.299Z"
      },
      {
        "duration": 1250,
        "start_time": "2023-02-15T12:27:57.801Z"
      },
      {
        "duration": 747,
        "start_time": "2023-02-15T12:27:59.053Z"
      },
      {
        "duration": 6,
        "start_time": "2023-02-15T12:27:59.803Z"
      },
      {
        "duration": 30,
        "start_time": "2023-02-15T12:27:59.811Z"
      },
      {
        "duration": 2176,
        "start_time": "2023-02-15T12:27:59.843Z"
      },
      {
        "duration": 115,
        "start_time": "2023-02-15T12:28:02.021Z"
      },
      {
        "duration": 871,
        "start_time": "2023-02-15T12:28:02.139Z"
      },
      {
        "duration": 95,
        "start_time": "2023-02-15T12:28:03.012Z"
      },
      {
        "duration": 1528,
        "start_time": "2023-02-15T12:28:03.109Z"
      },
      {
        "duration": 80,
        "start_time": "2023-02-15T12:28:04.639Z"
      },
      {
        "duration": 537,
        "start_time": "2023-02-15T12:28:04.721Z"
      },
      {
        "duration": 3513,
        "start_time": "2023-02-15T12:28:05.298Z"
      },
      {
        "duration": 4892,
        "start_time": "2023-02-15T12:28:08.813Z"
      },
      {
        "duration": 1403,
        "start_time": "2023-02-15T12:28:13.707Z"
      },
      {
        "duration": 2994,
        "start_time": "2023-02-15T12:28:15.112Z"
      },
      {
        "duration": 7399,
        "start_time": "2023-02-15T12:28:18.108Z"
      },
      {
        "duration": 167,
        "start_time": "2023-02-15T12:45:19.946Z"
      },
      {
        "duration": 420,
        "start_time": "2023-02-15T12:49:22.910Z"
      },
      {
        "duration": 93,
        "start_time": "2023-02-15T12:49:53.217Z"
      },
      {
        "duration": 9,
        "start_time": "2023-02-15T12:50:01.664Z"
      },
      {
        "duration": 9669,
        "start_time": "2023-02-15T12:50:37.029Z"
      },
      {
        "duration": 2,
        "start_time": "2023-02-15T12:52:41.231Z"
      },
      {
        "duration": 582,
        "start_time": "2023-02-15T12:52:44.035Z"
      },
      {
        "duration": 22,
        "start_time": "2023-02-15T12:52:47.662Z"
      },
      {
        "duration": 114,
        "start_time": "2023-02-15T12:52:50.191Z"
      },
      {
        "duration": 100,
        "start_time": "2023-02-15T12:52:53.325Z"
      },
      {
        "duration": 336,
        "start_time": "2023-02-15T12:53:01.235Z"
      },
      {
        "duration": 5,
        "start_time": "2023-02-15T12:53:05.307Z"
      },
      {
        "duration": 94,
        "start_time": "2023-02-15T12:53:09.330Z"
      },
      {
        "duration": 575,
        "start_time": "2023-02-15T12:53:12.259Z"
      },
      {
        "duration": 518,
        "start_time": "2023-02-15T12:53:15.512Z"
      },
      {
        "duration": 146,
        "start_time": "2023-02-15T12:53:18.778Z"
      },
      {
        "duration": 5,
        "start_time": "2023-02-15T12:53:21.272Z"
      },
      {
        "duration": 3,
        "start_time": "2023-02-15T12:53:23.454Z"
      },
      {
        "duration": 377,
        "start_time": "2023-02-15T12:53:25.253Z"
      },
      {
        "duration": 20,
        "start_time": "2023-02-15T12:53:27.782Z"
      },
      {
        "duration": 108,
        "start_time": "2023-02-15T12:53:29.667Z"
      },
      {
        "duration": 22,
        "start_time": "2023-02-15T12:53:32.041Z"
      },
      {
        "duration": 628,
        "start_time": "2023-02-15T12:53:34.406Z"
      },
      {
        "duration": 22,
        "start_time": "2023-02-15T12:53:36.914Z"
      },
      {
        "duration": 277,
        "start_time": "2023-02-15T12:53:39.129Z"
      },
      {
        "duration": 2086,
        "start_time": "2023-02-15T12:53:42.734Z"
      },
      {
        "duration": 2871,
        "start_time": "2023-02-15T12:53:47.396Z"
      },
      {
        "duration": 927,
        "start_time": "2023-02-15T12:53:50.269Z"
      },
      {
        "duration": 2190,
        "start_time": "2023-02-15T12:54:01.078Z"
      },
      {
        "duration": 5277,
        "start_time": "2023-02-15T12:54:07.522Z"
      },
      {
        "duration": 10,
        "start_time": "2023-02-15T12:57:24.338Z"
      },
      {
        "duration": 348,
        "start_time": "2023-02-15T12:57:37.802Z"
      },
      {
        "duration": 3,
        "start_time": "2023-02-15T12:57:41.165Z"
      },
      {
        "duration": 5572,
        "start_time": "2023-02-15T12:57:43.657Z"
      },
      {
        "duration": 239,
        "start_time": "2023-02-15T12:57:49.576Z"
      },
      {
        "duration": 475,
        "start_time": "2023-02-15T12:57:58.296Z"
      },
      {
        "duration": 148,
        "start_time": "2023-02-15T12:57:59.861Z"
      },
      {
        "duration": 69,
        "start_time": "2023-02-15T12:58:03.688Z"
      },
      {
        "duration": 404,
        "start_time": "2023-02-15T12:58:06.407Z"
      },
      {
        "duration": 437,
        "start_time": "2023-02-15T12:58:07.307Z"
      },
      {
        "duration": 180,
        "start_time": "2023-02-15T12:58:10.584Z"
      },
      {
        "duration": 9,
        "start_time": "2023-02-15T12:58:13.270Z"
      },
      {
        "duration": 10,
        "start_time": "2023-02-15T12:59:42.129Z"
      },
      {
        "duration": 9,
        "start_time": "2023-02-15T12:59:52.255Z"
      },
      {
        "duration": 8,
        "start_time": "2023-02-15T13:01:47.391Z"
      },
      {
        "duration": 27,
        "start_time": "2023-02-15T13:02:02.002Z"
      },
      {
        "duration": 9,
        "start_time": "2023-02-15T13:02:20.475Z"
      },
      {
        "duration": 209,
        "start_time": "2023-02-15T13:02:45.848Z"
      },
      {
        "duration": 4,
        "start_time": "2023-02-15T13:02:46.895Z"
      },
      {
        "duration": 4561,
        "start_time": "2023-02-15T13:02:47.100Z"
      },
      {
        "duration": 105,
        "start_time": "2023-02-15T13:02:51.699Z"
      },
      {
        "duration": 459,
        "start_time": "2023-02-15T13:02:51.806Z"
      },
      {
        "duration": 582,
        "start_time": "2023-02-15T13:02:52.267Z"
      },
      {
        "duration": 134,
        "start_time": "2023-02-15T13:02:52.850Z"
      },
      {
        "duration": 18,
        "start_time": "2023-02-15T13:02:52.986Z"
      },
      {
        "duration": 3,
        "start_time": "2023-02-15T13:03:03.422Z"
      },
      {
        "duration": 387,
        "start_time": "2023-02-15T13:03:05.628Z"
      },
      {
        "duration": 17,
        "start_time": "2023-02-15T13:03:06.061Z"
      },
      {
        "duration": 83,
        "start_time": "2023-02-15T13:03:06.260Z"
      },
      {
        "duration": 19,
        "start_time": "2023-02-15T13:03:06.698Z"
      },
      {
        "duration": 373,
        "start_time": "2023-02-15T13:03:06.955Z"
      },
      {
        "duration": 75,
        "start_time": "2023-02-15T13:03:07.330Z"
      },
      {
        "duration": 149,
        "start_time": "2023-02-15T13:03:07.407Z"
      },
      {
        "duration": 1927,
        "start_time": "2023-02-15T13:03:07.989Z"
      },
      {
        "duration": 2500,
        "start_time": "2023-02-15T13:03:09.919Z"
      },
      {
        "duration": 743,
        "start_time": "2023-02-15T13:03:12.421Z"
      },
      {
        "duration": 1767,
        "start_time": "2023-02-15T13:03:13.167Z"
      },
      {
        "duration": 4484,
        "start_time": "2023-02-15T13:03:14.936Z"
      },
      {
        "duration": 764,
        "start_time": "2023-02-16T05:49:17.711Z"
      },
      {
        "duration": 20434,
        "start_time": "2023-02-16T05:49:18.477Z"
      },
      {
        "duration": 9281,
        "start_time": "2023-02-16T05:49:38.914Z"
      },
      {
        "duration": 87,
        "start_time": "2023-02-16T05:49:48.197Z"
      },
      {
        "duration": 12298,
        "start_time": "2023-02-16T05:49:48.287Z"
      },
      {
        "duration": 598,
        "start_time": "2023-02-16T05:50:00.587Z"
      },
      {
        "duration": 1424,
        "start_time": "2023-02-16T05:50:01.187Z"
      },
      {
        "duration": 1265,
        "start_time": "2023-02-16T05:50:02.613Z"
      },
      {
        "duration": 639,
        "start_time": "2023-02-16T05:50:03.880Z"
      },
      {
        "duration": 22,
        "start_time": "2023-02-16T05:50:04.585Z"
      },
      {
        "duration": 3,
        "start_time": "2023-02-16T05:50:04.609Z"
      },
      {
        "duration": 1899,
        "start_time": "2023-02-16T05:50:04.614Z"
      },
      {
        "duration": 95,
        "start_time": "2023-02-16T05:50:06.515Z"
      },
      {
        "duration": 488,
        "start_time": "2023-02-16T05:50:06.612Z"
      },
      {
        "duration": 84,
        "start_time": "2023-02-16T05:50:07.102Z"
      },
      {
        "duration": 1225,
        "start_time": "2023-02-16T05:50:07.188Z"
      },
      {
        "duration": 91,
        "start_time": "2023-02-16T05:50:08.415Z"
      },
      {
        "duration": 435,
        "start_time": "2023-02-16T05:50:08.508Z"
      },
      {
        "duration": 3174,
        "start_time": "2023-02-16T05:50:08.945Z"
      },
      {
        "duration": 3866,
        "start_time": "2023-02-16T05:50:12.121Z"
      },
      {
        "duration": 828,
        "start_time": "2023-02-16T05:50:15.989Z"
      },
      {
        "duration": 2299,
        "start_time": "2023-02-16T05:50:16.819Z"
      },
      {
        "duration": 6175,
        "start_time": "2023-02-16T05:50:19.119Z"
      },
      {
        "duration": 317,
        "start_time": "2023-02-16T05:58:05.374Z"
      },
      {
        "duration": 4,
        "start_time": "2023-02-16T05:58:07.431Z"
      },
      {
        "duration": 4,
        "start_time": "2023-02-16T05:58:44.050Z"
      },
      {
        "duration": 8,
        "start_time": "2023-02-16T05:58:44.056Z"
      },
      {
        "duration": 366,
        "start_time": "2023-02-16T05:58:44.066Z"
      },
      {
        "duration": 49,
        "start_time": "2023-02-16T05:58:44.435Z"
      },
      {
        "duration": 4,
        "start_time": "2023-02-16T05:58:52.462Z"
      },
      {
        "duration": 4,
        "start_time": "2023-02-16T05:59:25.742Z"
      },
      {
        "duration": 345,
        "start_time": "2023-02-16T05:59:26.374Z"
      },
      {
        "duration": 4,
        "start_time": "2023-02-16T05:59:28.422Z"
      },
      {
        "duration": 788,
        "start_time": "2023-02-16T05:59:44.802Z"
      },
      {
        "duration": 4,
        "start_time": "2023-02-16T05:59:46.903Z"
      },
      {
        "duration": 582,
        "start_time": "2023-02-16T06:00:22.142Z"
      },
      {
        "duration": 4,
        "start_time": "2023-02-16T06:00:23.515Z"
      },
      {
        "duration": 263,
        "start_time": "2023-02-16T06:00:40.963Z"
      },
      {
        "duration": 5,
        "start_time": "2023-02-16T06:00:42.094Z"
      },
      {
        "duration": 275,
        "start_time": "2023-02-16T06:00:52.635Z"
      },
      {
        "duration": 3,
        "start_time": "2023-02-16T06:00:53.845Z"
      },
      {
        "duration": 265,
        "start_time": "2023-02-16T06:01:47.762Z"
      },
      {
        "duration": 113,
        "start_time": "2023-02-16T06:05:24.282Z"
      },
      {
        "duration": 4,
        "start_time": "2023-02-16T06:05:27.015Z"
      },
      {
        "duration": 15,
        "start_time": "2023-02-16T06:08:32.942Z"
      },
      {
        "duration": 4,
        "start_time": "2023-02-16T06:08:50.542Z"
      },
      {
        "duration": 199,
        "start_time": "2023-02-16T06:17:30.693Z"
      },
      {
        "duration": 44,
        "start_time": "2023-02-16T09:42:43.314Z"
      },
      {
        "duration": 6,
        "start_time": "2023-02-16T09:42:44.587Z"
      },
      {
        "duration": 703,
        "start_time": "2023-02-16T09:42:51.324Z"
      },
      {
        "duration": 20755,
        "start_time": "2023-02-16T09:42:55.879Z"
      },
      {
        "duration": 10242,
        "start_time": "2023-02-16T09:43:19.637Z"
      },
      {
        "duration": 882,
        "start_time": "2023-02-16T09:43:56.352Z"
      },
      {
        "duration": 4,
        "start_time": "2023-02-16T09:44:08.222Z"
      },
      {
        "duration": 1261,
        "start_time": "2023-02-16T09:44:09.728Z"
      },
      {
        "duration": 15,
        "start_time": "2023-02-16T09:44:18.582Z"
      },
      {
        "duration": 751,
        "start_time": "2023-02-16T09:45:24.732Z"
      },
      {
        "duration": 3,
        "start_time": "2023-02-16T09:45:30.436Z"
      },
      {
        "duration": 657,
        "start_time": "2023-02-16T09:45:38.158Z"
      },
      {
        "duration": 3,
        "start_time": "2023-02-16T09:45:59.123Z"
      },
      {
        "duration": 645,
        "start_time": "2023-02-16T09:46:03.946Z"
      },
      {
        "duration": 3,
        "start_time": "2023-02-16T09:46:12.851Z"
      },
      {
        "duration": 4,
        "start_time": "2023-02-16T09:46:35.127Z"
      },
      {
        "duration": 862,
        "start_time": "2023-02-16T09:46:38.268Z"
      },
      {
        "duration": 4,
        "start_time": "2023-02-16T09:46:42.826Z"
      },
      {
        "duration": 6456,
        "start_time": "2023-02-16T09:47:19.328Z"
      },
      {
        "duration": 23432,
        "start_time": "2023-02-16T09:47:29.974Z"
      },
      {
        "duration": 6516,
        "start_time": "2023-02-16T09:48:14.282Z"
      },
      {
        "duration": 623,
        "start_time": "2023-02-16T11:04:02.871Z"
      },
      {
        "duration": 7150,
        "start_time": "2023-02-16T11:04:21.339Z"
      },
      {
        "duration": 13121,
        "start_time": "2023-02-16T11:47:26.460Z"
      },
      {
        "duration": 1386,
        "start_time": "2023-02-16T11:47:59.331Z"
      },
      {
        "duration": 1968,
        "start_time": "2023-02-16T11:48:06.705Z"
      },
      {
        "duration": 30,
        "start_time": "2023-02-16T11:48:36.207Z"
      },
      {
        "duration": 15,
        "start_time": "2023-02-16T11:49:07.367Z"
      },
      {
        "duration": 15,
        "start_time": "2023-02-16T11:49:17.905Z"
      },
      {
        "duration": 16,
        "start_time": "2023-02-16T11:49:22.764Z"
      },
      {
        "duration": 67,
        "start_time": "2023-02-16T11:49:26.207Z"
      },
      {
        "duration": 66,
        "start_time": "2023-02-16T11:49:32.428Z"
      },
      {
        "duration": 10454,
        "start_time": "2023-02-16T11:49:41.916Z"
      },
      {
        "duration": 1169,
        "start_time": "2023-02-16T11:49:55.245Z"
      },
      {
        "duration": 95,
        "start_time": "2023-02-16T11:50:10.030Z"
      },
      {
        "duration": 16,
        "start_time": "2023-02-16T11:50:20.919Z"
      },
      {
        "duration": 15,
        "start_time": "2023-02-16T11:50:30.583Z"
      },
      {
        "duration": 25,
        "start_time": "2023-02-16T11:50:35.478Z"
      },
      {
        "duration": 3479,
        "start_time": "2023-02-16T11:50:43.107Z"
      },
      {
        "duration": 3287,
        "start_time": "2023-02-16T11:50:58.616Z"
      },
      {
        "duration": 171,
        "start_time": "2023-02-16T11:51:13.655Z"
      },
      {
        "duration": 1046,
        "start_time": "2023-02-16T11:56:51.280Z"
      },
      {
        "duration": 94,
        "start_time": "2023-02-16T11:57:04.526Z"
      },
      {
        "duration": 177,
        "start_time": "2023-02-16T11:57:17.020Z"
      },
      {
        "duration": 172,
        "start_time": "2023-02-16T11:57:21.362Z"
      },
      {
        "duration": 1815,
        "start_time": "2023-02-16T11:57:33.875Z"
      },
      {
        "duration": 1664,
        "start_time": "2023-02-16T11:57:46.655Z"
      },
      {
        "duration": 16,
        "start_time": "2023-02-16T11:58:15.972Z"
      },
      {
        "duration": 12488,
        "start_time": "2023-02-16T11:58:20.629Z"
      },
      {
        "duration": 11504,
        "start_time": "2023-02-16T11:59:02.232Z"
      },
      {
        "duration": 969,
        "start_time": "2023-02-16T11:59:15.840Z"
      },
      {
        "duration": 10114,
        "start_time": "2023-02-16T11:59:23.922Z"
      },
      {
        "duration": 10977,
        "start_time": "2023-02-16T11:59:51.643Z"
      },
      {
        "duration": 10987,
        "start_time": "2023-02-16T12:00:12.544Z"
      },
      {
        "duration": 11098,
        "start_time": "2023-02-16T12:01:16.794Z"
      },
      {
        "duration": 8,
        "start_time": "2023-02-16T12:05:29.865Z"
      },
      {
        "duration": 9,
        "start_time": "2023-02-16T12:05:39.848Z"
      },
      {
        "duration": 9,
        "start_time": "2023-02-16T12:05:44.961Z"
      },
      {
        "duration": 768,
        "start_time": "2023-02-16T12:05:51.946Z"
      },
      {
        "duration": 277,
        "start_time": "2023-02-16T12:07:11.943Z"
      },
      {
        "duration": 270,
        "start_time": "2023-02-16T12:07:16.815Z"
      },
      {
        "duration": 364,
        "start_time": "2023-02-16T12:10:12.362Z"
      },
      {
        "duration": 162,
        "start_time": "2023-02-16T12:12:41.435Z"
      },
      {
        "duration": 159,
        "start_time": "2023-02-16T12:12:48.096Z"
      },
      {
        "duration": 171,
        "start_time": "2023-02-16T12:13:17.911Z"
      },
      {
        "duration": 149,
        "start_time": "2023-02-16T12:13:24.045Z"
      },
      {
        "duration": 302,
        "start_time": "2023-02-16T12:13:27.984Z"
      },
      {
        "duration": 159,
        "start_time": "2023-02-16T12:13:45.639Z"
      },
      {
        "duration": 144,
        "start_time": "2023-02-16T12:13:49.675Z"
      },
      {
        "duration": 412,
        "start_time": "2023-02-16T12:14:12.177Z"
      },
      {
        "duration": 296,
        "start_time": "2023-02-16T12:14:24.445Z"
      },
      {
        "duration": 150,
        "start_time": "2023-02-16T12:17:11.750Z"
      },
      {
        "duration": 165,
        "start_time": "2023-02-16T12:17:18.831Z"
      },
      {
        "duration": 174,
        "start_time": "2023-02-16T12:17:48.769Z"
      },
      {
        "duration": 254,
        "start_time": "2023-02-16T12:17:57.533Z"
      },
      {
        "duration": 556,
        "start_time": "2023-02-16T12:18:12.325Z"
      },
      {
        "duration": 270,
        "start_time": "2023-02-16T12:18:27.378Z"
      },
      {
        "duration": 260,
        "start_time": "2023-02-16T12:19:09.010Z"
      },
      {
        "duration": 281,
        "start_time": "2023-02-16T12:19:44.292Z"
      },
      {
        "duration": 12,
        "start_time": "2023-02-16T12:19:48.922Z"
      },
      {
        "duration": 283,
        "start_time": "2023-02-16T12:24:43.171Z"
      },
      {
        "duration": 252,
        "start_time": "2023-02-16T12:24:58.840Z"
      },
      {
        "duration": 4,
        "start_time": "2023-02-16T12:25:07.673Z"
      },
      {
        "duration": 475,
        "start_time": "2023-02-16T12:25:55.123Z"
      },
      {
        "duration": 1809,
        "start_time": "2023-02-16T12:26:09.603Z"
      },
      {
        "duration": 12,
        "start_time": "2023-02-16T12:26:25.032Z"
      },
      {
        "duration": 11,
        "start_time": "2023-02-16T12:26:31.544Z"
      },
      {
        "duration": 3,
        "start_time": "2023-02-16T12:26:36.192Z"
      },
      {
        "duration": 265,
        "start_time": "2023-02-16T12:26:42.479Z"
      },
      {
        "duration": 372,
        "start_time": "2023-02-16T12:27:09.032Z"
      },
      {
        "duration": 945,
        "start_time": "2023-02-16T12:28:40.123Z"
      },
      {
        "duration": 325,
        "start_time": "2023-02-16T12:29:43.490Z"
      },
      {
        "duration": 8,
        "start_time": "2023-02-16T12:51:09.592Z"
      },
      {
        "duration": 323,
        "start_time": "2023-02-16T12:51:51.958Z"
      },
      {
        "duration": 8,
        "start_time": "2023-02-16T12:51:58.426Z"
      },
      {
        "duration": 9,
        "start_time": "2023-02-16T12:52:07.562Z"
      },
      {
        "duration": 9,
        "start_time": "2023-02-16T12:52:31.381Z"
      },
      {
        "duration": 175,
        "start_time": "2023-02-16T12:52:39.287Z"
      },
      {
        "duration": 288,
        "start_time": "2023-02-16T13:07:49.134Z"
      },
      {
        "duration": 51,
        "start_time": "2023-02-16T13:08:39.517Z"
      },
      {
        "duration": 8,
        "start_time": "2023-02-16T13:09:12.593Z"
      },
      {
        "duration": 370,
        "start_time": "2023-02-16T13:11:09.656Z"
      },
      {
        "duration": 275,
        "start_time": "2023-02-16T13:12:35.095Z"
      },
      {
        "duration": 13,
        "start_time": "2023-02-16T13:14:35.269Z"
      },
      {
        "duration": 18,
        "start_time": "2023-02-16T13:14:57.268Z"
      },
      {
        "duration": 15,
        "start_time": "2023-02-16T13:15:06.084Z"
      },
      {
        "duration": 329,
        "start_time": "2023-02-16T13:15:25.965Z"
      },
      {
        "duration": 24,
        "start_time": "2023-02-16T13:15:32.496Z"
      },
      {
        "duration": 8,
        "start_time": "2023-02-16T13:15:47.017Z"
      },
      {
        "duration": 566,
        "start_time": "2023-02-16T13:15:56.513Z"
      },
      {
        "duration": 8,
        "start_time": "2023-02-16T13:16:03.562Z"
      },
      {
        "duration": 95,
        "start_time": "2023-02-16T13:16:08.673Z"
      },
      {
        "duration": 4,
        "start_time": "2023-02-16T13:16:11.502Z"
      },
      {
        "duration": 250,
        "start_time": "2023-02-16T13:16:29.726Z"
      },
      {
        "duration": 49,
        "start_time": "2023-02-16T13:16:32.119Z"
      },
      {
        "duration": 315,
        "start_time": "2023-02-16T13:17:09.073Z"
      },
      {
        "duration": 26,
        "start_time": "2023-02-16T13:17:12.413Z"
      },
      {
        "duration": 11,
        "start_time": "2023-02-16T13:17:33.490Z"
      },
      {
        "duration": 11,
        "start_time": "2023-02-16T13:17:38.962Z"
      },
      {
        "duration": 285,
        "start_time": "2023-02-16T13:17:55.098Z"
      },
      {
        "duration": 9,
        "start_time": "2023-02-16T13:17:57.276Z"
      },
      {
        "duration": 12,
        "start_time": "2023-02-16T13:18:05.931Z"
      },
      {
        "duration": 168,
        "start_time": "2023-02-16T13:18:13.319Z"
      },
      {
        "duration": 9,
        "start_time": "2023-02-16T13:18:15.457Z"
      },
      {
        "duration": 8,
        "start_time": "2023-02-16T13:18:23.035Z"
      },
      {
        "duration": 57,
        "start_time": "2023-02-16T13:18:35.183Z"
      },
      {
        "duration": 45,
        "start_time": "2023-02-16T13:18:47.699Z"
      },
      {
        "duration": 34,
        "start_time": "2023-02-16T13:18:54.185Z"
      },
      {
        "duration": 14,
        "start_time": "2023-02-16T13:19:46.744Z"
      },
      {
        "duration": 12,
        "start_time": "2023-02-16T13:20:04.983Z"
      },
      {
        "duration": 10,
        "start_time": "2023-02-16T13:20:10.081Z"
      },
      {
        "duration": 11,
        "start_time": "2023-02-16T13:20:17.157Z"
      },
      {
        "duration": 262,
        "start_time": "2023-02-16T13:20:49.363Z"
      },
      {
        "duration": 4,
        "start_time": "2023-02-16T13:20:54.439Z"
      },
      {
        "duration": 15,
        "start_time": "2023-02-16T13:22:15.682Z"
      },
      {
        "duration": 101,
        "start_time": "2023-02-16T13:22:19.482Z"
      },
      {
        "duration": 14,
        "start_time": "2023-02-16T13:23:41.951Z"
      },
      {
        "duration": 187,
        "start_time": "2023-02-16T13:23:48.900Z"
      },
      {
        "duration": 461,
        "start_time": "2023-02-16T13:24:15.354Z"
      },
      {
        "duration": 767,
        "start_time": "2023-02-16T13:25:58.990Z"
      },
      {
        "duration": 42,
        "start_time": "2023-02-16T13:26:34.852Z"
      },
      {
        "duration": 21,
        "start_time": "2023-02-16T13:27:13.935Z"
      },
      {
        "duration": 7,
        "start_time": "2023-02-16T13:30:13.100Z"
      },
      {
        "duration": 10,
        "start_time": "2023-02-16T13:30:17.257Z"
      },
      {
        "duration": 9,
        "start_time": "2023-02-16T13:30:23.078Z"
      },
      {
        "duration": 9,
        "start_time": "2023-02-16T13:30:31.582Z"
      },
      {
        "duration": 18,
        "start_time": "2023-02-16T13:30:46.932Z"
      },
      {
        "duration": 15,
        "start_time": "2023-02-16T13:31:09.208Z"
      },
      {
        "duration": 10,
        "start_time": "2023-02-16T13:36:19.284Z"
      },
      {
        "duration": 3,
        "start_time": "2023-02-16T13:36:20.538Z"
      },
      {
        "duration": 511,
        "start_time": "2023-02-16T13:36:20.701Z"
      },
      {
        "duration": 378,
        "start_time": "2023-02-16T13:36:21.420Z"
      },
      {
        "duration": 4,
        "start_time": "2023-02-16T13:36:21.800Z"
      },
      {
        "duration": 11984,
        "start_time": "2023-02-16T13:36:21.806Z"
      },
      {
        "duration": 86,
        "start_time": "2023-02-16T13:36:33.792Z"
      },
      {
        "duration": 458,
        "start_time": "2023-02-16T13:36:33.880Z"
      },
      {
        "duration": 729,
        "start_time": "2023-02-16T13:36:34.340Z"
      },
      {
        "duration": 197,
        "start_time": "2023-02-16T13:36:42.341Z"
      },
      {
        "duration": 14,
        "start_time": "2023-02-16T13:36:43.308Z"
      },
      {
        "duration": 2,
        "start_time": "2023-02-16T13:36:45.948Z"
      },
      {
        "duration": 2,
        "start_time": "2023-02-16T13:36:50.231Z"
      },
      {
        "duration": 218,
        "start_time": "2023-02-16T13:37:33.477Z"
      },
      {
        "duration": 1342,
        "start_time": "2023-02-16T13:38:35.949Z"
      },
      {
        "duration": 357,
        "start_time": "2023-02-16T13:38:53.523Z"
      },
      {
        "duration": 384,
        "start_time": "2023-02-16T13:39:09.084Z"
      },
      {
        "duration": 1796,
        "start_time": "2023-02-16T13:43:04.402Z"
      },
      {
        "duration": 113,
        "start_time": "2023-02-16T13:43:49.728Z"
      },
      {
        "duration": 574,
        "start_time": "2023-02-16T13:44:04.636Z"
      },
      {
        "duration": 418,
        "start_time": "2023-02-16T13:44:07.680Z"
      },
      {
        "duration": 113,
        "start_time": "2023-02-16T13:44:23.419Z"
      },
      {
        "duration": 419,
        "start_time": "2023-02-16T13:44:28.006Z"
      },
      {
        "duration": 887,
        "start_time": "2023-02-16T13:44:30.612Z"
      },
      {
        "duration": 139,
        "start_time": "2023-02-16T13:45:21.926Z"
      },
      {
        "duration": 394,
        "start_time": "2023-02-16T13:45:25.146Z"
      },
      {
        "duration": 359,
        "start_time": "2023-02-16T13:45:27.345Z"
      },
      {
        "duration": 118,
        "start_time": "2023-02-16T13:45:51.875Z"
      },
      {
        "duration": 438,
        "start_time": "2023-02-16T13:45:54.936Z"
      },
      {
        "duration": 1213,
        "start_time": "2023-02-16T13:45:57.264Z"
      },
      {
        "duration": 143,
        "start_time": "2023-02-16T13:50:22.732Z"
      },
      {
        "duration": 108,
        "start_time": "2023-02-16T13:51:21.731Z"
      },
      {
        "duration": 4,
        "start_time": "2023-02-16T13:51:25.233Z"
      },
      {
        "duration": 5,
        "start_time": "2023-02-16T13:51:42.810Z"
      },
      {
        "duration": 157,
        "start_time": "2023-02-16T13:52:22.519Z"
      },
      {
        "duration": 401,
        "start_time": "2023-02-16T13:52:33.814Z"
      },
      {
        "duration": 4,
        "start_time": "2023-02-16T13:52:35.501Z"
      },
      {
        "duration": 514,
        "start_time": "2023-02-16T13:52:39.359Z"
      },
      {
        "duration": 4,
        "start_time": "2023-02-16T13:53:14.642Z"
      },
      {
        "duration": 425,
        "start_time": "2023-02-16T13:53:16.685Z"
      },
      {
        "duration": 8,
        "start_time": "2023-02-16T13:53:34.948Z"
      },
      {
        "duration": 376,
        "start_time": "2023-02-16T13:53:37.019Z"
      },
      {
        "duration": 551,
        "start_time": "2023-02-16T13:53:48.716Z"
      },
      {
        "duration": 4,
        "start_time": "2023-02-16T13:57:56.141Z"
      },
      {
        "duration": 462,
        "start_time": "2023-02-16T13:58:00.251Z"
      },
      {
        "duration": 75,
        "start_time": "2023-02-16T13:59:11.438Z"
      },
      {
        "duration": 7,
        "start_time": "2023-02-16T13:59:19.803Z"
      },
      {
        "duration": 335,
        "start_time": "2023-02-16T13:59:24.068Z"
      },
      {
        "duration": 488,
        "start_time": "2023-02-16T13:59:31.901Z"
      },
      {
        "duration": 6,
        "start_time": "2023-02-16T14:00:56.346Z"
      },
      {
        "duration": 1070,
        "start_time": "2023-02-16T14:00:58.631Z"
      },
      {
        "duration": 440,
        "start_time": "2023-02-16T14:01:02.871Z"
      },
      {
        "duration": 337,
        "start_time": "2023-02-16T14:01:30.056Z"
      },
      {
        "duration": 172,
        "start_time": "2023-02-16T14:02:27.134Z"
      },
      {
        "duration": 327,
        "start_time": "2023-02-16T14:02:30.745Z"
      },
      {
        "duration": 5,
        "start_time": "2023-02-16T14:02:32.656Z"
      },
      {
        "duration": 1761,
        "start_time": "2023-02-16T14:02:35.524Z"
      },
      {
        "duration": 2715,
        "start_time": "2023-02-16T14:03:04.696Z"
      },
      {
        "duration": 425,
        "start_time": "2023-02-16T14:03:09.484Z"
      },
      {
        "duration": 1400,
        "start_time": "2023-02-16T14:03:14.304Z"
      },
      {
        "duration": 2587,
        "start_time": "2023-02-16T14:03:18.980Z"
      },
      {
        "duration": 4,
        "start_time": "2023-02-16T14:08:49.327Z"
      },
      {
        "duration": 4,
        "start_time": "2023-02-16T14:09:36.430Z"
      },
      {
        "duration": 8,
        "start_time": "2023-02-16T14:09:56.237Z"
      },
      {
        "duration": 6,
        "start_time": "2023-02-16T14:10:48.790Z"
      },
      {
        "duration": 5,
        "start_time": "2023-02-16T14:10:57.083Z"
      },
      {
        "duration": 2218,
        "start_time": "2023-02-16T14:10:59.093Z"
      },
      {
        "duration": 8,
        "start_time": "2023-02-16T14:11:11.014Z"
      },
      {
        "duration": 2227,
        "start_time": "2023-02-16T14:11:13.764Z"
      },
      {
        "duration": 4,
        "start_time": "2023-02-16T14:12:08.573Z"
      },
      {
        "duration": 1906,
        "start_time": "2023-02-16T14:12:19.191Z"
      },
      {
        "duration": 1943,
        "start_time": "2023-02-16T14:13:31.489Z"
      },
      {
        "duration": 1673,
        "start_time": "2023-02-16T14:13:49.661Z"
      },
      {
        "duration": 4,
        "start_time": "2023-02-16T14:13:55.279Z"
      },
      {
        "duration": 1699,
        "start_time": "2023-02-16T14:13:56.814Z"
      },
      {
        "duration": 465,
        "start_time": "2023-02-16T14:16:00.885Z"
      },
      {
        "duration": 6,
        "start_time": "2023-02-16T14:16:03.647Z"
      },
      {
        "duration": 1911,
        "start_time": "2023-02-16T14:16:04.779Z"
      },
      {
        "duration": 5,
        "start_time": "2023-02-16T14:16:12.215Z"
      },
      {
        "duration": 1665,
        "start_time": "2023-02-16T14:16:13.164Z"
      },
      {
        "duration": 1581,
        "start_time": "2023-02-16T14:16:18.655Z"
      },
      {
        "duration": 2904,
        "start_time": "2023-02-16T14:21:58.592Z"
      },
      {
        "duration": 3114,
        "start_time": "2023-02-16T14:22:10.944Z"
      },
      {
        "duration": 139,
        "start_time": "2023-02-16T14:24:40.293Z"
      },
      {
        "duration": 3444,
        "start_time": "2023-02-16T14:24:43.892Z"
      },
      {
        "duration": 9,
        "start_time": "2023-02-16T14:26:42.510Z"
      },
      {
        "duration": 123,
        "start_time": "2023-02-16T14:26:49.591Z"
      },
      {
        "duration": 132,
        "start_time": "2023-02-16T14:27:43.895Z"
      },
      {
        "duration": 10,
        "start_time": "2023-02-16T14:28:00.505Z"
      },
      {
        "duration": 4392,
        "start_time": "2023-02-16T14:28:12.311Z"
      },
      {
        "duration": 113,
        "start_time": "2023-02-16T14:29:09.924Z"
      },
      {
        "duration": 13,
        "start_time": "2023-02-16T14:29:29.982Z"
      },
      {
        "duration": 451,
        "start_time": "2023-02-16T14:29:43.528Z"
      },
      {
        "duration": 425,
        "start_time": "2023-02-16T14:29:45.263Z"
      },
      {
        "duration": 55,
        "start_time": "2023-02-16T14:29:45.723Z"
      },
      {
        "duration": 13568,
        "start_time": "2023-02-16T14:29:46.645Z"
      },
      {
        "duration": 40,
        "start_time": "2023-02-16T14:30:05.464Z"
      },
      {
        "duration": 336,
        "start_time": "2023-02-16T14:30:46.232Z"
      },
      {
        "duration": 3681,
        "start_time": "2023-02-16T14:30:47.634Z"
      },
      {
        "duration": 0,
        "start_time": "2023-02-16T14:30:51.317Z"
      },
      {
        "duration": 14,
        "start_time": "2023-02-16T14:31:00.600Z"
      },
      {
        "duration": 9,
        "start_time": "2023-02-16T14:32:20.401Z"
      },
      {
        "duration": 161,
        "start_time": "2023-02-16T14:32:23.582Z"
      },
      {
        "duration": 5300,
        "start_time": "2023-02-16T14:32:30.138Z"
      },
      {
        "duration": 280,
        "start_time": "2023-02-16T14:32:45.929Z"
      },
      {
        "duration": 14,
        "start_time": "2023-02-16T14:32:46.496Z"
      },
      {
        "duration": 3,
        "start_time": "2023-02-16T14:32:48.197Z"
      },
      {
        "duration": 2,
        "start_time": "2023-02-16T14:32:50.013Z"
      },
      {
        "duration": 226,
        "start_time": "2023-02-16T14:32:50.897Z"
      },
      {
        "duration": 15,
        "start_time": "2023-02-16T14:32:52.047Z"
      },
      {
        "duration": 142,
        "start_time": "2023-02-16T14:32:52.988Z"
      },
      {
        "duration": 20,
        "start_time": "2023-02-16T14:32:55.020Z"
      },
      {
        "duration": 370,
        "start_time": "2023-02-16T14:32:55.608Z"
      },
      {
        "duration": 18,
        "start_time": "2023-02-16T14:32:56.091Z"
      },
      {
        "duration": 195,
        "start_time": "2023-02-16T14:32:56.822Z"
      },
      {
        "duration": 1706,
        "start_time": "2023-02-16T14:32:59.489Z"
      },
      {
        "duration": 5,
        "start_time": "2023-02-16T14:33:01.501Z"
      },
      {
        "duration": 188,
        "start_time": "2023-02-16T14:33:02.703Z"
      },
      {
        "duration": 10,
        "start_time": "2023-02-16T14:33:05.164Z"
      },
      {
        "duration": 2597,
        "start_time": "2023-02-16T14:33:06.289Z"
      },
      {
        "duration": 2248,
        "start_time": "2023-02-16T14:33:12.877Z"
      },
      {
        "duration": 842,
        "start_time": "2023-02-16T14:33:34.463Z"
      },
      {
        "duration": 15667,
        "start_time": "2023-02-16T14:33:35.307Z"
      },
      {
        "duration": 9912,
        "start_time": "2023-02-16T14:33:50.976Z"
      },
      {
        "duration": 2700,
        "start_time": "2023-02-16T14:34:00.890Z"
      },
      {
        "duration": 76,
        "start_time": "2023-02-16T14:34:03.592Z"
      },
      {
        "duration": 29541,
        "start_time": "2023-02-16T14:34:03.670Z"
      },
      {
        "duration": 476,
        "start_time": "2023-02-16T14:34:33.212Z"
      },
      {
        "duration": 832,
        "start_time": "2023-02-16T14:34:33.689Z"
      },
      {
        "duration": 5753,
        "start_time": "2023-02-16T14:34:34.523Z"
      },
      {
        "duration": 0,
        "start_time": "2023-02-16T14:34:40.278Z"
      },
      {
        "duration": 0,
        "start_time": "2023-02-16T14:34:40.280Z"
      },
      {
        "duration": 0,
        "start_time": "2023-02-16T14:34:40.281Z"
      },
      {
        "duration": 0,
        "start_time": "2023-02-16T14:34:40.281Z"
      },
      {
        "duration": 0,
        "start_time": "2023-02-16T14:34:40.282Z"
      },
      {
        "duration": 0,
        "start_time": "2023-02-16T14:34:40.282Z"
      },
      {
        "duration": 0,
        "start_time": "2023-02-16T14:34:40.283Z"
      },
      {
        "duration": 0,
        "start_time": "2023-02-16T14:34:40.285Z"
      },
      {
        "duration": 0,
        "start_time": "2023-02-16T14:34:40.286Z"
      },
      {
        "duration": 0,
        "start_time": "2023-02-16T14:34:40.289Z"
      },
      {
        "duration": 0,
        "start_time": "2023-02-16T14:34:40.290Z"
      },
      {
        "duration": 0,
        "start_time": "2023-02-16T14:34:40.292Z"
      },
      {
        "duration": 0,
        "start_time": "2023-02-16T14:34:40.293Z"
      },
      {
        "duration": 0,
        "start_time": "2023-02-16T14:34:40.295Z"
      },
      {
        "duration": 0,
        "start_time": "2023-02-16T14:34:40.296Z"
      },
      {
        "duration": 0,
        "start_time": "2023-02-16T14:34:40.297Z"
      },
      {
        "duration": 0,
        "start_time": "2023-02-16T14:34:40.298Z"
      },
      {
        "duration": 0,
        "start_time": "2023-02-16T14:34:40.448Z"
      },
      {
        "duration": 0,
        "start_time": "2023-02-16T14:34:40.450Z"
      },
      {
        "duration": 0,
        "start_time": "2023-02-16T14:34:40.475Z"
      },
      {
        "duration": 240,
        "start_time": "2023-02-16T14:34:55.146Z"
      },
      {
        "duration": 26,
        "start_time": "2023-02-16T14:34:55.893Z"
      },
      {
        "duration": 455,
        "start_time": "2023-02-16T14:34:57.020Z"
      },
      {
        "duration": 478,
        "start_time": "2023-02-16T14:34:59.927Z"
      },
      {
        "duration": 31,
        "start_time": "2023-02-16T14:35:00.479Z"
      },
      {
        "duration": 3,
        "start_time": "2023-02-16T14:35:02.374Z"
      },
      {
        "duration": 4,
        "start_time": "2023-02-16T14:35:04.785Z"
      },
      {
        "duration": 1353,
        "start_time": "2023-02-16T14:36:07.330Z"
      },
      {
        "duration": 8,
        "start_time": "2023-02-16T14:36:12.176Z"
      },
      {
        "duration": 4463,
        "start_time": "2023-02-16T14:36:16.617Z"
      },
      {
        "duration": 3,
        "start_time": "2023-02-16T14:36:24.161Z"
      },
      {
        "duration": 2613,
        "start_time": "2023-02-16T14:36:25.463Z"
      },
      {
        "duration": 5,
        "start_time": "2023-02-16T14:36:49.389Z"
      },
      {
        "duration": 2348,
        "start_time": "2023-02-16T14:36:52.076Z"
      },
      {
        "duration": 8,
        "start_time": "2023-02-16T14:37:30.647Z"
      },
      {
        "duration": 2506,
        "start_time": "2023-02-16T14:37:33.758Z"
      },
      {
        "duration": 2244,
        "start_time": "2023-02-16T14:39:34.450Z"
      },
      {
        "duration": 1857,
        "start_time": "2023-02-16T14:39:53.427Z"
      },
      {
        "duration": 142,
        "start_time": "2023-02-16T14:40:04.743Z"
      },
      {
        "duration": 666,
        "start_time": "2023-02-16T14:40:15.155Z"
      },
      {
        "duration": 513,
        "start_time": "2023-02-16T14:40:17.280Z"
      },
      {
        "duration": 4,
        "start_time": "2023-02-16T14:40:17.996Z"
      },
      {
        "duration": 20093,
        "start_time": "2023-02-16T14:40:18.606Z"
      },
      {
        "duration": 173,
        "start_time": "2023-02-16T14:40:38.701Z"
      },
      {
        "duration": 446,
        "start_time": "2023-02-16T14:40:38.876Z"
      },
      {
        "duration": 3562,
        "start_time": "2023-02-16T14:40:39.325Z"
      },
      {
        "duration": 0,
        "start_time": "2023-02-16T14:40:42.888Z"
      },
      {
        "duration": 1,
        "start_time": "2023-02-16T14:40:42.889Z"
      },
      {
        "duration": 0,
        "start_time": "2023-02-16T14:40:42.891Z"
      },
      {
        "duration": 0,
        "start_time": "2023-02-16T14:40:42.892Z"
      },
      {
        "duration": 0,
        "start_time": "2023-02-16T14:40:42.893Z"
      },
      {
        "duration": 0,
        "start_time": "2023-02-16T14:40:42.894Z"
      },
      {
        "duration": 0,
        "start_time": "2023-02-16T14:40:42.895Z"
      },
      {
        "duration": 435,
        "start_time": "2023-02-16T14:40:54.238Z"
      },
      {
        "duration": 5,
        "start_time": "2023-02-16T14:40:55.913Z"
      },
      {
        "duration": 951,
        "start_time": "2023-02-16T14:40:56.969Z"
      },
      {
        "duration": 809,
        "start_time": "2023-02-16T14:41:08.879Z"
      },
      {
        "duration": 5,
        "start_time": "2023-02-16T14:41:12.048Z"
      },
      {
        "duration": 830,
        "start_time": "2023-02-16T14:41:13.430Z"
      },
      {
        "duration": 5,
        "start_time": "2023-02-16T14:41:19.881Z"
      },
      {
        "duration": 161,
        "start_time": "2023-02-16T14:41:22.926Z"
      },
      {
        "duration": 349,
        "start_time": "2023-02-16T14:43:24.782Z"
      },
      {
        "duration": 368,
        "start_time": "2023-02-16T14:43:27.307Z"
      },
      {
        "duration": 3,
        "start_time": "2023-02-16T14:43:28.579Z"
      },
      {
        "duration": 15813,
        "start_time": "2023-02-16T14:43:32.257Z"
      },
      {
        "duration": 112,
        "start_time": "2023-02-16T14:43:48.072Z"
      },
      {
        "duration": 287,
        "start_time": "2023-02-16T14:43:52.122Z"
      },
      {
        "duration": 3576,
        "start_time": "2023-02-16T14:43:53.642Z"
      },
      {
        "duration": 0,
        "start_time": "2023-02-16T14:43:57.219Z"
      },
      {
        "duration": 127,
        "start_time": "2023-02-16T14:44:01.792Z"
      },
      {
        "duration": 11,
        "start_time": "2023-02-16T14:44:02.885Z"
      },
      {
        "duration": 157,
        "start_time": "2023-02-16T14:44:03.712Z"
      },
      {
        "duration": 378,
        "start_time": "2023-02-16T14:44:06.589Z"
      },
      {
        "duration": 16,
        "start_time": "2023-02-16T14:44:09.033Z"
      },
      {
        "duration": 3,
        "start_time": "2023-02-16T14:44:13.471Z"
      },
      {
        "duration": 3,
        "start_time": "2023-02-16T14:44:17.677Z"
      },
      {
        "duration": 529,
        "start_time": "2023-02-16T14:44:19.311Z"
      },
      {
        "duration": 6,
        "start_time": "2023-02-16T14:44:21.841Z"
      },
      {
        "duration": 1769,
        "start_time": "2023-02-16T14:44:24.724Z"
      },
      {
        "duration": 5,
        "start_time": "2023-02-16T14:44:46.783Z"
      },
      {
        "duration": 1737,
        "start_time": "2023-02-16T14:44:51.299Z"
      },
      {
        "duration": 1767,
        "start_time": "2023-02-16T14:45:00.458Z"
      },
      {
        "duration": 3161,
        "start_time": "2023-02-16T14:48:57.574Z"
      },
      {
        "duration": 1698,
        "start_time": "2023-02-16T14:49:39.286Z"
      },
      {
        "duration": 5,
        "start_time": "2023-02-16T14:50:02.822Z"
      },
      {
        "duration": 1355,
        "start_time": "2023-02-16T14:50:07.137Z"
      },
      {
        "duration": 1293,
        "start_time": "2023-02-16T14:50:11.803Z"
      },
      {
        "duration": 97,
        "start_time": "2023-02-16T14:50:27.071Z"
      },
      {
        "duration": 8,
        "start_time": "2023-02-16T14:50:40.855Z"
      },
      {
        "duration": 5,
        "start_time": "2023-02-16T14:50:44.568Z"
      },
      {
        "duration": 1345,
        "start_time": "2023-02-16T14:50:47.015Z"
      },
      {
        "duration": 9,
        "start_time": "2023-02-16T14:51:32.042Z"
      },
      {
        "duration": 4,
        "start_time": "2023-02-16T14:51:36.990Z"
      },
      {
        "duration": 1396,
        "start_time": "2023-02-16T14:51:40.291Z"
      },
      {
        "duration": 5,
        "start_time": "2023-02-16T14:53:54.864Z"
      },
      {
        "duration": 3,
        "start_time": "2023-02-16T14:54:01.217Z"
      },
      {
        "duration": 356,
        "start_time": "2023-02-16T14:54:03.857Z"
      },
      {
        "duration": 6,
        "start_time": "2023-02-16T14:54:05.849Z"
      },
      {
        "duration": 805,
        "start_time": "2023-02-16T14:54:08.163Z"
      },
      {
        "duration": 343,
        "start_time": "2023-02-16T14:54:17.342Z"
      },
      {
        "duration": 906,
        "start_time": "2023-02-16T14:54:23.207Z"
      },
      {
        "duration": 7,
        "start_time": "2023-02-16T14:55:26.093Z"
      },
      {
        "duration": 26,
        "start_time": "2023-02-16T14:55:28.532Z"
      },
      {
        "duration": 333,
        "start_time": "2023-02-16T14:55:36.973Z"
      },
      {
        "duration": 6,
        "start_time": "2023-02-16T14:55:38.871Z"
      },
      {
        "duration": 22,
        "start_time": "2023-02-16T14:55:41.134Z"
      },
      {
        "duration": 6,
        "start_time": "2023-02-16T14:56:04.245Z"
      },
      {
        "duration": 1427,
        "start_time": "2023-02-16T14:56:06.662Z"
      },
      {
        "duration": 2781,
        "start_time": "2023-02-16T14:56:10.452Z"
      },
      {
        "duration": 987,
        "start_time": "2023-02-16T14:56:36.080Z"
      },
      {
        "duration": 1203,
        "start_time": "2023-02-16T14:57:16.193Z"
      },
      {
        "duration": 6,
        "start_time": "2023-02-16T15:00:15.619Z"
      },
      {
        "duration": 154,
        "start_time": "2023-02-16T15:00:18.482Z"
      },
      {
        "duration": 371,
        "start_time": "2023-02-16T15:00:21.917Z"
      },
      {
        "duration": 1446,
        "start_time": "2023-02-16T15:00:24.760Z"
      },
      {
        "duration": 966,
        "start_time": "2023-02-16T15:00:29.660Z"
      },
      {
        "duration": 4,
        "start_time": "2023-02-16T15:00:38.857Z"
      },
      {
        "duration": 1198,
        "start_time": "2023-02-16T15:00:40.947Z"
      },
      {
        "duration": 7,
        "start_time": "2023-02-16T15:01:43.134Z"
      },
      {
        "duration": 4,
        "start_time": "2023-02-16T15:01:47.924Z"
      },
      {
        "duration": 5,
        "start_time": "2023-02-16T15:01:56.148Z"
      },
      {
        "duration": 155,
        "start_time": "2023-02-16T15:01:59.214Z"
      },
      {
        "duration": 453,
        "start_time": "2023-02-16T15:02:02.223Z"
      },
      {
        "duration": 3,
        "start_time": "2023-02-16T15:02:04.336Z"
      },
      {
        "duration": 6,
        "start_time": "2023-02-16T15:02:06.698Z"
      },
      {
        "duration": 287,
        "start_time": "2023-02-16T15:02:10.018Z"
      },
      {
        "duration": 5,
        "start_time": "2023-02-16T15:02:28.721Z"
      },
      {
        "duration": 6,
        "start_time": "2023-02-16T15:03:07.419Z"
      },
      {
        "duration": 8,
        "start_time": "2023-02-16T15:03:09.589Z"
      },
      {
        "duration": 582,
        "start_time": "2023-02-16T15:03:40.210Z"
      },
      {
        "duration": 263,
        "start_time": "2023-02-16T15:03:48.243Z"
      },
      {
        "duration": 320,
        "start_time": "2023-02-16T15:03:57.887Z"
      },
      {
        "duration": 8,
        "start_time": "2023-02-16T15:03:58.748Z"
      },
      {
        "duration": 1418,
        "start_time": "2023-02-16T15:04:00.085Z"
      },
      {
        "duration": 720,
        "start_time": "2023-02-16T15:04:02.933Z"
      },
      {
        "duration": 4,
        "start_time": "2023-02-16T15:04:10.687Z"
      },
      {
        "duration": 1076,
        "start_time": "2023-02-16T15:04:11.940Z"
      },
      {
        "duration": 1303,
        "start_time": "2023-02-16T15:04:16.942Z"
      },
      {
        "duration": 5,
        "start_time": "2023-02-16T15:05:29.080Z"
      },
      {
        "duration": 1153,
        "start_time": "2023-02-16T15:05:31.435Z"
      },
      {
        "duration": 1087,
        "start_time": "2023-02-16T15:05:41.690Z"
      },
      {
        "duration": 701,
        "start_time": "2023-02-16T15:05:50.781Z"
      },
      {
        "duration": 15099,
        "start_time": "2023-02-16T15:05:51.484Z"
      },
      {
        "duration": 9004,
        "start_time": "2023-02-16T15:06:06.586Z"
      },
      {
        "duration": 2512,
        "start_time": "2023-02-16T15:06:15.592Z"
      },
      {
        "duration": 13,
        "start_time": "2023-02-16T15:06:18.167Z"
      },
      {
        "duration": 27815,
        "start_time": "2023-02-16T15:06:18.182Z"
      },
      {
        "duration": 399,
        "start_time": "2023-02-16T15:06:45.999Z"
      },
      {
        "duration": 875,
        "start_time": "2023-02-16T15:06:46.399Z"
      },
      {
        "duration": 4976,
        "start_time": "2023-02-16T15:06:47.276Z"
      },
      {
        "duration": 0,
        "start_time": "2023-02-16T15:06:52.254Z"
      },
      {
        "duration": 0,
        "start_time": "2023-02-16T15:06:52.255Z"
      },
      {
        "duration": 0,
        "start_time": "2023-02-16T15:06:52.256Z"
      },
      {
        "duration": 0,
        "start_time": "2023-02-16T15:06:52.257Z"
      },
      {
        "duration": 0,
        "start_time": "2023-02-16T15:06:52.258Z"
      },
      {
        "duration": 0,
        "start_time": "2023-02-16T15:06:52.258Z"
      },
      {
        "duration": 0,
        "start_time": "2023-02-16T15:06:52.259Z"
      },
      {
        "duration": 0,
        "start_time": "2023-02-16T15:06:52.267Z"
      },
      {
        "duration": 0,
        "start_time": "2023-02-16T15:06:52.268Z"
      },
      {
        "duration": 0,
        "start_time": "2023-02-16T15:06:52.269Z"
      },
      {
        "duration": 0,
        "start_time": "2023-02-16T15:06:52.270Z"
      },
      {
        "duration": 0,
        "start_time": "2023-02-16T15:06:52.271Z"
      },
      {
        "duration": 0,
        "start_time": "2023-02-16T15:06:52.272Z"
      },
      {
        "duration": 0,
        "start_time": "2023-02-16T15:06:52.274Z"
      },
      {
        "duration": 3903,
        "start_time": "2023-02-16T15:07:36.234Z"
      },
      {
        "duration": 257,
        "start_time": "2023-02-16T15:07:45.143Z"
      },
      {
        "duration": 87,
        "start_time": "2023-02-16T15:07:45.403Z"
      },
      {
        "duration": 569,
        "start_time": "2023-02-16T15:07:45.504Z"
      },
      {
        "duration": 462,
        "start_time": "2023-02-16T15:07:46.233Z"
      },
      {
        "duration": 71,
        "start_time": "2023-02-16T15:07:46.697Z"
      },
      {
        "duration": 2,
        "start_time": "2023-02-16T15:07:46.990Z"
      },
      {
        "duration": 3,
        "start_time": "2023-02-16T15:07:47.930Z"
      },
      {
        "duration": 1174,
        "start_time": "2023-02-16T15:07:48.104Z"
      },
      {
        "duration": 6,
        "start_time": "2023-02-16T15:07:49.280Z"
      },
      {
        "duration": 4613,
        "start_time": "2023-02-16T15:07:49.288Z"
      },
      {
        "duration": 1786,
        "start_time": "2023-02-16T15:07:53.903Z"
      },
      {
        "duration": 4,
        "start_time": "2023-02-16T15:07:59.336Z"
      },
      {
        "duration": 3538,
        "start_time": "2023-02-16T15:08:00.430Z"
      },
      {
        "duration": 4786,
        "start_time": "2023-02-16T15:08:52.210Z"
      },
      {
        "duration": 475,
        "start_time": "2023-02-16T15:08:56.998Z"
      },
      {
        "duration": 8,
        "start_time": "2023-02-16T15:10:22.694Z"
      },
      {
        "duration": 5,
        "start_time": "2023-02-16T15:10:33.394Z"
      },
      {
        "duration": 1507,
        "start_time": "2023-02-16T15:10:35.383Z"
      },
      {
        "duration": 4,
        "start_time": "2023-02-16T15:10:54.932Z"
      },
      {
        "duration": 1919,
        "start_time": "2023-02-16T15:10:57.165Z"
      },
      {
        "duration": 4,
        "start_time": "2023-02-16T15:11:12.503Z"
      },
      {
        "duration": 1792,
        "start_time": "2023-02-16T15:11:14.444Z"
      },
      {
        "duration": 794,
        "start_time": "2023-02-16T15:11:49.507Z"
      },
      {
        "duration": 279,
        "start_time": "2023-02-16T15:11:56.535Z"
      },
      {
        "duration": 8,
        "start_time": "2023-02-16T15:15:26.367Z"
      },
      {
        "duration": 5,
        "start_time": "2023-02-16T15:15:51.152Z"
      },
      {
        "duration": 185,
        "start_time": "2023-02-16T15:15:54.967Z"
      },
      {
        "duration": 469,
        "start_time": "2023-02-16T15:16:01.516Z"
      },
      {
        "duration": 8,
        "start_time": "2023-02-16T15:16:05.421Z"
      },
      {
        "duration": 1744,
        "start_time": "2023-02-16T15:16:08.950Z"
      },
      {
        "duration": 8,
        "start_time": "2023-02-16T15:16:13.285Z"
      },
      {
        "duration": 8,
        "start_time": "2023-02-16T15:16:23.151Z"
      },
      {
        "duration": 3,
        "start_time": "2023-02-16T15:16:39.618Z"
      },
      {
        "duration": 551,
        "start_time": "2023-02-16T15:16:42.031Z"
      },
      {
        "duration": 7,
        "start_time": "2023-02-16T15:16:44.885Z"
      },
      {
        "duration": 220,
        "start_time": "2023-02-16T15:16:47.413Z"
      },
      {
        "duration": 1616,
        "start_time": "2023-02-16T15:16:50.989Z"
      },
      {
        "duration": 396,
        "start_time": "2023-02-16T15:16:56.590Z"
      },
      {
        "duration": 255,
        "start_time": "2023-02-16T15:18:23.819Z"
      },
      {
        "duration": 235,
        "start_time": "2023-02-16T15:18:33.771Z"
      },
      {
        "duration": 3,
        "start_time": "2023-02-16T15:18:39.981Z"
      },
      {
        "duration": 1692,
        "start_time": "2023-02-16T15:18:43.368Z"
      },
      {
        "duration": 731,
        "start_time": "2023-02-17T01:41:27.448Z"
      },
      {
        "duration": 17688,
        "start_time": "2023-02-17T01:41:31.888Z"
      },
      {
        "duration": 9571,
        "start_time": "2023-02-17T01:41:49.579Z"
      },
      {
        "duration": 3186,
        "start_time": "2023-02-17T01:41:59.152Z"
      },
      {
        "duration": 16,
        "start_time": "2023-02-17T01:42:02.341Z"
      },
      {
        "duration": 32924,
        "start_time": "2023-02-17T01:42:02.359Z"
      },
      {
        "duration": 555,
        "start_time": "2023-02-17T01:42:35.285Z"
      },
      {
        "duration": 831,
        "start_time": "2023-02-17T01:42:35.842Z"
      },
      {
        "duration": 5867,
        "start_time": "2023-02-17T01:42:36.675Z"
      },
      {
        "duration": 323,
        "start_time": "2023-02-17T01:42:42.544Z"
      },
      {
        "duration": 3,
        "start_time": "2023-02-17T01:42:42.870Z"
      },
      {
        "duration": 199,
        "start_time": "2023-02-17T01:42:42.937Z"
      },
      {
        "duration": 636,
        "start_time": "2023-02-17T01:42:43.139Z"
      },
      {
        "duration": 20,
        "start_time": "2023-02-17T01:42:43.777Z"
      },
      {
        "duration": 41,
        "start_time": "2023-02-17T01:42:43.799Z"
      },
      {
        "duration": 148,
        "start_time": "2023-02-17T01:42:43.843Z"
      },
      {
        "duration": 5,
        "start_time": "2023-02-17T01:42:50.705Z"
      },
      {
        "duration": 1172,
        "start_time": "2023-02-17T01:42:51.681Z"
      },
      {
        "duration": 5,
        "start_time": "2023-02-17T01:42:55.421Z"
      },
      {
        "duration": 185,
        "start_time": "2023-02-17T01:42:56.542Z"
      },
      {
        "duration": 5107,
        "start_time": "2023-02-17T01:43:03.845Z"
      },
      {
        "duration": 4,
        "start_time": "2023-02-17T01:43:16.746Z"
      },
      {
        "duration": 133,
        "start_time": "2023-02-17T01:43:49.232Z"
      },
      {
        "duration": 3,
        "start_time": "2023-02-17T01:44:05.668Z"
      },
      {
        "duration": 654,
        "start_time": "2023-02-17T01:44:06.232Z"
      },
      {
        "duration": 7,
        "start_time": "2023-02-17T01:44:08.683Z"
      },
      {
        "duration": 2401,
        "start_time": "2023-02-17T01:44:10.080Z"
      },
      {
        "duration": 589,
        "start_time": "2023-02-17T01:44:14.658Z"
      },
      {
        "duration": 433,
        "start_time": "2023-02-17T01:44:17.975Z"
      },
      {
        "duration": 217,
        "start_time": "2023-02-17T01:44:53.098Z"
      },
      {
        "duration": 9,
        "start_time": "2023-02-17T01:45:52.026Z"
      },
      {
        "duration": 3525,
        "start_time": "2023-02-17T01:45:53.611Z"
      },
      {
        "duration": 4,
        "start_time": "2023-02-17T01:46:15.270Z"
      },
      {
        "duration": 2912,
        "start_time": "2023-02-17T01:46:18.688Z"
      },
      {
        "duration": 2673,
        "start_time": "2023-02-17T01:46:26.605Z"
      },
      {
        "duration": 684,
        "start_time": "2023-02-17T01:47:03.604Z"
      },
      {
        "duration": 15648,
        "start_time": "2023-02-17T01:47:07.024Z"
      },
      {
        "duration": 10179,
        "start_time": "2023-02-17T01:47:22.674Z"
      },
      {
        "duration": 2690,
        "start_time": "2023-02-17T01:47:32.855Z"
      },
      {
        "duration": 12,
        "start_time": "2023-02-17T01:47:35.547Z"
      },
      {
        "duration": 32307,
        "start_time": "2023-02-17T01:47:35.561Z"
      },
      {
        "duration": 699,
        "start_time": "2023-02-17T01:48:07.870Z"
      },
      {
        "duration": 917,
        "start_time": "2023-02-17T01:48:08.636Z"
      },
      {
        "duration": 5665,
        "start_time": "2023-02-17T01:48:09.555Z"
      },
      {
        "duration": 255,
        "start_time": "2023-02-17T01:48:15.222Z"
      },
      {
        "duration": 27,
        "start_time": "2023-02-17T01:48:15.536Z"
      },
      {
        "duration": 494,
        "start_time": "2023-02-17T01:48:15.565Z"
      },
      {
        "duration": 760,
        "start_time": "2023-02-17T01:48:16.061Z"
      },
      {
        "duration": 35,
        "start_time": "2023-02-17T01:48:16.823Z"
      },
      {
        "duration": 3,
        "start_time": "2023-02-17T01:48:16.860Z"
      },
      {
        "duration": 73,
        "start_time": "2023-02-17T01:48:16.864Z"
      },
      {
        "duration": 1498,
        "start_time": "2023-02-17T01:48:16.939Z"
      },
      {
        "duration": 6,
        "start_time": "2023-02-17T01:48:18.439Z"
      },
      {
        "duration": 4704,
        "start_time": "2023-02-17T01:48:18.447Z"
      },
      {
        "duration": 622,
        "start_time": "2023-02-17T01:48:23.153Z"
      },
      {
        "duration": 558,
        "start_time": "2023-02-17T01:48:23.778Z"
      },
      {
        "duration": 6,
        "start_time": "2023-02-17T01:48:24.339Z"
      },
      {
        "duration": 3991,
        "start_time": "2023-02-17T01:48:24.346Z"
      },
      {
        "duration": 0,
        "start_time": "2023-02-17T01:48:28.340Z"
      },
      {
        "duration": 2999,
        "start_time": "2023-02-17T01:48:36.657Z"
      },
      {
        "duration": 728,
        "start_time": "2023-02-17T01:49:03.255Z"
      },
      {
        "duration": 15656,
        "start_time": "2023-02-17T01:49:03.985Z"
      },
      {
        "duration": 9994,
        "start_time": "2023-02-17T01:49:19.644Z"
      },
      {
        "duration": 2614,
        "start_time": "2023-02-17T01:49:29.641Z"
      },
      {
        "duration": 81,
        "start_time": "2023-02-17T01:49:32.257Z"
      },
      {
        "duration": 31321,
        "start_time": "2023-02-17T01:49:32.340Z"
      },
      {
        "duration": 591,
        "start_time": "2023-02-17T01:50:03.663Z"
      },
      {
        "duration": 904,
        "start_time": "2023-02-17T01:50:04.255Z"
      },
      {
        "duration": 5188,
        "start_time": "2023-02-17T01:50:05.160Z"
      },
      {
        "duration": 228,
        "start_time": "2023-02-17T01:50:10.351Z"
      },
      {
        "duration": 3,
        "start_time": "2023-02-17T01:50:10.638Z"
      },
      {
        "duration": 214,
        "start_time": "2023-02-17T01:50:10.643Z"
      },
      {
        "duration": 809,
        "start_time": "2023-02-17T01:50:10.859Z"
      },
      {
        "duration": 20,
        "start_time": "2023-02-17T01:50:11.670Z"
      },
      {
        "duration": 26,
        "start_time": "2023-02-17T01:50:11.692Z"
      },
      {
        "duration": 22,
        "start_time": "2023-02-17T01:50:11.720Z"
      },
      {
        "duration": 1207,
        "start_time": "2023-02-17T01:50:11.743Z"
      },
      {
        "duration": 6,
        "start_time": "2023-02-17T01:50:12.952Z"
      },
      {
        "duration": 4609,
        "start_time": "2023-02-17T01:50:12.960Z"
      },
      {
        "duration": 773,
        "start_time": "2023-02-17T01:50:17.571Z"
      },
      {
        "duration": 506,
        "start_time": "2023-02-17T01:50:18.350Z"
      },
      {
        "duration": 5,
        "start_time": "2023-02-17T01:50:18.858Z"
      },
      {
        "duration": 4511,
        "start_time": "2023-02-17T01:50:18.865Z"
      },
      {
        "duration": 2716,
        "start_time": "2023-02-17T01:50:23.378Z"
      },
      {
        "duration": 115,
        "start_time": "2023-02-17T01:57:41.525Z"
      },
      {
        "duration": 100,
        "start_time": "2023-02-17T02:13:37.612Z"
      },
      {
        "duration": 124,
        "start_time": "2023-02-17T02:13:44.170Z"
      },
      {
        "duration": 408,
        "start_time": "2023-02-17T02:13:50.175Z"
      },
      {
        "duration": 76,
        "start_time": "2023-02-17T02:14:12.181Z"
      },
      {
        "duration": 241,
        "start_time": "2023-02-17T02:14:15.355Z"
      },
      {
        "duration": 89,
        "start_time": "2023-02-17T02:14:40.819Z"
      },
      {
        "duration": 10,
        "start_time": "2023-02-17T02:14:44.575Z"
      },
      {
        "duration": 316,
        "start_time": "2023-02-17T02:14:49.481Z"
      },
      {
        "duration": 182,
        "start_time": "2023-02-17T02:15:10.806Z"
      },
      {
        "duration": 709,
        "start_time": "2023-02-17T02:15:22.244Z"
      },
      {
        "duration": 993,
        "start_time": "2023-02-17T02:16:37.451Z"
      },
      {
        "duration": 459,
        "start_time": "2023-02-17T02:16:39.922Z"
      },
      {
        "duration": 9,
        "start_time": "2023-02-17T02:16:40.601Z"
      },
      {
        "duration": 21875,
        "start_time": "2023-02-17T02:16:41.530Z"
      },
      {
        "duration": 103,
        "start_time": "2023-02-17T02:17:03.437Z"
      },
      {
        "duration": 456,
        "start_time": "2023-02-17T02:17:03.542Z"
      },
      {
        "duration": 823,
        "start_time": "2023-02-17T02:17:04.000Z"
      },
      {
        "duration": 66,
        "start_time": "2023-02-17T02:20:15.134Z"
      },
      {
        "duration": 2,
        "start_time": "2023-02-17T02:20:20.827Z"
      },
      {
        "duration": 5557,
        "start_time": "2023-02-17T02:23:13.869Z"
      },
      {
        "duration": 5783,
        "start_time": "2023-02-17T02:23:31.910Z"
      },
      {
        "duration": 6036,
        "start_time": "2023-02-17T02:23:48.310Z"
      },
      {
        "duration": 569,
        "start_time": "2023-02-17T02:26:47.781Z"
      },
      {
        "duration": 1266,
        "start_time": "2023-02-17T02:38:28.223Z"
      },
      {
        "duration": 15268,
        "start_time": "2023-02-17T02:38:29.491Z"
      },
      {
        "duration": 9384,
        "start_time": "2023-02-17T02:38:44.761Z"
      },
      {
        "duration": 2691,
        "start_time": "2023-02-17T02:38:54.147Z"
      },
      {
        "duration": 14,
        "start_time": "2023-02-17T02:38:56.840Z"
      },
      {
        "duration": 30015,
        "start_time": "2023-02-17T02:38:56.856Z"
      },
      {
        "duration": 476,
        "start_time": "2023-02-17T02:39:26.873Z"
      },
      {
        "duration": 818,
        "start_time": "2023-02-17T02:39:27.351Z"
      },
      {
        "duration": 1394,
        "start_time": "2023-02-17T02:39:28.170Z"
      },
      {
        "duration": 6041,
        "start_time": "2023-02-17T02:39:29.567Z"
      },
      {
        "duration": 4536,
        "start_time": "2023-02-17T02:39:35.610Z"
      },
      {
        "duration": 313,
        "start_time": "2023-02-17T02:39:40.147Z"
      },
      {
        "duration": 2,
        "start_time": "2023-02-17T02:39:40.463Z"
      },
      {
        "duration": 290,
        "start_time": "2023-02-17T02:39:40.467Z"
      },
      {
        "duration": 587,
        "start_time": "2023-02-17T02:39:40.759Z"
      },
      {
        "duration": 20,
        "start_time": "2023-02-17T02:39:41.348Z"
      },
      {
        "duration": 4,
        "start_time": "2023-02-17T02:39:41.370Z"
      },
      {
        "duration": 32,
        "start_time": "2023-02-17T02:39:41.376Z"
      },
      {
        "duration": 1173,
        "start_time": "2023-02-17T02:39:41.410Z"
      },
      {
        "duration": 7,
        "start_time": "2023-02-17T02:39:42.636Z"
      },
      {
        "duration": 4623,
        "start_time": "2023-02-17T02:39:42.644Z"
      },
      {
        "duration": 796,
        "start_time": "2023-02-17T02:39:47.270Z"
      },
      {
        "duration": 69,
        "start_time": "2023-02-17T02:39:48.068Z"
      },
      {
        "duration": 4626,
        "start_time": "2023-02-17T02:39:48.139Z"
      },
      {
        "duration": 3466,
        "start_time": "2023-02-17T02:39:52.767Z"
      },
      {
        "duration": 93,
        "start_time": "2023-02-17T06:04:15.299Z"
      },
      {
        "duration": 429,
        "start_time": "2023-02-17T06:06:04.921Z"
      },
      {
        "duration": 71,
        "start_time": "2023-02-17T06:08:32.618Z"
      },
      {
        "duration": 98,
        "start_time": "2023-02-17T06:14:08.630Z"
      },
      {
        "duration": 9,
        "start_time": "2023-02-17T08:49:31.774Z"
      },
      {
        "duration": 52,
        "start_time": "2023-02-17T08:49:32.590Z"
      },
      {
        "duration": 1434,
        "start_time": "2023-02-17T08:49:38.118Z"
      },
      {
        "duration": 24555,
        "start_time": "2023-02-17T08:49:40.733Z"
      },
      {
        "duration": 11852,
        "start_time": "2023-02-17T08:50:05.291Z"
      },
      {
        "duration": 3110,
        "start_time": "2023-02-17T08:50:17.145Z"
      },
      {
        "duration": 17,
        "start_time": "2023-02-17T08:50:20.257Z"
      },
      {
        "duration": 31928,
        "start_time": "2023-02-17T08:50:20.338Z"
      },
      {
        "duration": 690,
        "start_time": "2023-02-17T08:50:52.268Z"
      },
      {
        "duration": 814,
        "start_time": "2023-02-17T08:50:52.962Z"
      },
      {
        "duration": 1279,
        "start_time": "2023-02-17T08:50:53.778Z"
      },
      {
        "duration": 6312,
        "start_time": "2023-02-17T08:50:55.059Z"
      },
      {
        "duration": 5016,
        "start_time": "2023-02-17T08:51:01.374Z"
      },
      {
        "duration": 250,
        "start_time": "2023-02-17T08:51:06.392Z"
      },
      {
        "duration": 3,
        "start_time": "2023-02-17T08:51:06.645Z"
      },
      {
        "duration": 294,
        "start_time": "2023-02-17T08:51:06.650Z"
      },
      {
        "duration": 619,
        "start_time": "2023-02-17T08:51:06.945Z"
      },
      {
        "duration": 75,
        "start_time": "2023-02-17T08:51:07.566Z"
      },
      {
        "duration": 3,
        "start_time": "2023-02-17T08:51:07.643Z"
      },
      {
        "duration": 43,
        "start_time": "2023-02-17T08:51:07.648Z"
      },
      {
        "duration": 1338,
        "start_time": "2023-02-17T08:51:07.738Z"
      },
      {
        "duration": 3648,
        "start_time": "2023-02-17T08:53:24.090Z"
      },
      {
        "duration": 75,
        "start_time": "2023-02-17T08:54:21.626Z"
      },
      {
        "duration": 69,
        "start_time": "2023-02-17T08:54:28.435Z"
      },
      {
        "duration": 9,
        "start_time": "2023-02-17T08:54:38.173Z"
      },
      {
        "duration": 9,
        "start_time": "2023-02-17T08:54:43.422Z"
      },
      {
        "duration": 135,
        "start_time": "2023-02-17T08:58:14.598Z"
      },
      {
        "duration": 34,
        "start_time": "2023-02-17T08:58:18.269Z"
      },
      {
        "duration": 205,
        "start_time": "2023-02-17T09:46:00.538Z"
      },
      {
        "duration": 1021,
        "start_time": "2023-02-17T09:46:04.637Z"
      },
      {
        "duration": 1479,
        "start_time": "2023-02-17T09:46:08.678Z"
      },
      {
        "duration": 16,
        "start_time": "2023-02-17T09:46:47.488Z"
      },
      {
        "duration": 29,
        "start_time": "2023-02-17T09:47:17.840Z"
      },
      {
        "duration": 9,
        "start_time": "2023-02-17T09:48:29.818Z"
      },
      {
        "duration": 127,
        "start_time": "2023-02-17T09:48:44.268Z"
      },
      {
        "duration": 575,
        "start_time": "2023-02-17T09:48:54.164Z"
      },
      {
        "duration": 1046,
        "start_time": "2023-02-17T09:48:59.529Z"
      },
      {
        "duration": 104,
        "start_time": "2023-02-17T09:49:02.707Z"
      },
      {
        "duration": 728,
        "start_time": "2023-02-17T09:49:09.966Z"
      },
      {
        "duration": 3,
        "start_time": "2023-02-17T09:49:25.883Z"
      },
      {
        "duration": 479,
        "start_time": "2023-02-17T09:49:27.395Z"
      },
      {
        "duration": 1030,
        "start_time": "2023-02-17T09:49:32.236Z"
      },
      {
        "duration": 117,
        "start_time": "2023-02-17T09:49:42.887Z"
      },
      {
        "duration": 9,
        "start_time": "2023-02-17T09:49:52.925Z"
      },
      {
        "duration": 533,
        "start_time": "2023-02-17T09:50:11.472Z"
      },
      {
        "duration": 4,
        "start_time": "2023-02-17T09:50:33.171Z"
      },
      {
        "duration": 524,
        "start_time": "2023-02-17T09:50:34.293Z"
      },
      {
        "duration": 860,
        "start_time": "2023-02-17T09:50:39.290Z"
      },
      {
        "duration": 540,
        "start_time": "2023-02-17T09:50:42.804Z"
      },
      {
        "duration": 42,
        "start_time": "2023-02-17T09:51:02.777Z"
      },
      {
        "duration": 3,
        "start_time": "2023-02-17T09:51:11.826Z"
      },
      {
        "duration": 525,
        "start_time": "2023-02-17T09:51:13.348Z"
      },
      {
        "duration": 21,
        "start_time": "2023-02-17T09:51:17.333Z"
      },
      {
        "duration": 22,
        "start_time": "2023-02-17T09:51:22.748Z"
      },
      {
        "duration": 3,
        "start_time": "2023-02-17T09:51:46.497Z"
      },
      {
        "duration": 482,
        "start_time": "2023-02-17T09:51:47.261Z"
      },
      {
        "duration": 6,
        "start_time": "2023-02-17T09:51:49.395Z"
      },
      {
        "duration": 967,
        "start_time": "2023-02-17T09:52:17.288Z"
      },
      {
        "duration": 540,
        "start_time": "2023-02-17T09:52:22.120Z"
      },
      {
        "duration": 20,
        "start_time": "2023-02-17T09:53:26.276Z"
      },
      {
        "duration": 25,
        "start_time": "2023-02-17T09:53:59.116Z"
      },
      {
        "duration": 3,
        "start_time": "2023-02-17T09:54:03.514Z"
      },
      {
        "duration": 605,
        "start_time": "2023-02-17T09:54:04.033Z"
      },
      {
        "duration": 21,
        "start_time": "2023-02-17T09:54:07.434Z"
      },
      {
        "duration": 20,
        "start_time": "2023-02-17T09:54:31.883Z"
      },
      {
        "duration": 913,
        "start_time": "2023-02-17T09:54:54.731Z"
      },
      {
        "duration": 546,
        "start_time": "2023-02-17T09:54:58.496Z"
      },
      {
        "duration": 294,
        "start_time": "2023-02-17T09:55:56.777Z"
      },
      {
        "duration": 271,
        "start_time": "2023-02-17T09:56:05.301Z"
      },
      {
        "duration": 2,
        "start_time": "2023-02-17T09:56:20.880Z"
      },
      {
        "duration": 510,
        "start_time": "2023-02-17T09:56:22.440Z"
      },
      {
        "duration": 6,
        "start_time": "2023-02-17T09:56:24.119Z"
      },
      {
        "duration": 718,
        "start_time": "2023-02-17T09:56:26.531Z"
      },
      {
        "duration": 317,
        "start_time": "2023-02-17T09:56:28.147Z"
      },
      {
        "duration": 116,
        "start_time": "2023-02-17T09:57:01.878Z"
      },
      {
        "duration": 444,
        "start_time": "2023-02-17T09:57:09.508Z"
      },
      {
        "duration": 3,
        "start_time": "2023-02-17T09:57:13.409Z"
      },
      {
        "duration": 4,
        "start_time": "2023-02-17T09:57:15.270Z"
      },
      {
        "duration": 616,
        "start_time": "2023-02-17T09:57:15.772Z"
      },
      {
        "duration": 5,
        "start_time": "2023-02-17T09:57:17.234Z"
      },
      {
        "duration": 795,
        "start_time": "2023-02-17T09:57:19.850Z"
      },
      {
        "duration": 3,
        "start_time": "2023-02-17T10:04:54.123Z"
      },
      {
        "duration": 371,
        "start_time": "2023-02-17T10:04:54.687Z"
      },
      {
        "duration": 705,
        "start_time": "2023-02-17T10:04:58.371Z"
      },
      {
        "duration": 507,
        "start_time": "2023-02-17T10:05:01.334Z"
      },
      {
        "duration": 315,
        "start_time": "2023-02-17T10:05:17.173Z"
      },
      {
        "duration": 3,
        "start_time": "2023-02-17T11:00:29.030Z"
      },
      {
        "duration": 432,
        "start_time": "2023-02-17T11:00:29.453Z"
      },
      {
        "duration": 6,
        "start_time": "2023-02-17T11:00:30.761Z"
      },
      {
        "duration": 2,
        "start_time": "2023-02-17T11:39:12.452Z"
      },
      {
        "duration": 3,
        "start_time": "2023-02-17T11:39:14.132Z"
      },
      {
        "duration": 348,
        "start_time": "2023-02-17T11:39:14.324Z"
      },
      {
        "duration": 5,
        "start_time": "2023-02-17T11:39:15.421Z"
      },
      {
        "duration": 692,
        "start_time": "2023-02-17T11:39:17.456Z"
      },
      {
        "duration": 449,
        "start_time": "2023-02-17T11:39:21.855Z"
      },
      {
        "duration": 4,
        "start_time": "2023-02-17T11:40:31.707Z"
      },
      {
        "duration": 849,
        "start_time": "2023-02-17T11:40:31.890Z"
      },
      {
        "duration": 10,
        "start_time": "2023-02-17T11:40:34.122Z"
      },
      {
        "duration": 660,
        "start_time": "2023-02-17T11:40:35.796Z"
      },
      {
        "duration": 332,
        "start_time": "2023-02-17T11:40:36.635Z"
      },
      {
        "duration": 3,
        "start_time": "2023-02-17T11:40:44.140Z"
      },
      {
        "duration": 406,
        "start_time": "2023-02-17T11:40:44.339Z"
      },
      {
        "duration": 6,
        "start_time": "2023-02-17T11:40:45.663Z"
      },
      {
        "duration": 768,
        "start_time": "2023-02-17T11:40:47.270Z"
      },
      {
        "duration": 494,
        "start_time": "2023-02-17T11:40:48.069Z"
      },
      {
        "duration": 773,
        "start_time": "2023-02-17T11:43:15.105Z"
      },
      {
        "duration": 402,
        "start_time": "2023-02-17T11:43:40.055Z"
      },
      {
        "duration": 804,
        "start_time": "2023-02-17T11:44:52.438Z"
      },
      {
        "duration": 737,
        "start_time": "2023-02-17T11:45:16.236Z"
      },
      {
        "duration": 884,
        "start_time": "2023-02-17T11:45:37.168Z"
      },
      {
        "duration": 310,
        "start_time": "2023-02-17T11:45:45.969Z"
      },
      {
        "duration": 3,
        "start_time": "2023-02-17T11:45:58.870Z"
      },
      {
        "duration": 339,
        "start_time": "2023-02-17T11:45:59.407Z"
      },
      {
        "duration": 11,
        "start_time": "2023-02-17T11:46:02.338Z"
      },
      {
        "duration": 823,
        "start_time": "2023-02-17T11:46:05.525Z"
      },
      {
        "duration": 279,
        "start_time": "2023-02-17T11:46:06.981Z"
      },
      {
        "duration": 344,
        "start_time": "2023-02-17T11:46:14.397Z"
      },
      {
        "duration": 4,
        "start_time": "2023-02-17T11:46:19.865Z"
      },
      {
        "duration": 4247,
        "start_time": "2023-02-17T11:46:22.228Z"
      },
      {
        "duration": 2316,
        "start_time": "2023-02-17T11:46:31.322Z"
      },
      {
        "duration": 1371,
        "start_time": "2023-02-17T11:46:51.909Z"
      },
      {
        "duration": 15656,
        "start_time": "2023-02-17T11:46:53.282Z"
      },
      {
        "duration": 9501,
        "start_time": "2023-02-17T11:47:08.941Z"
      },
      {
        "duration": 2799,
        "start_time": "2023-02-17T11:47:18.445Z"
      },
      {
        "duration": 15,
        "start_time": "2023-02-17T11:47:21.247Z"
      },
      {
        "duration": 33485,
        "start_time": "2023-02-17T11:47:21.264Z"
      },
      {
        "duration": 496,
        "start_time": "2023-02-17T11:47:54.751Z"
      },
      {
        "duration": 993,
        "start_time": "2023-02-17T11:47:55.249Z"
      },
      {
        "duration": 1230,
        "start_time": "2023-02-17T11:47:56.245Z"
      },
      {
        "duration": 6246,
        "start_time": "2023-02-17T11:47:57.478Z"
      },
      {
        "duration": 5837,
        "start_time": "2023-02-17T11:48:03.725Z"
      },
      {
        "duration": 298,
        "start_time": "2023-02-17T11:48:09.564Z"
      },
      {
        "duration": 77,
        "start_time": "2023-02-17T11:48:09.864Z"
      },
      {
        "duration": 419,
        "start_time": "2023-02-17T11:48:09.943Z"
      },
      {
        "duration": 611,
        "start_time": "2023-02-17T11:48:10.364Z"
      },
      {
        "duration": 73,
        "start_time": "2023-02-17T11:48:10.976Z"
      },
      {
        "duration": 2,
        "start_time": "2023-02-17T11:48:11.051Z"
      },
      {
        "duration": 17,
        "start_time": "2023-02-17T11:48:11.055Z"
      },
      {
        "duration": 1387,
        "start_time": "2023-02-17T11:48:11.074Z"
      },
      {
        "duration": 10,
        "start_time": "2023-02-17T11:48:12.463Z"
      },
      {
        "duration": 3234,
        "start_time": "2023-02-17T11:48:12.539Z"
      },
      {
        "duration": 864,
        "start_time": "2023-02-17T11:48:15.774Z"
      },
      {
        "duration": 3,
        "start_time": "2023-02-17T11:48:16.640Z"
      },
      {
        "duration": 815,
        "start_time": "2023-02-17T11:48:16.645Z"
      },
      {
        "duration": 76,
        "start_time": "2023-02-17T11:48:17.462Z"
      },
      {
        "duration": 4098,
        "start_time": "2023-02-17T11:48:17.540Z"
      },
      {
        "duration": 0,
        "start_time": "2023-02-17T11:48:21.639Z"
      },
      {
        "duration": 1292,
        "start_time": "2023-02-17T11:51:38.340Z"
      },
      {
        "duration": 15698,
        "start_time": "2023-02-17T11:51:41.786Z"
      },
      {
        "duration": 10008,
        "start_time": "2023-02-17T11:51:57.539Z"
      },
      {
        "duration": 2623,
        "start_time": "2023-02-17T11:52:07.549Z"
      },
      {
        "duration": 21,
        "start_time": "2023-02-17T11:52:10.237Z"
      },
      {
        "duration": 31904,
        "start_time": "2023-02-17T11:52:10.260Z"
      },
      {
        "duration": 687,
        "start_time": "2023-02-17T11:52:42.165Z"
      },
      {
        "duration": 919,
        "start_time": "2023-02-17T11:52:42.854Z"
      },
      {
        "duration": 1189,
        "start_time": "2023-02-17T11:52:43.775Z"
      },
      {
        "duration": 6364,
        "start_time": "2023-02-17T11:52:44.967Z"
      },
      {
        "duration": 5237,
        "start_time": "2023-02-17T11:52:51.335Z"
      },
      {
        "duration": 295,
        "start_time": "2023-02-17T11:52:56.574Z"
      },
      {
        "duration": 82,
        "start_time": "2023-02-17T11:52:56.871Z"
      },
      {
        "duration": 488,
        "start_time": "2023-02-17T11:52:56.955Z"
      },
      {
        "duration": 527,
        "start_time": "2023-02-17T11:52:57.445Z"
      },
      {
        "duration": 80,
        "start_time": "2023-02-17T11:52:57.973Z"
      },
      {
        "duration": 4,
        "start_time": "2023-02-17T11:52:58.054Z"
      },
      {
        "duration": 78,
        "start_time": "2023-02-17T11:52:58.060Z"
      },
      {
        "duration": 1362,
        "start_time": "2023-02-17T11:52:58.140Z"
      },
      {
        "duration": 120,
        "start_time": "2023-02-17T11:54:24.637Z"
      },
      {
        "duration": 7,
        "start_time": "2023-02-17T11:54:30.082Z"
      },
      {
        "duration": 113,
        "start_time": "2023-02-17T11:54:33.772Z"
      },
      {
        "duration": 67,
        "start_time": "2023-02-17T11:54:44.992Z"
      },
      {
        "duration": 7,
        "start_time": "2023-02-17T11:56:02.271Z"
      },
      {
        "duration": 43,
        "start_time": "2023-02-17T11:56:06.432Z"
      },
      {
        "duration": 32,
        "start_time": "2023-02-17T11:56:10.737Z"
      },
      {
        "duration": 10,
        "start_time": "2023-02-17T11:56:15.740Z"
      },
      {
        "duration": 34,
        "start_time": "2023-02-17T11:56:20.024Z"
      },
      {
        "duration": 4196,
        "start_time": "2023-02-17T11:58:24.062Z"
      },
      {
        "duration": 159,
        "start_time": "2023-02-17T12:01:49.308Z"
      },
      {
        "duration": 4,
        "start_time": "2023-02-17T12:01:59.657Z"
      },
      {
        "duration": 820,
        "start_time": "2023-02-17T12:02:01.226Z"
      },
      {
        "duration": 1293,
        "start_time": "2023-02-17T12:02:03.959Z"
      },
      {
        "duration": 135,
        "start_time": "2023-02-17T12:18:03.603Z"
      },
      {
        "duration": 3,
        "start_time": "2023-02-17T12:18:11.195Z"
      },
      {
        "duration": 750,
        "start_time": "2023-02-17T12:18:11.893Z"
      },
      {
        "duration": 541,
        "start_time": "2023-02-17T12:18:14.725Z"
      },
      {
        "duration": 605,
        "start_time": "2023-02-17T12:39:34.757Z"
      },
      {
        "duration": 3,
        "start_time": "2023-02-17T12:56:12.799Z"
      },
      {
        "duration": 787,
        "start_time": "2023-02-17T12:56:15.075Z"
      },
      {
        "duration": 436,
        "start_time": "2023-02-17T12:56:18.640Z"
      },
      {
        "duration": 4,
        "start_time": "2023-02-17T12:57:24.065Z"
      },
      {
        "duration": 1047,
        "start_time": "2023-02-17T12:57:25.106Z"
      },
      {
        "duration": 760,
        "start_time": "2023-02-17T12:57:29.808Z"
      },
      {
        "duration": 4,
        "start_time": "2023-02-17T12:58:01.455Z"
      },
      {
        "duration": 4,
        "start_time": "2023-02-17T12:58:03.078Z"
      },
      {
        "duration": 732,
        "start_time": "2023-02-17T12:58:03.308Z"
      },
      {
        "duration": 694,
        "start_time": "2023-02-17T12:58:04.345Z"
      },
      {
        "duration": 4,
        "start_time": "2023-02-17T12:58:05.042Z"
      },
      {
        "duration": 22899,
        "start_time": "2023-02-17T12:58:05.048Z"
      },
      {
        "duration": 101,
        "start_time": "2023-02-17T12:58:27.950Z"
      },
      {
        "duration": 450,
        "start_time": "2023-02-17T12:58:28.053Z"
      },
      {
        "duration": 950,
        "start_time": "2023-02-17T12:58:28.505Z"
      },
      {
        "duration": 6527,
        "start_time": "2023-02-17T12:58:29.457Z"
      },
      {
        "duration": 4443,
        "start_time": "2023-02-17T12:58:35.986Z"
      },
      {
        "duration": 185,
        "start_time": "2023-02-17T12:58:40.431Z"
      },
      {
        "duration": 3,
        "start_time": "2023-02-17T12:58:40.617Z"
      },
      {
        "duration": 136,
        "start_time": "2023-02-17T12:58:40.622Z"
      },
      {
        "duration": 583,
        "start_time": "2023-02-17T12:58:40.760Z"
      },
      {
        "duration": 19,
        "start_time": "2023-02-17T12:58:41.345Z"
      },
      {
        "duration": 3,
        "start_time": "2023-02-17T12:58:41.366Z"
      },
      {
        "duration": 21,
        "start_time": "2023-02-17T12:58:41.371Z"
      },
      {
        "duration": 823,
        "start_time": "2023-02-17T12:59:22.444Z"
      },
      {
        "duration": 749,
        "start_time": "2023-02-17T12:59:26.624Z"
      },
      {
        "duration": 366,
        "start_time": "2023-02-17T13:00:38.473Z"
      },
      {
        "duration": 413,
        "start_time": "2023-02-17T13:05:23.127Z"
      },
      {
        "duration": 3,
        "start_time": "2023-02-17T13:11:34.532Z"
      },
      {
        "duration": 561,
        "start_time": "2023-02-17T13:11:36.613Z"
      },
      {
        "duration": 348,
        "start_time": "2023-02-17T13:11:40.119Z"
      },
      {
        "duration": 85,
        "start_time": "2023-02-17T13:11:42.578Z"
      },
      {
        "duration": 294,
        "start_time": "2023-02-17T13:11:47.072Z"
      },
      {
        "duration": 410,
        "start_time": "2023-02-17T13:12:09.534Z"
      },
      {
        "duration": 4,
        "start_time": "2023-02-17T13:12:27.987Z"
      },
      {
        "duration": 483,
        "start_time": "2023-02-17T13:12:28.591Z"
      },
      {
        "duration": 30,
        "start_time": "2023-02-17T13:12:31.394Z"
      },
      {
        "duration": 293,
        "start_time": "2023-02-17T13:12:35.673Z"
      },
      {
        "duration": 3,
        "start_time": "2023-02-17T13:13:40.608Z"
      },
      {
        "duration": 532,
        "start_time": "2023-02-17T13:13:41.445Z"
      },
      {
        "duration": 28,
        "start_time": "2023-02-17T13:13:44.742Z"
      },
      {
        "duration": 271,
        "start_time": "2023-02-17T13:13:51.087Z"
      },
      {
        "duration": 581,
        "start_time": "2023-02-17T13:14:09.882Z"
      },
      {
        "duration": 4,
        "start_time": "2023-02-17T13:14:29.678Z"
      },
      {
        "duration": 500,
        "start_time": "2023-02-17T13:14:30.202Z"
      },
      {
        "duration": 29,
        "start_time": "2023-02-17T13:14:32.834Z"
      },
      {
        "duration": 599,
        "start_time": "2023-02-17T13:14:34.608Z"
      },
      {
        "duration": 266,
        "start_time": "2023-02-17T13:16:14.310Z"
      },
      {
        "duration": 170,
        "start_time": "2023-02-17T13:18:03.838Z"
      },
      {
        "duration": 4,
        "start_time": "2023-02-17T13:18:13.732Z"
      },
      {
        "duration": 522,
        "start_time": "2023-02-17T13:18:14.227Z"
      },
      {
        "duration": 449,
        "start_time": "2023-02-17T13:18:15.803Z"
      },
      {
        "duration": 3,
        "start_time": "2023-02-17T13:19:54.805Z"
      },
      {
        "duration": 414,
        "start_time": "2023-02-17T13:19:55.152Z"
      },
      {
        "duration": 431,
        "start_time": "2023-02-17T13:19:58.454Z"
      },
      {
        "duration": 588,
        "start_time": "2023-02-17T13:20:32.699Z"
      },
      {
        "duration": 3,
        "start_time": "2023-02-17T13:20:39.331Z"
      },
      {
        "duration": 446,
        "start_time": "2023-02-17T13:20:39.543Z"
      },
      {
        "duration": 438,
        "start_time": "2023-02-17T13:20:41.132Z"
      },
      {
        "duration": 3,
        "start_time": "2023-02-17T13:21:36.163Z"
      },
      {
        "duration": 340,
        "start_time": "2023-02-17T13:21:36.619Z"
      },
      {
        "duration": 422,
        "start_time": "2023-02-17T13:21:39.650Z"
      },
      {
        "duration": 4,
        "start_time": "2023-02-17T13:22:39.449Z"
      },
      {
        "duration": 484,
        "start_time": "2023-02-17T13:22:39.753Z"
      },
      {
        "duration": 407,
        "start_time": "2023-02-17T13:22:41.777Z"
      },
      {
        "duration": 3,
        "start_time": "2023-02-17T13:23:31.978Z"
      },
      {
        "duration": 407,
        "start_time": "2023-02-17T13:23:32.769Z"
      },
      {
        "duration": 1364,
        "start_time": "2023-02-17T13:23:35.883Z"
      },
      {
        "duration": 12,
        "start_time": "2023-02-17T13:24:21.731Z"
      },
      {
        "duration": 1347,
        "start_time": "2023-02-17T13:24:43.708Z"
      },
      {
        "duration": 16596,
        "start_time": "2023-02-17T13:24:45.058Z"
      },
      {
        "duration": 10590,
        "start_time": "2023-02-17T13:25:01.657Z"
      },
      {
        "duration": 3089,
        "start_time": "2023-02-17T13:25:12.250Z"
      },
      {
        "duration": 24,
        "start_time": "2023-02-17T13:25:15.341Z"
      },
      {
        "duration": 35378,
        "start_time": "2023-02-17T13:25:15.367Z"
      },
      {
        "duration": 719,
        "start_time": "2023-02-17T13:25:50.747Z"
      },
      {
        "duration": 1286,
        "start_time": "2023-02-17T13:25:51.469Z"
      },
      {
        "duration": 1524,
        "start_time": "2023-02-17T13:25:52.758Z"
      },
      {
        "duration": 6398,
        "start_time": "2023-02-17T13:25:54.285Z"
      },
      {
        "duration": 5021,
        "start_time": "2023-02-17T13:26:00.685Z"
      },
      {
        "duration": 349,
        "start_time": "2023-02-17T13:26:05.708Z"
      },
      {
        "duration": 101,
        "start_time": "2023-02-17T13:26:06.059Z"
      },
      {
        "duration": 588,
        "start_time": "2023-02-17T13:26:06.163Z"
      },
      {
        "duration": 624,
        "start_time": "2023-02-17T13:26:06.753Z"
      },
      {
        "duration": 70,
        "start_time": "2023-02-17T13:26:07.378Z"
      },
      {
        "duration": 2,
        "start_time": "2023-02-17T13:26:07.451Z"
      },
      {
        "duration": 13,
        "start_time": "2023-02-17T13:26:07.455Z"
      },
      {
        "duration": 1869,
        "start_time": "2023-02-17T13:26:07.470Z"
      },
      {
        "duration": 4005,
        "start_time": "2023-02-17T13:26:09.341Z"
      },
      {
        "duration": 5,
        "start_time": "2023-02-17T13:26:13.348Z"
      },
      {
        "duration": 5483,
        "start_time": "2023-02-17T13:26:13.355Z"
      },
      {
        "duration": 3127,
        "start_time": "2023-02-17T13:26:18.840Z"
      },
      {
        "duration": 4738,
        "start_time": "2023-02-17T13:28:15.008Z"
      },
      {
        "duration": 10,
        "start_time": "2023-02-17T13:29:04.265Z"
      },
      {
        "duration": 1245,
        "start_time": "2023-02-17T13:29:12.450Z"
      },
      {
        "duration": 16187,
        "start_time": "2023-02-17T13:29:13.697Z"
      },
      {
        "duration": 10433,
        "start_time": "2023-02-17T13:29:29.938Z"
      },
      {
        "duration": 3028,
        "start_time": "2023-02-17T13:29:40.439Z"
      },
      {
        "duration": 90,
        "start_time": "2023-02-17T13:29:43.468Z"
      },
      {
        "duration": 34203,
        "start_time": "2023-02-17T13:29:43.560Z"
      },
      {
        "duration": 702,
        "start_time": "2023-02-17T13:30:17.766Z"
      },
      {
        "duration": 1097,
        "start_time": "2023-02-17T13:30:18.471Z"
      },
      {
        "duration": 1580,
        "start_time": "2023-02-17T13:30:19.571Z"
      },
      {
        "duration": 6733,
        "start_time": "2023-02-17T13:30:21.154Z"
      },
      {
        "duration": 5403,
        "start_time": "2023-02-17T13:30:27.889Z"
      },
      {
        "duration": 276,
        "start_time": "2023-02-17T13:30:33.294Z"
      },
      {
        "duration": 85,
        "start_time": "2023-02-17T13:30:33.572Z"
      },
      {
        "duration": 500,
        "start_time": "2023-02-17T13:30:33.660Z"
      },
      {
        "duration": 693,
        "start_time": "2023-02-17T13:30:34.162Z"
      },
      {
        "duration": 24,
        "start_time": "2023-02-17T13:30:34.857Z"
      },
      {
        "duration": 4,
        "start_time": "2023-02-17T13:30:34.883Z"
      },
      {
        "duration": 52,
        "start_time": "2023-02-17T13:30:34.889Z"
      },
      {
        "duration": 1902,
        "start_time": "2023-02-17T13:30:34.944Z"
      },
      {
        "duration": 4111,
        "start_time": "2023-02-17T13:30:36.848Z"
      },
      {
        "duration": 6,
        "start_time": "2023-02-17T13:30:40.962Z"
      },
      {
        "duration": 5686,
        "start_time": "2023-02-17T13:30:40.970Z"
      },
      {
        "duration": 0,
        "start_time": "2023-02-17T13:30:46.659Z"
      },
      {
        "duration": 1311,
        "start_time": "2023-02-17T13:32:06.263Z"
      },
      {
        "duration": 16403,
        "start_time": "2023-02-17T13:32:09.352Z"
      },
      {
        "duration": 11680,
        "start_time": "2023-02-17T13:32:25.758Z"
      },
      {
        "duration": 3098,
        "start_time": "2023-02-17T13:32:37.440Z"
      },
      {
        "duration": 24,
        "start_time": "2023-02-17T13:32:40.541Z"
      },
      {
        "duration": 37180,
        "start_time": "2023-02-17T13:32:40.567Z"
      },
      {
        "duration": 712,
        "start_time": "2023-02-17T13:33:22.742Z"
      },
      {
        "duration": 1070,
        "start_time": "2023-02-17T13:33:25.197Z"
      },
      {
        "duration": 1423,
        "start_time": "2023-02-17T13:33:26.269Z"
      },
      {
        "duration": 6646,
        "start_time": "2023-02-17T13:33:27.694Z"
      },
      {
        "duration": 5091,
        "start_time": "2023-02-17T13:33:34.342Z"
      },
      {
        "duration": 336,
        "start_time": "2023-02-17T13:33:39.438Z"
      },
      {
        "duration": 76,
        "start_time": "2023-02-17T13:33:39.776Z"
      },
      {
        "duration": 416,
        "start_time": "2023-02-17T13:33:39.854Z"
      },
      {
        "duration": 707,
        "start_time": "2023-02-17T13:33:40.272Z"
      },
      {
        "duration": 70,
        "start_time": "2023-02-17T13:33:40.981Z"
      },
      {
        "duration": 3,
        "start_time": "2023-02-17T13:33:41.053Z"
      },
      {
        "duration": 18,
        "start_time": "2023-02-17T13:33:41.058Z"
      },
      {
        "duration": 2179,
        "start_time": "2023-02-17T13:33:41.078Z"
      },
      {
        "duration": 5196,
        "start_time": "2023-02-17T13:33:43.260Z"
      },
      {
        "duration": 3,
        "start_time": "2023-02-17T13:34:05.524Z"
      },
      {
        "duration": 938,
        "start_time": "2023-02-17T13:34:05.918Z"
      },
      {
        "duration": 1670,
        "start_time": "2023-02-17T13:34:09.284Z"
      },
      {
        "duration": 5,
        "start_time": "2023-02-17T13:34:16.475Z"
      },
      {
        "duration": 5346,
        "start_time": "2023-02-17T13:34:25.136Z"
      },
      {
        "duration": 12,
        "start_time": "2023-02-17T13:35:43.805Z"
      },
      {
        "duration": 1262,
        "start_time": "2023-02-17T13:35:50.393Z"
      },
      {
        "duration": 16699,
        "start_time": "2023-02-17T13:35:51.658Z"
      },
      {
        "duration": 11379,
        "start_time": "2023-02-17T13:36:08.360Z"
      },
      {
        "duration": 3411,
        "start_time": "2023-02-17T13:36:19.742Z"
      },
      {
        "duration": 84,
        "start_time": "2023-02-17T13:36:23.155Z"
      },
      {
        "duration": 35012,
        "start_time": "2023-02-17T13:36:23.241Z"
      },
      {
        "duration": 507,
        "start_time": "2023-02-17T13:36:58.254Z"
      },
      {
        "duration": 1184,
        "start_time": "2023-02-17T13:36:58.764Z"
      },
      {
        "duration": 1589,
        "start_time": "2023-02-17T13:36:59.950Z"
      },
      {
        "duration": 6794,
        "start_time": "2023-02-17T13:37:01.542Z"
      },
      {
        "duration": 5684,
        "start_time": "2023-02-17T13:37:08.341Z"
      },
      {
        "duration": 214,
        "start_time": "2023-02-17T13:37:14.027Z"
      },
      {
        "duration": 26,
        "start_time": "2023-02-17T13:37:14.243Z"
      },
      {
        "duration": 480,
        "start_time": "2023-02-17T13:37:14.271Z"
      },
      {
        "duration": 600,
        "start_time": "2023-02-17T13:37:14.753Z"
      },
      {
        "duration": 23,
        "start_time": "2023-02-17T13:37:15.355Z"
      },
      {
        "duration": 3,
        "start_time": "2023-02-17T13:37:15.381Z"
      },
      {
        "duration": 51,
        "start_time": "2023-02-17T13:37:15.387Z"
      },
      {
        "duration": 1405,
        "start_time": "2023-02-17T13:37:15.440Z"
      },
      {
        "duration": 4008,
        "start_time": "2023-02-17T13:37:16.847Z"
      },
      {
        "duration": 6,
        "start_time": "2023-02-17T13:37:20.858Z"
      },
      {
        "duration": 4541,
        "start_time": "2023-02-17T13:37:20.866Z"
      },
      {
        "duration": 0,
        "start_time": "2023-02-17T13:37:25.409Z"
      },
      {
        "duration": 3162,
        "start_time": "2023-02-17T13:37:41.451Z"
      },
      {
        "duration": 1261,
        "start_time": "2023-02-17T13:38:40.535Z"
      },
      {
        "duration": 16452,
        "start_time": "2023-02-17T13:38:41.798Z"
      },
      {
        "duration": 10686,
        "start_time": "2023-02-17T13:38:58.253Z"
      },
      {
        "duration": 2819,
        "start_time": "2023-02-17T13:39:08.942Z"
      },
      {
        "duration": 87,
        "start_time": "2023-02-17T13:39:11.763Z"
      },
      {
        "duration": 34091,
        "start_time": "2023-02-17T13:39:11.851Z"
      },
      {
        "duration": 714,
        "start_time": "2023-02-17T13:39:45.944Z"
      },
      {
        "duration": 990,
        "start_time": "2023-02-17T13:39:46.661Z"
      },
      {
        "duration": 1526,
        "start_time": "2023-02-17T13:39:47.652Z"
      },
      {
        "duration": 6592,
        "start_time": "2023-02-17T13:39:49.180Z"
      },
      {
        "duration": 4651,
        "start_time": "2023-02-17T13:39:55.774Z"
      },
      {
        "duration": 344,
        "start_time": "2023-02-17T13:40:00.427Z"
      },
      {
        "duration": 83,
        "start_time": "2023-02-17T13:40:00.773Z"
      },
      {
        "duration": 520,
        "start_time": "2023-02-17T13:40:00.857Z"
      },
      {
        "duration": 682,
        "start_time": "2023-02-17T13:40:01.379Z"
      },
      {
        "duration": 82,
        "start_time": "2023-02-17T13:40:02.064Z"
      },
      {
        "duration": 4,
        "start_time": "2023-02-17T13:40:02.147Z"
      },
      {
        "duration": 86,
        "start_time": "2023-02-17T13:40:02.152Z"
      },
      {
        "duration": 1500,
        "start_time": "2023-02-17T13:40:02.240Z"
      },
      {
        "duration": 4037,
        "start_time": "2023-02-17T13:40:03.743Z"
      },
      {
        "duration": 6,
        "start_time": "2023-02-17T13:40:07.839Z"
      },
      {
        "duration": 6291,
        "start_time": "2023-02-17T13:40:07.847Z"
      },
      {
        "duration": 3275,
        "start_time": "2023-02-17T13:40:14.141Z"
      },
      {
        "duration": 6,
        "start_time": "2023-02-17T13:48:23.043Z"
      },
      {
        "duration": 3067,
        "start_time": "2023-02-17T13:48:25.745Z"
      },
      {
        "duration": 4,
        "start_time": "2023-02-17T13:48:33.631Z"
      },
      {
        "duration": 256,
        "start_time": "2023-02-17T13:48:36.295Z"
      },
      {
        "duration": 7,
        "start_time": "2023-02-17T13:48:48.654Z"
      },
      {
        "duration": 2732,
        "start_time": "2023-02-17T13:48:51.064Z"
      },
      {
        "duration": 5,
        "start_time": "2023-02-17T13:48:57.852Z"
      },
      {
        "duration": 2591,
        "start_time": "2023-02-17T13:49:00.169Z"
      },
      {
        "duration": 4,
        "start_time": "2023-02-17T13:49:44.167Z"
      },
      {
        "duration": 7674,
        "start_time": "2023-02-17T13:49:46.413Z"
      },
      {
        "duration": 5,
        "start_time": "2023-02-17T13:50:00.321Z"
      },
      {
        "duration": 7585,
        "start_time": "2023-02-17T13:50:04.410Z"
      },
      {
        "duration": 3821,
        "start_time": "2023-02-17T13:50:17.324Z"
      },
      {
        "duration": 6,
        "start_time": "2023-02-17T13:50:31.920Z"
      },
      {
        "duration": 2167,
        "start_time": "2023-02-17T13:50:34.995Z"
      },
      {
        "duration": 1317,
        "start_time": "2023-02-17T13:50:43.525Z"
      },
      {
        "duration": 16502,
        "start_time": "2023-02-17T13:50:44.844Z"
      },
      {
        "duration": 11812,
        "start_time": "2023-02-17T13:51:01.348Z"
      },
      {
        "duration": 3003,
        "start_time": "2023-02-17T13:51:13.163Z"
      },
      {
        "duration": 81,
        "start_time": "2023-02-17T13:51:16.168Z"
      },
      {
        "duration": 35810,
        "start_time": "2023-02-17T13:51:16.251Z"
      },
      {
        "duration": 792,
        "start_time": "2023-02-17T13:51:52.063Z"
      },
      {
        "duration": 1106,
        "start_time": "2023-02-17T13:51:52.857Z"
      },
      {
        "duration": 1432,
        "start_time": "2023-02-17T13:51:53.965Z"
      },
      {
        "duration": 6527,
        "start_time": "2023-02-17T13:51:55.400Z"
      },
      {
        "duration": 5070,
        "start_time": "2023-02-17T13:52:01.929Z"
      },
      {
        "duration": 243,
        "start_time": "2023-02-17T13:52:07.001Z"
      },
      {
        "duration": 30,
        "start_time": "2023-02-17T13:52:07.245Z"
      },
      {
        "duration": 581,
        "start_time": "2023-02-17T13:52:07.277Z"
      },
      {
        "duration": 624,
        "start_time": "2023-02-17T13:52:07.860Z"
      },
      {
        "duration": 54,
        "start_time": "2023-02-17T13:52:08.486Z"
      },
      {
        "duration": 2,
        "start_time": "2023-02-17T13:52:08.542Z"
      },
      {
        "duration": 31,
        "start_time": "2023-02-17T13:52:08.546Z"
      },
      {
        "duration": 1481,
        "start_time": "2023-02-17T13:52:08.580Z"
      },
      {
        "duration": 4216,
        "start_time": "2023-02-17T13:52:10.063Z"
      },
      {
        "duration": 7,
        "start_time": "2023-02-17T13:52:14.338Z"
      },
      {
        "duration": 5381,
        "start_time": "2023-02-17T13:52:14.347Z"
      },
      {
        "duration": 3511,
        "start_time": "2023-02-17T13:52:19.730Z"
      },
      {
        "duration": 5,
        "start_time": "2023-02-17T13:54:44.525Z"
      },
      {
        "duration": 3568,
        "start_time": "2023-02-17T13:54:47.635Z"
      },
      {
        "duration": 7,
        "start_time": "2023-02-17T13:54:57.073Z"
      },
      {
        "duration": 2842,
        "start_time": "2023-02-17T13:55:00.213Z"
      },
      {
        "duration": 6,
        "start_time": "2023-02-17T13:55:07.728Z"
      },
      {
        "duration": 2747,
        "start_time": "2023-02-17T13:55:10.101Z"
      },
      {
        "duration": 5,
        "start_time": "2023-02-17T13:55:18.360Z"
      },
      {
        "duration": 2488,
        "start_time": "2023-02-17T13:55:21.019Z"
      },
      {
        "duration": 11,
        "start_time": "2023-02-17T13:57:39.497Z"
      },
      {
        "duration": 1390,
        "start_time": "2023-02-17T13:57:50.432Z"
      },
      {
        "duration": 16449,
        "start_time": "2023-02-17T13:57:51.825Z"
      },
      {
        "duration": 1536,
        "start_time": "2023-02-17T18:20:17.111Z"
      },
      {
        "duration": 17047,
        "start_time": "2023-02-17T18:20:18.650Z"
      },
      {
        "duration": 12001,
        "start_time": "2023-02-17T18:20:35.699Z"
      },
      {
        "duration": 3400,
        "start_time": "2023-02-17T18:20:47.701Z"
      },
      {
        "duration": 77,
        "start_time": "2023-02-17T18:20:51.104Z"
      },
      {
        "duration": 36628,
        "start_time": "2023-02-17T18:20:51.195Z"
      },
      {
        "duration": 670,
        "start_time": "2023-02-17T18:21:27.826Z"
      },
      {
        "duration": 1079,
        "start_time": "2023-02-17T18:21:28.498Z"
      },
      {
        "duration": 1486,
        "start_time": "2023-02-17T18:21:29.580Z"
      },
      {
        "duration": 6728,
        "start_time": "2023-02-17T18:21:31.068Z"
      },
      {
        "duration": 5210,
        "start_time": "2023-02-17T18:21:37.798Z"
      },
      {
        "duration": 296,
        "start_time": "2023-02-17T18:21:43.011Z"
      },
      {
        "duration": 35,
        "start_time": "2023-02-17T18:21:43.368Z"
      },
      {
        "duration": 592,
        "start_time": "2023-02-17T18:21:43.408Z"
      },
      {
        "duration": 690,
        "start_time": "2023-02-17T18:21:44.002Z"
      },
      {
        "duration": 21,
        "start_time": "2023-02-17T18:21:44.695Z"
      },
      {
        "duration": 4,
        "start_time": "2023-02-17T18:21:44.772Z"
      },
      {
        "duration": 16,
        "start_time": "2023-02-17T18:21:44.786Z"
      },
      {
        "duration": 1770,
        "start_time": "2023-02-17T18:21:44.803Z"
      },
      {
        "duration": 5018,
        "start_time": "2023-02-17T18:21:46.576Z"
      },
      {
        "duration": 12,
        "start_time": "2023-02-17T18:22:10.149Z"
      },
      {
        "duration": 20,
        "start_time": "2023-02-17T18:22:20.684Z"
      },
      {
        "duration": 113,
        "start_time": "2023-02-17T18:22:30.103Z"
      },
      {
        "duration": 18,
        "start_time": "2023-02-17T18:22:56.536Z"
      },
      {
        "duration": 24,
        "start_time": "2023-02-17T18:23:04.656Z"
      },
      {
        "duration": 4461,
        "start_time": "2023-02-17T18:23:08.222Z"
      },
      {
        "duration": 3352,
        "start_time": "2023-02-17T18:23:16.427Z"
      },
      {
        "duration": 3389,
        "start_time": "2023-02-17T18:24:59.394Z"
      },
      {
        "duration": 4,
        "start_time": "2023-02-17T18:27:58.013Z"
      },
      {
        "duration": 5305,
        "start_time": "2023-02-17T18:27:59.000Z"
      },
      {
        "duration": 3160,
        "start_time": "2023-02-17T18:28:05.726Z"
      },
      {
        "duration": 118,
        "start_time": "2023-02-17T18:29:21.781Z"
      },
      {
        "duration": 653,
        "start_time": "2023-02-17T18:29:32.265Z"
      },
      {
        "duration": 1550,
        "start_time": "2023-02-17T18:29:33.338Z"
      },
      {
        "duration": 13,
        "start_time": "2023-02-17T18:30:14.462Z"
      },
      {
        "duration": 3111,
        "start_time": "2023-02-17T18:30:24.114Z"
      },
      {
        "duration": 2345,
        "start_time": "2023-02-17T18:30:30.957Z"
      },
      {
        "duration": 4,
        "start_time": "2023-02-17T18:32:27.989Z"
      },
      {
        "duration": 2708,
        "start_time": "2023-02-17T18:32:32.766Z"
      },
      {
        "duration": 2070,
        "start_time": "2023-02-17T18:32:38.602Z"
      },
      {
        "duration": 2220,
        "start_time": "2023-02-17T18:32:50.082Z"
      },
      {
        "duration": 327,
        "start_time": "2023-02-17T18:32:55.299Z"
      },
      {
        "duration": 376,
        "start_time": "2023-02-17T18:33:04.301Z"
      },
      {
        "duration": 1215,
        "start_time": "2023-02-17T18:35:05.288Z"
      },
      {
        "duration": 16192,
        "start_time": "2023-02-17T18:35:06.505Z"
      },
      {
        "duration": 10972,
        "start_time": "2023-02-17T18:35:22.700Z"
      },
      {
        "duration": 3497,
        "start_time": "2023-02-17T18:35:33.677Z"
      },
      {
        "duration": 19,
        "start_time": "2023-02-17T18:35:37.177Z"
      },
      {
        "duration": 34128,
        "start_time": "2023-02-17T18:35:37.198Z"
      },
      {
        "duration": 534,
        "start_time": "2023-02-17T18:36:11.367Z"
      },
      {
        "duration": 1084,
        "start_time": "2023-02-17T18:36:11.902Z"
      },
      {
        "duration": 1487,
        "start_time": "2023-02-17T18:36:12.988Z"
      },
      {
        "duration": 7309,
        "start_time": "2023-02-17T18:36:14.477Z"
      },
      {
        "duration": 5005,
        "start_time": "2023-02-17T18:36:21.788Z"
      },
      {
        "duration": 299,
        "start_time": "2023-02-17T18:36:26.795Z"
      },
      {
        "duration": 86,
        "start_time": "2023-02-17T18:36:27.096Z"
      },
      {
        "duration": 585,
        "start_time": "2023-02-17T18:36:27.187Z"
      },
      {
        "duration": 636,
        "start_time": "2023-02-17T18:36:27.773Z"
      },
      {
        "duration": 66,
        "start_time": "2023-02-17T18:36:28.411Z"
      },
      {
        "duration": 3,
        "start_time": "2023-02-17T18:36:28.480Z"
      },
      {
        "duration": 25,
        "start_time": "2023-02-17T18:36:28.485Z"
      },
      {
        "duration": 1657,
        "start_time": "2023-02-17T18:36:28.512Z"
      },
      {
        "duration": 4403,
        "start_time": "2023-02-17T18:36:30.175Z"
      },
      {
        "duration": 13,
        "start_time": "2023-02-17T18:36:34.580Z"
      },
      {
        "duration": 17,
        "start_time": "2023-02-17T18:36:34.596Z"
      },
      {
        "duration": 6298,
        "start_time": "2023-02-17T18:36:34.616Z"
      },
      {
        "duration": 3406,
        "start_time": "2023-02-17T18:36:40.916Z"
      },
      {
        "duration": 7112,
        "start_time": "2023-02-17T18:40:01.741Z"
      }
    ],
    "colab": {
      "provenance": []
    },
    "kernelspec": {
      "display_name": "Python 3 (ipykernel)",
      "language": "python",
      "name": "python3"
    },
    "language_info": {
      "codemirror_mode": {
        "name": "ipython",
        "version": 3
      },
      "file_extension": ".py",
      "mimetype": "text/x-python",
      "name": "python",
      "nbconvert_exporter": "python",
      "pygments_lexer": "ipython3",
      "version": "3.9.5"
    },
    "toc": {
      "base_numbering": 1,
      "nav_menu": {},
      "number_sections": true,
      "sideBar": true,
      "skip_h1_title": true,
      "title_cell": "Table of Contents",
      "title_sidebar": "Contents",
      "toc_cell": false,
      "toc_position": {
        "height": "calc(100% - 180px)",
        "left": "10px",
        "top": "150px",
        "width": "366.391px"
      },
      "toc_section_display": true,
      "toc_window_display": true
    }
  },
  "nbformat": 4,
  "nbformat_minor": 5
}