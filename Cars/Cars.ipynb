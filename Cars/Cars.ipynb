{
  "cells": [
    {
      "cell_type": "markdown",
      "metadata": {
        "id": "ignS1aFM7nZD"
      },
      "source": [
        "# Цель проекта: Определение стоимости автомобилей / Project Goal: Determining the value of cars."
      ]
    },
    {
      "cell_type": "markdown",
      "metadata": {
        "id": "ju9h7pzj7nZE"
      },
      "source": [
        "Сервис по продаже автомобилей с пробегом «Не бит, не крашен» разрабатывает приложение для привлечения новых клиентов. В нём можно быстро узнать рыночную стоимость своего автомобиля. В вашем распоряжении исторические данные: технические характеристики, комплектации и цены автомобилей. Вам нужно построить модель для определения стоимости. \n",
        "\n",
        "Заказчику важны:\n",
        "\n",
        "- качество предсказания;\n",
        "- скорость предсказания;\n",
        "- время обучения.\n",
        "\n",
        "ENG:\n",
        "The used car sales service \"Not beaten, not painted\" is developing an application to attract new customers. With it, you can quickly find out the market value of your car. You have historical data at your disposal: technical specifications, configurations, and car prices. You need to build a model to determine the value.\n",
        "\n",
        "The client is concerned with:\n",
        "\n",
        "- prediction quality;\n",
        "- prediction speed;\n",
        "- training time.\n"
      ]
    },
    {
      "cell_type": "code",
      "execution_count": 6,
      "metadata": {
        "id": "DyakuJMn7nZF"
      },
      "outputs": [],
      "source": [
        "import warnings\n",
        "warnings.filterwarnings(\"ignore\")"
      ]
    },
    {
      "cell_type": "code",
      "source": [
        "!pip install catboost"
      ],
      "metadata": {
        "colab": {
          "base_uri": "https://localhost:8080/"
        },
        "id": "rRa2-GAewzH2",
        "outputId": "66d16295-22b1-4eda-be00-24ccc478440c"
      },
      "execution_count": 7,
      "outputs": [
        {
          "output_type": "stream",
          "name": "stdout",
          "text": [
            "Looking in indexes: https://pypi.org/simple, https://us-python.pkg.dev/colab-wheels/public/simple/\n",
            "Requirement already satisfied: catboost in /usr/local/lib/python3.10/dist-packages (1.2)\n",
            "Requirement already satisfied: graphviz in /usr/local/lib/python3.10/dist-packages (from catboost) (0.20.1)\n",
            "Requirement already satisfied: matplotlib in /usr/local/lib/python3.10/dist-packages (from catboost) (3.7.1)\n",
            "Requirement already satisfied: numpy>=1.16.0 in /usr/local/lib/python3.10/dist-packages (from catboost) (1.22.4)\n",
            "Requirement already satisfied: pandas>=0.24 in /usr/local/lib/python3.10/dist-packages (from catboost) (1.5.3)\n",
            "Requirement already satisfied: scipy in /usr/local/lib/python3.10/dist-packages (from catboost) (1.10.1)\n",
            "Requirement already satisfied: plotly in /usr/local/lib/python3.10/dist-packages (from catboost) (5.13.1)\n",
            "Requirement already satisfied: six in /usr/local/lib/python3.10/dist-packages (from catboost) (1.16.0)\n",
            "Requirement already satisfied: python-dateutil>=2.8.1 in /usr/local/lib/python3.10/dist-packages (from pandas>=0.24->catboost) (2.8.2)\n",
            "Requirement already satisfied: pytz>=2020.1 in /usr/local/lib/python3.10/dist-packages (from pandas>=0.24->catboost) (2022.7.1)\n",
            "Requirement already satisfied: contourpy>=1.0.1 in /usr/local/lib/python3.10/dist-packages (from matplotlib->catboost) (1.0.7)\n",
            "Requirement already satisfied: cycler>=0.10 in /usr/local/lib/python3.10/dist-packages (from matplotlib->catboost) (0.11.0)\n",
            "Requirement already satisfied: fonttools>=4.22.0 in /usr/local/lib/python3.10/dist-packages (from matplotlib->catboost) (4.39.3)\n",
            "Requirement already satisfied: kiwisolver>=1.0.1 in /usr/local/lib/python3.10/dist-packages (from matplotlib->catboost) (1.4.4)\n",
            "Requirement already satisfied: packaging>=20.0 in /usr/local/lib/python3.10/dist-packages (from matplotlib->catboost) (23.1)\n",
            "Requirement already satisfied: pillow>=6.2.0 in /usr/local/lib/python3.10/dist-packages (from matplotlib->catboost) (8.4.0)\n",
            "Requirement already satisfied: pyparsing>=2.3.1 in /usr/local/lib/python3.10/dist-packages (from matplotlib->catboost) (3.0.9)\n",
            "Requirement already satisfied: tenacity>=6.2.0 in /usr/local/lib/python3.10/dist-packages (from plotly->catboost) (8.2.2)\n"
          ]
        }
      ]
    },
    {
      "cell_type": "code",
      "source": [
        "from google.colab import drive\n",
        "drive.mount('/content/drive')"
      ],
      "metadata": {
        "colab": {
          "base_uri": "https://localhost:8080/"
        },
        "id": "_usJQnzQw15R",
        "outputId": "0024d909-7348-41e1-9d11-b0d3f8e6ac3f"
      },
      "execution_count": 8,
      "outputs": [
        {
          "output_type": "stream",
          "name": "stdout",
          "text": [
            "Drive already mounted at /content/drive; to attempt to forcibly remount, call drive.mount(\"/content/drive\", force_remount=True).\n"
          ]
        }
      ]
    },
    {
      "cell_type": "markdown",
      "metadata": {
        "id": "cecMew237nZG"
      },
      "source": [
        "## Подготовка данных / Data preparation"
      ]
    },
    {
      "cell_type": "markdown",
      "metadata": {
        "id": "wdqtEY9Z7nZG"
      },
      "source": [
        "### Загружаем библиотеки / Loading libraries\n",
        "\n"
      ]
    },
    {
      "cell_type": "code",
      "execution_count": 35,
      "metadata": {
        "id": "ugHc9XYX7nZG"
      },
      "outputs": [],
      "source": [
        "import pandas as pd\n",
        "import matplotlib.pyplot as plt\n",
        "import seaborn as sns\n",
        "import numpy as np\n",
        "import time\n",
        "from sklearn.ensemble import RandomForestRegressor\n",
        "from sklearn.tree import DecisionTreeRegressor,DecisionTreeClassifier\n",
        "from sklearn.preprocessing import LabelEncoder,OrdinalEncoder,StandardScaler\n",
        "from sklearn.model_selection import train_test_split,GridSearchCV,RandomizedSearchCV\n",
        "from sklearn.pipeline import Pipeline\n",
        "from sklearn.compose import make_column_transformer,ColumnTransformer\n",
        "from sklearn.metrics import mean_squared_error\n",
        "from sklearn.feature_selection import SelectKBest, f_regression,f_classif\n",
        "from catboost import CatBoostRegressor\n",
        "from lightgbm import LGBMRegressor\n"
      ]
    },
    {
      "cell_type": "markdown",
      "metadata": {
        "id": "dPlB9ooF7nZH"
      },
      "source": [
        "### Загружаем данные и получаем первичную иформацию / We load the data and get the primary information"
      ]
    },
    {
      "cell_type": "code",
      "execution_count": 10,
      "metadata": {
        "id": "R0QUmnV67nZH"
      },
      "outputs": [],
      "source": [
        "df=pd.read_csv('/content/drive/MyDrive/учеба/project/autos.csv')\n"
      ]
    },
    {
      "cell_type": "code",
      "execution_count": 11,
      "metadata": {
        "id": "ratYt85I7nZI",
        "colab": {
          "base_uri": "https://localhost:8080/",
          "height": 206
        },
        "outputId": "0aa616d4-c098-4339-bf58-2db2caff0645"
      },
      "outputs": [
        {
          "output_type": "execute_result",
          "data": {
            "text/plain": [
              "           DateCrawled  Price VehicleType  RegistrationYear Gearbox  Power  \\\n",
              "0  2016-03-24 11:52:17    480         NaN              1993  manual      0   \n",
              "1  2016-03-24 10:58:45  18300       coupe              2011  manual    190   \n",
              "2  2016-03-14 12:52:21   9800         suv              2004    auto    163   \n",
              "3  2016-03-17 16:54:04   1500       small              2001  manual     75   \n",
              "4  2016-03-31 17:25:20   3600       small              2008  manual     69   \n",
              "\n",
              "   Model  Kilometer  RegistrationMonth  FuelType       Brand Repaired  \\\n",
              "0   golf     150000                  0    petrol  volkswagen      NaN   \n",
              "1    NaN     125000                  5  gasoline        audi      yes   \n",
              "2  grand     125000                  8  gasoline        jeep      NaN   \n",
              "3   golf     150000                  6    petrol  volkswagen       no   \n",
              "4  fabia      90000                  7  gasoline       skoda       no   \n",
              "\n",
              "           DateCreated  NumberOfPictures  PostalCode             LastSeen  \n",
              "0  2016-03-24 00:00:00                 0       70435  2016-04-07 03:16:57  \n",
              "1  2016-03-24 00:00:00                 0       66954  2016-04-07 01:46:50  \n",
              "2  2016-03-14 00:00:00                 0       90480  2016-04-05 12:47:46  \n",
              "3  2016-03-17 00:00:00                 0       91074  2016-03-17 17:40:17  \n",
              "4  2016-03-31 00:00:00                 0       60437  2016-04-06 10:17:21  "
            ],
            "text/html": [
              "\n",
              "  <div id=\"df-961414cd-0718-4202-975e-3bed5c9ff87d\">\n",
              "    <div class=\"colab-df-container\">\n",
              "      <div>\n",
              "<style scoped>\n",
              "    .dataframe tbody tr th:only-of-type {\n",
              "        vertical-align: middle;\n",
              "    }\n",
              "\n",
              "    .dataframe tbody tr th {\n",
              "        vertical-align: top;\n",
              "    }\n",
              "\n",
              "    .dataframe thead th {\n",
              "        text-align: right;\n",
              "    }\n",
              "</style>\n",
              "<table border=\"1\" class=\"dataframe\">\n",
              "  <thead>\n",
              "    <tr style=\"text-align: right;\">\n",
              "      <th></th>\n",
              "      <th>DateCrawled</th>\n",
              "      <th>Price</th>\n",
              "      <th>VehicleType</th>\n",
              "      <th>RegistrationYear</th>\n",
              "      <th>Gearbox</th>\n",
              "      <th>Power</th>\n",
              "      <th>Model</th>\n",
              "      <th>Kilometer</th>\n",
              "      <th>RegistrationMonth</th>\n",
              "      <th>FuelType</th>\n",
              "      <th>Brand</th>\n",
              "      <th>Repaired</th>\n",
              "      <th>DateCreated</th>\n",
              "      <th>NumberOfPictures</th>\n",
              "      <th>PostalCode</th>\n",
              "      <th>LastSeen</th>\n",
              "    </tr>\n",
              "  </thead>\n",
              "  <tbody>\n",
              "    <tr>\n",
              "      <th>0</th>\n",
              "      <td>2016-03-24 11:52:17</td>\n",
              "      <td>480</td>\n",
              "      <td>NaN</td>\n",
              "      <td>1993</td>\n",
              "      <td>manual</td>\n",
              "      <td>0</td>\n",
              "      <td>golf</td>\n",
              "      <td>150000</td>\n",
              "      <td>0</td>\n",
              "      <td>petrol</td>\n",
              "      <td>volkswagen</td>\n",
              "      <td>NaN</td>\n",
              "      <td>2016-03-24 00:00:00</td>\n",
              "      <td>0</td>\n",
              "      <td>70435</td>\n",
              "      <td>2016-04-07 03:16:57</td>\n",
              "    </tr>\n",
              "    <tr>\n",
              "      <th>1</th>\n",
              "      <td>2016-03-24 10:58:45</td>\n",
              "      <td>18300</td>\n",
              "      <td>coupe</td>\n",
              "      <td>2011</td>\n",
              "      <td>manual</td>\n",
              "      <td>190</td>\n",
              "      <td>NaN</td>\n",
              "      <td>125000</td>\n",
              "      <td>5</td>\n",
              "      <td>gasoline</td>\n",
              "      <td>audi</td>\n",
              "      <td>yes</td>\n",
              "      <td>2016-03-24 00:00:00</td>\n",
              "      <td>0</td>\n",
              "      <td>66954</td>\n",
              "      <td>2016-04-07 01:46:50</td>\n",
              "    </tr>\n",
              "    <tr>\n",
              "      <th>2</th>\n",
              "      <td>2016-03-14 12:52:21</td>\n",
              "      <td>9800</td>\n",
              "      <td>suv</td>\n",
              "      <td>2004</td>\n",
              "      <td>auto</td>\n",
              "      <td>163</td>\n",
              "      <td>grand</td>\n",
              "      <td>125000</td>\n",
              "      <td>8</td>\n",
              "      <td>gasoline</td>\n",
              "      <td>jeep</td>\n",
              "      <td>NaN</td>\n",
              "      <td>2016-03-14 00:00:00</td>\n",
              "      <td>0</td>\n",
              "      <td>90480</td>\n",
              "      <td>2016-04-05 12:47:46</td>\n",
              "    </tr>\n",
              "    <tr>\n",
              "      <th>3</th>\n",
              "      <td>2016-03-17 16:54:04</td>\n",
              "      <td>1500</td>\n",
              "      <td>small</td>\n",
              "      <td>2001</td>\n",
              "      <td>manual</td>\n",
              "      <td>75</td>\n",
              "      <td>golf</td>\n",
              "      <td>150000</td>\n",
              "      <td>6</td>\n",
              "      <td>petrol</td>\n",
              "      <td>volkswagen</td>\n",
              "      <td>no</td>\n",
              "      <td>2016-03-17 00:00:00</td>\n",
              "      <td>0</td>\n",
              "      <td>91074</td>\n",
              "      <td>2016-03-17 17:40:17</td>\n",
              "    </tr>\n",
              "    <tr>\n",
              "      <th>4</th>\n",
              "      <td>2016-03-31 17:25:20</td>\n",
              "      <td>3600</td>\n",
              "      <td>small</td>\n",
              "      <td>2008</td>\n",
              "      <td>manual</td>\n",
              "      <td>69</td>\n",
              "      <td>fabia</td>\n",
              "      <td>90000</td>\n",
              "      <td>7</td>\n",
              "      <td>gasoline</td>\n",
              "      <td>skoda</td>\n",
              "      <td>no</td>\n",
              "      <td>2016-03-31 00:00:00</td>\n",
              "      <td>0</td>\n",
              "      <td>60437</td>\n",
              "      <td>2016-04-06 10:17:21</td>\n",
              "    </tr>\n",
              "  </tbody>\n",
              "</table>\n",
              "</div>\n",
              "      <button class=\"colab-df-convert\" onclick=\"convertToInteractive('df-961414cd-0718-4202-975e-3bed5c9ff87d')\"\n",
              "              title=\"Convert this dataframe to an interactive table.\"\n",
              "              style=\"display:none;\">\n",
              "        \n",
              "  <svg xmlns=\"http://www.w3.org/2000/svg\" height=\"24px\"viewBox=\"0 0 24 24\"\n",
              "       width=\"24px\">\n",
              "    <path d=\"M0 0h24v24H0V0z\" fill=\"none\"/>\n",
              "    <path d=\"M18.56 5.44l.94 2.06.94-2.06 2.06-.94-2.06-.94-.94-2.06-.94 2.06-2.06.94zm-11 1L8.5 8.5l.94-2.06 2.06-.94-2.06-.94L8.5 2.5l-.94 2.06-2.06.94zm10 10l.94 2.06.94-2.06 2.06-.94-2.06-.94-.94-2.06-.94 2.06-2.06.94z\"/><path d=\"M17.41 7.96l-1.37-1.37c-.4-.4-.92-.59-1.43-.59-.52 0-1.04.2-1.43.59L10.3 9.45l-7.72 7.72c-.78.78-.78 2.05 0 2.83L4 21.41c.39.39.9.59 1.41.59.51 0 1.02-.2 1.41-.59l7.78-7.78 2.81-2.81c.8-.78.8-2.07 0-2.86zM5.41 20L4 18.59l7.72-7.72 1.47 1.35L5.41 20z\"/>\n",
              "  </svg>\n",
              "      </button>\n",
              "      \n",
              "  <style>\n",
              "    .colab-df-container {\n",
              "      display:flex;\n",
              "      flex-wrap:wrap;\n",
              "      gap: 12px;\n",
              "    }\n",
              "\n",
              "    .colab-df-convert {\n",
              "      background-color: #E8F0FE;\n",
              "      border: none;\n",
              "      border-radius: 50%;\n",
              "      cursor: pointer;\n",
              "      display: none;\n",
              "      fill: #1967D2;\n",
              "      height: 32px;\n",
              "      padding: 0 0 0 0;\n",
              "      width: 32px;\n",
              "    }\n",
              "\n",
              "    .colab-df-convert:hover {\n",
              "      background-color: #E2EBFA;\n",
              "      box-shadow: 0px 1px 2px rgba(60, 64, 67, 0.3), 0px 1px 3px 1px rgba(60, 64, 67, 0.15);\n",
              "      fill: #174EA6;\n",
              "    }\n",
              "\n",
              "    [theme=dark] .colab-df-convert {\n",
              "      background-color: #3B4455;\n",
              "      fill: #D2E3FC;\n",
              "    }\n",
              "\n",
              "    [theme=dark] .colab-df-convert:hover {\n",
              "      background-color: #434B5C;\n",
              "      box-shadow: 0px 1px 3px 1px rgba(0, 0, 0, 0.15);\n",
              "      filter: drop-shadow(0px 1px 2px rgba(0, 0, 0, 0.3));\n",
              "      fill: #FFFFFF;\n",
              "    }\n",
              "  </style>\n",
              "\n",
              "      <script>\n",
              "        const buttonEl =\n",
              "          document.querySelector('#df-961414cd-0718-4202-975e-3bed5c9ff87d button.colab-df-convert');\n",
              "        buttonEl.style.display =\n",
              "          google.colab.kernel.accessAllowed ? 'block' : 'none';\n",
              "\n",
              "        async function convertToInteractive(key) {\n",
              "          const element = document.querySelector('#df-961414cd-0718-4202-975e-3bed5c9ff87d');\n",
              "          const dataTable =\n",
              "            await google.colab.kernel.invokeFunction('convertToInteractive',\n",
              "                                                     [key], {});\n",
              "          if (!dataTable) return;\n",
              "\n",
              "          const docLinkHtml = 'Like what you see? Visit the ' +\n",
              "            '<a target=\"_blank\" href=https://colab.research.google.com/notebooks/data_table.ipynb>data table notebook</a>'\n",
              "            + ' to learn more about interactive tables.';\n",
              "          element.innerHTML = '';\n",
              "          dataTable['output_type'] = 'display_data';\n",
              "          await google.colab.output.renderOutput(dataTable, element);\n",
              "          const docLink = document.createElement('div');\n",
              "          docLink.innerHTML = docLinkHtml;\n",
              "          element.appendChild(docLink);\n",
              "        }\n",
              "      </script>\n",
              "    </div>\n",
              "  </div>\n",
              "  "
            ]
          },
          "metadata": {},
          "execution_count": 11
        }
      ],
      "source": [
        "df.head()"
      ]
    },
    {
      "cell_type": "code",
      "execution_count": 12,
      "metadata": {
        "id": "x7cNYQOH7nZI",
        "colab": {
          "base_uri": "https://localhost:8080/"
        },
        "outputId": "48ea4cdd-25ed-4ce7-afc7-3280c98420b3"
      },
      "outputs": [
        {
          "output_type": "stream",
          "name": "stdout",
          "text": [
            "<class 'pandas.core.frame.DataFrame'>\n",
            "RangeIndex: 354369 entries, 0 to 354368\n",
            "Data columns (total 16 columns):\n",
            " #   Column             Non-Null Count   Dtype \n",
            "---  ------             --------------   ----- \n",
            " 0   DateCrawled        354369 non-null  object\n",
            " 1   Price              354369 non-null  int64 \n",
            " 2   VehicleType        316879 non-null  object\n",
            " 3   RegistrationYear   354369 non-null  int64 \n",
            " 4   Gearbox            334536 non-null  object\n",
            " 5   Power              354369 non-null  int64 \n",
            " 6   Model              334664 non-null  object\n",
            " 7   Kilometer          354369 non-null  int64 \n",
            " 8   RegistrationMonth  354369 non-null  int64 \n",
            " 9   FuelType           321474 non-null  object\n",
            " 10  Brand              354369 non-null  object\n",
            " 11  Repaired           283215 non-null  object\n",
            " 12  DateCreated        354369 non-null  object\n",
            " 13  NumberOfPictures   354369 non-null  int64 \n",
            " 14  PostalCode         354369 non-null  int64 \n",
            " 15  LastSeen           354369 non-null  object\n",
            "dtypes: int64(7), object(9)\n",
            "memory usage: 43.3+ MB\n"
          ]
        }
      ],
      "source": [
        "df.info()"
      ]
    },
    {
      "cell_type": "code",
      "execution_count": 13,
      "metadata": {
        "id": "ep0TvHj17nZI",
        "colab": {
          "base_uri": "https://localhost:8080/"
        },
        "outputId": "1def84df-7906-4f81-f084-03a22469cf8b"
      },
      "outputs": [
        {
          "output_type": "execute_result",
          "data": {
            "text/plain": [
              "(354369, 16)"
            ]
          },
          "metadata": {},
          "execution_count": 13
        }
      ],
      "source": [
        "df.shape"
      ]
    },
    {
      "cell_type": "code",
      "execution_count": 14,
      "metadata": {
        "id": "HJlXGx8d7nZJ",
        "colab": {
          "base_uri": "https://localhost:8080/",
          "height": 300
        },
        "outputId": "52c28af1-2e4d-4d1e-8fe1-7c6ae305c4ef"
      },
      "outputs": [
        {
          "output_type": "execute_result",
          "data": {
            "text/plain": [
              "               Price  RegistrationYear          Power      Kilometer  \\\n",
              "count  354369.000000     354369.000000  354369.000000  354369.000000   \n",
              "mean     4416.656776       2004.234448     110.094337  128211.172535   \n",
              "std      4514.158514         90.227958     189.850405   37905.341530   \n",
              "min         0.000000       1000.000000       0.000000    5000.000000   \n",
              "25%      1050.000000       1999.000000      69.000000  125000.000000   \n",
              "50%      2700.000000       2003.000000     105.000000  150000.000000   \n",
              "75%      6400.000000       2008.000000     143.000000  150000.000000   \n",
              "max     20000.000000       9999.000000   20000.000000  150000.000000   \n",
              "\n",
              "       RegistrationMonth  NumberOfPictures     PostalCode  \n",
              "count      354369.000000          354369.0  354369.000000  \n",
              "mean            5.714645               0.0   50508.689087  \n",
              "std             3.726421               0.0   25783.096248  \n",
              "min             0.000000               0.0    1067.000000  \n",
              "25%             3.000000               0.0   30165.000000  \n",
              "50%             6.000000               0.0   49413.000000  \n",
              "75%             9.000000               0.0   71083.000000  \n",
              "max            12.000000               0.0   99998.000000  "
            ],
            "text/html": [
              "\n",
              "  <div id=\"df-c491703a-bc49-4357-a7b0-5857ea7c649a\">\n",
              "    <div class=\"colab-df-container\">\n",
              "      <div>\n",
              "<style scoped>\n",
              "    .dataframe tbody tr th:only-of-type {\n",
              "        vertical-align: middle;\n",
              "    }\n",
              "\n",
              "    .dataframe tbody tr th {\n",
              "        vertical-align: top;\n",
              "    }\n",
              "\n",
              "    .dataframe thead th {\n",
              "        text-align: right;\n",
              "    }\n",
              "</style>\n",
              "<table border=\"1\" class=\"dataframe\">\n",
              "  <thead>\n",
              "    <tr style=\"text-align: right;\">\n",
              "      <th></th>\n",
              "      <th>Price</th>\n",
              "      <th>RegistrationYear</th>\n",
              "      <th>Power</th>\n",
              "      <th>Kilometer</th>\n",
              "      <th>RegistrationMonth</th>\n",
              "      <th>NumberOfPictures</th>\n",
              "      <th>PostalCode</th>\n",
              "    </tr>\n",
              "  </thead>\n",
              "  <tbody>\n",
              "    <tr>\n",
              "      <th>count</th>\n",
              "      <td>354369.000000</td>\n",
              "      <td>354369.000000</td>\n",
              "      <td>354369.000000</td>\n",
              "      <td>354369.000000</td>\n",
              "      <td>354369.000000</td>\n",
              "      <td>354369.0</td>\n",
              "      <td>354369.000000</td>\n",
              "    </tr>\n",
              "    <tr>\n",
              "      <th>mean</th>\n",
              "      <td>4416.656776</td>\n",
              "      <td>2004.234448</td>\n",
              "      <td>110.094337</td>\n",
              "      <td>128211.172535</td>\n",
              "      <td>5.714645</td>\n",
              "      <td>0.0</td>\n",
              "      <td>50508.689087</td>\n",
              "    </tr>\n",
              "    <tr>\n",
              "      <th>std</th>\n",
              "      <td>4514.158514</td>\n",
              "      <td>90.227958</td>\n",
              "      <td>189.850405</td>\n",
              "      <td>37905.341530</td>\n",
              "      <td>3.726421</td>\n",
              "      <td>0.0</td>\n",
              "      <td>25783.096248</td>\n",
              "    </tr>\n",
              "    <tr>\n",
              "      <th>min</th>\n",
              "      <td>0.000000</td>\n",
              "      <td>1000.000000</td>\n",
              "      <td>0.000000</td>\n",
              "      <td>5000.000000</td>\n",
              "      <td>0.000000</td>\n",
              "      <td>0.0</td>\n",
              "      <td>1067.000000</td>\n",
              "    </tr>\n",
              "    <tr>\n",
              "      <th>25%</th>\n",
              "      <td>1050.000000</td>\n",
              "      <td>1999.000000</td>\n",
              "      <td>69.000000</td>\n",
              "      <td>125000.000000</td>\n",
              "      <td>3.000000</td>\n",
              "      <td>0.0</td>\n",
              "      <td>30165.000000</td>\n",
              "    </tr>\n",
              "    <tr>\n",
              "      <th>50%</th>\n",
              "      <td>2700.000000</td>\n",
              "      <td>2003.000000</td>\n",
              "      <td>105.000000</td>\n",
              "      <td>150000.000000</td>\n",
              "      <td>6.000000</td>\n",
              "      <td>0.0</td>\n",
              "      <td>49413.000000</td>\n",
              "    </tr>\n",
              "    <tr>\n",
              "      <th>75%</th>\n",
              "      <td>6400.000000</td>\n",
              "      <td>2008.000000</td>\n",
              "      <td>143.000000</td>\n",
              "      <td>150000.000000</td>\n",
              "      <td>9.000000</td>\n",
              "      <td>0.0</td>\n",
              "      <td>71083.000000</td>\n",
              "    </tr>\n",
              "    <tr>\n",
              "      <th>max</th>\n",
              "      <td>20000.000000</td>\n",
              "      <td>9999.000000</td>\n",
              "      <td>20000.000000</td>\n",
              "      <td>150000.000000</td>\n",
              "      <td>12.000000</td>\n",
              "      <td>0.0</td>\n",
              "      <td>99998.000000</td>\n",
              "    </tr>\n",
              "  </tbody>\n",
              "</table>\n",
              "</div>\n",
              "      <button class=\"colab-df-convert\" onclick=\"convertToInteractive('df-c491703a-bc49-4357-a7b0-5857ea7c649a')\"\n",
              "              title=\"Convert this dataframe to an interactive table.\"\n",
              "              style=\"display:none;\">\n",
              "        \n",
              "  <svg xmlns=\"http://www.w3.org/2000/svg\" height=\"24px\"viewBox=\"0 0 24 24\"\n",
              "       width=\"24px\">\n",
              "    <path d=\"M0 0h24v24H0V0z\" fill=\"none\"/>\n",
              "    <path d=\"M18.56 5.44l.94 2.06.94-2.06 2.06-.94-2.06-.94-.94-2.06-.94 2.06-2.06.94zm-11 1L8.5 8.5l.94-2.06 2.06-.94-2.06-.94L8.5 2.5l-.94 2.06-2.06.94zm10 10l.94 2.06.94-2.06 2.06-.94-2.06-.94-.94-2.06-.94 2.06-2.06.94z\"/><path d=\"M17.41 7.96l-1.37-1.37c-.4-.4-.92-.59-1.43-.59-.52 0-1.04.2-1.43.59L10.3 9.45l-7.72 7.72c-.78.78-.78 2.05 0 2.83L4 21.41c.39.39.9.59 1.41.59.51 0 1.02-.2 1.41-.59l7.78-7.78 2.81-2.81c.8-.78.8-2.07 0-2.86zM5.41 20L4 18.59l7.72-7.72 1.47 1.35L5.41 20z\"/>\n",
              "  </svg>\n",
              "      </button>\n",
              "      \n",
              "  <style>\n",
              "    .colab-df-container {\n",
              "      display:flex;\n",
              "      flex-wrap:wrap;\n",
              "      gap: 12px;\n",
              "    }\n",
              "\n",
              "    .colab-df-convert {\n",
              "      background-color: #E8F0FE;\n",
              "      border: none;\n",
              "      border-radius: 50%;\n",
              "      cursor: pointer;\n",
              "      display: none;\n",
              "      fill: #1967D2;\n",
              "      height: 32px;\n",
              "      padding: 0 0 0 0;\n",
              "      width: 32px;\n",
              "    }\n",
              "\n",
              "    .colab-df-convert:hover {\n",
              "      background-color: #E2EBFA;\n",
              "      box-shadow: 0px 1px 2px rgba(60, 64, 67, 0.3), 0px 1px 3px 1px rgba(60, 64, 67, 0.15);\n",
              "      fill: #174EA6;\n",
              "    }\n",
              "\n",
              "    [theme=dark] .colab-df-convert {\n",
              "      background-color: #3B4455;\n",
              "      fill: #D2E3FC;\n",
              "    }\n",
              "\n",
              "    [theme=dark] .colab-df-convert:hover {\n",
              "      background-color: #434B5C;\n",
              "      box-shadow: 0px 1px 3px 1px rgba(0, 0, 0, 0.15);\n",
              "      filter: drop-shadow(0px 1px 2px rgba(0, 0, 0, 0.3));\n",
              "      fill: #FFFFFF;\n",
              "    }\n",
              "  </style>\n",
              "\n",
              "      <script>\n",
              "        const buttonEl =\n",
              "          document.querySelector('#df-c491703a-bc49-4357-a7b0-5857ea7c649a button.colab-df-convert');\n",
              "        buttonEl.style.display =\n",
              "          google.colab.kernel.accessAllowed ? 'block' : 'none';\n",
              "\n",
              "        async function convertToInteractive(key) {\n",
              "          const element = document.querySelector('#df-c491703a-bc49-4357-a7b0-5857ea7c649a');\n",
              "          const dataTable =\n",
              "            await google.colab.kernel.invokeFunction('convertToInteractive',\n",
              "                                                     [key], {});\n",
              "          if (!dataTable) return;\n",
              "\n",
              "          const docLinkHtml = 'Like what you see? Visit the ' +\n",
              "            '<a target=\"_blank\" href=https://colab.research.google.com/notebooks/data_table.ipynb>data table notebook</a>'\n",
              "            + ' to learn more about interactive tables.';\n",
              "          element.innerHTML = '';\n",
              "          dataTable['output_type'] = 'display_data';\n",
              "          await google.colab.output.renderOutput(dataTable, element);\n",
              "          const docLink = document.createElement('div');\n",
              "          docLink.innerHTML = docLinkHtml;\n",
              "          element.appendChild(docLink);\n",
              "        }\n",
              "      </script>\n",
              "    </div>\n",
              "  </div>\n",
              "  "
            ]
          },
          "metadata": {},
          "execution_count": 14
        }
      ],
      "source": [
        "df.describe()"
      ]
    },
    {
      "cell_type": "code",
      "execution_count": 15,
      "metadata": {
        "id": "CAG6EBTy7nZK",
        "colab": {
          "base_uri": "https://localhost:8080/",
          "height": 430
        },
        "outputId": "1472561d-a332-4020-e3d5-980ae49d021e"
      },
      "outputs": [
        {
          "output_type": "display_data",
          "data": {
            "text/plain": [
              "<Figure size 640x480 with 1 Axes>"
            ],
            "image/png": "[encoded data removed]"
          },
          "metadata": {}
        }
      ],
      "source": [
        "df['Price'].hist();"
      ]
    },
    {
      "cell_type": "code",
      "execution_count": 16,
      "metadata": {
        "id": "BJKZRllG7nZL",
        "colab": {
          "base_uri": "https://localhost:8080/",
          "height": 549
        },
        "outputId": "93f8916a-25ed-4316-fe90-86ab73b5bd36"
      },
      "outputs": [
        {
          "output_type": "display_data",
          "data": {
            "text/plain": [
              "<Figure size 640x480 with 2 Axes>"
            ],
            "image/png": "[encoded data removed]"
          },
          "metadata": {}
        }
      ],
      "source": [
        "sns.heatmap(df[[i for i in df.columns if i!='NumberOfPictures']].corr(method='spearman'));"
      ]
    },
    {
      "cell_type": "markdown",
      "metadata": {
        "id": "t2_CUGuM7nZL"
      },
      "source": [
        "### Переведем часть признаков в другой формат / Let's translate some of the features into another format"
      ]
    },
    {
      "cell_type": "code",
      "execution_count": 17,
      "metadata": {
        "id": "8zxd7y_t7nZL"
      },
      "outputs": [],
      "source": [
        "for i in ['PostalCode','Brand','Model','VehicleType','Gearbox']:\n",
        "    df[i]=df[i].astype(\"category\")\n",
        "for i in ['LastSeen','DateCrawled','DateCreated']:\n",
        "    df[i]=pd.to_datetime(df[i],format='%Y-%m-%d %H:%M:%S')"
      ]
    },
    {
      "cell_type": "markdown",
      "metadata": {
        "id": "6OoXMk1p7nZL"
      },
      "source": [
        "### Проверим на пропуски и дубликаты / Let's check for omissions and duplicates"
      ]
    },
    {
      "cell_type": "code",
      "execution_count": 18,
      "metadata": {
        "id": "TbeVQ8-_7nZM",
        "colab": {
          "base_uri": "https://localhost:8080/",
          "height": 581
        },
        "outputId": "ff6e9f4c-1d03-4a86-c3e7-2d27fae96ed5"
      },
      "outputs": [
        {
          "output_type": "stream",
          "name": "stdout",
          "text": [
            "Stored 'ax' (Axes)\n"
          ]
        },
        {
          "output_type": "display_data",
          "data": {
            "text/plain": [
              "<Figure size 1500x600 with 1 Axes>"
            ],
            "image/png": "[encoded data removed]"
          },
          "metadata": {}
        }
      ],
      "source": [
        "missing_values = df.isna().sum()\n",
        "\n",
        "missing_columns = missing_values[missing_values > 0]\n",
        "\n",
        "\n",
        "\n",
        "ax = missing_columns.plot(kind='barh', figsize=(15, 6), grid=True, color='b', alpha=0.6, label='До')\n",
        "\n",
        "plt.title('Пропущенные значения')\n",
        "plt.ylabel('Колонки с пропусками')\n",
        "plt.xlabel('Количество пропусков')\n",
        "plt.legend()\n",
        "%store ax"
      ]
    },
    {
      "cell_type": "code",
      "execution_count": 19,
      "metadata": {
        "id": "S850Fpdn7nZM",
        "colab": {
          "base_uri": "https://localhost:8080/"
        },
        "outputId": "94e7ba68-f112-468f-a357-8eb60715eb65"
      },
      "outputs": [
        {
          "output_type": "stream",
          "name": "stdout",
          "text": [
            "Количество дубликатов 4\n"
          ]
        }
      ],
      "source": [
        "print('Количество дубликатов',df.duplicated().sum())"
      ]
    },
    {
      "cell_type": "markdown",
      "metadata": {
        "id": "7Grp0YmN7nZM"
      },
      "source": [
        "### Вывод / Conclusion"
      ]
    },
    {
      "cell_type": "markdown",
      "metadata": {
        "id": "mUQMxPS67nZM"
      },
      "source": [
        "По первичным данным которые мы можем увидеть,можно сделать вывод что у нас достаточно крупная выборка,у которой много пропусков,типы данных в большинстве случаев категориальные и численные.Целевая переменная имеет асиметричное распредление.Так же можем увидеть сильную взаимосвязь у несколкьих признаков с целевой переенной это дата регистрации и мощность.Последовательность действий:\n",
        "* Убирем аномальные значения\n",
        "* Для востановления пропусков я создам функцию с простой моделькой которая сможет предсказать пропуски и заменить их\n",
        "* Оставшиеся пропуски заменю рядом стоящими значениями\n",
        "* Дубликаты из за незначительного количества просто удалю\n",
        "* После этих действий изменю типы данных у некоторых признаков,часть из них удалю,а часть наоборот преобразую.\n",
        "\n",
        "ENG: \n",
        "Based on the initial data we can see, it can be concluded that we have a fairly large sample, with many missing values. The data types in most cases are categorical and numerical. The target variable has an asymmetric distribution. We can also see a strong correlation of a few features with the target variable, namely the registration date and power. Here's the sequence of actions:\n",
        "\n",
        "* Remove anomalous values\n",
        "* To recover missing data, I will create a function with a simple model that can predict and replace missing values\n",
        "* Remaining missing values will be replaced by neighboring values\n",
        "* I will simply delete duplicates due to their insignificant quantity\n",
        "* After these actions, I will change the data types of some features, delete some of them, and transform some others."
      ]
    },
    {
      "cell_type": "markdown",
      "metadata": {
        "id": "1I1IeKo17nZN"
      },
      "source": [
        "##  Обработка пропусков / Missing Data Handling"
      ]
    },
    {
      "cell_type": "code",
      "execution_count": 20,
      "metadata": {
        "id": "6KXL-YBz7nZN"
      },
      "outputs": [],
      "source": [
        "df=df.loc[(df['RegistrationYear']<2016) & (df['RegistrationYear']>1910) ]\n",
        "df=df.loc[df['Price']>10]\n",
        "df=df.loc[df['Power']>1]"
      ]
    },
    {
      "cell_type": "code",
      "execution_count": 21,
      "metadata": {
        "id": "KN9-mQO17nZO"
      },
      "outputs": [],
      "source": [
        "def missing(data,features,target):# Функция замены пропусков\n",
        "    \n",
        "    columns = [i for i in features]\n",
        "    \n",
        "    \n",
        "    new_data = data.loc[(-data[target].isna())&(-data[columns[0]].isna())&(-data[columns[1]].isna())&\n",
        "                   (-data[columns[2]].isna())&(-data[columns[3]].isna()),features+[target]]\n",
        "\n",
        "    predict = data.loc[(data[target].isna())&(-data[columns[0]].isna())&(-data[columns[1]].isna())&\n",
        "                   (-data[columns[2]].isna())&(-data[columns[3]].isna()),features]\n",
        "    \n",
        "    \n",
        "    \n",
        "    features=new_data.drop(target,axis=1)\n",
        "    \n",
        "    target=new_data[target]\n",
        "    \n",
        "    label=LabelEncoder()\n",
        "    \n",
        "    targets=label.fit_transform(target)\n",
        "    \n",
        "    \n",
        "    encoder=OrdinalEncoder()\n",
        "    \n",
        "    new_transform=encoder.fit_transform(np.concatenate((features,predict),axis=0))\n",
        "    \n",
        "    features=new_transform[:new_data.shape[0]]\n",
        "    \n",
        "    predict=new_transform[new_data.shape[0]:]\n",
        "    \n",
        "    param={'max_depth':range(4,20,2)}\n",
        "    \n",
        "    \n",
        "    \n",
        "    \n",
        "    grid=RandomizedSearchCV(DecisionTreeClassifier(),param,cv=3)\n",
        "    grid.fit(features,targets)\n",
        "    predict=grid.predict(predict)\n",
        "    print(f'Точность модели при заполнении признака  :{grid.best_score_}')\n",
        "    return label.inverse_transform(np.round(predict))"
      ]
    },
    {
      "cell_type": "markdown",
      "metadata": {
        "id": "VxBYnP2R7nZO"
      },
      "source": [
        "### Заменяем пропуски / Replacing Missing Data"
      ]
    },
    {
      "cell_type": "code",
      "execution_count": 22,
      "metadata": {
        "id": "IFX-B6Uj7nZO",
        "colab": {
          "base_uri": "https://localhost:8080/"
        },
        "outputId": "0058b845-a7e3-49f3-e965-335e6858d7e9"
      },
      "outputs": [
        {
          "output_type": "stream",
          "name": "stdout",
          "text": [
            "Точность модели при заполнении признака  :0.8889257939207336\n",
            "Точность модели при заполнении признака  :0.6649302106556593\n",
            "Точность модели при заполнении признака  :0.8541887581851667\n",
            "Точность модели при заполнении признака  :0.6936526433164896\n",
            "Точность модели при заполнении признака  :0.785146479583004\n"
          ]
        }
      ],
      "source": [
        "df.loc[(df['Repaired'].isna())&(-df['Gearbox'].isna())&(-df['RegistrationYear'].isna())&\n",
        "                   (-df['Brand'].isna())&(-df['Kilometer'].isna()),'Repaired']=missing(df,['Gearbox','Brand','Kilometer','RegistrationYear'],'Repaired')\n",
        "\n",
        "df.loc[(df['Model'].isna())&(-df['Gearbox'].isna())&(-df['RegistrationYear'].isna())&\n",
        "                   (-df['Brand'].isna())&(-df['VehicleType'].isna()),'Model']=missing(df,['Gearbox','Brand','VehicleType','RegistrationYear'],'Model')\n",
        "\n",
        "df.loc[(df['Gearbox'].isna())&(-df['Model'].isna())&(-df['RegistrationYear'].isna())&\n",
        "                   (-df['Brand'].isna())&(-df['VehicleType'].isna()),'Gearbox']=missing(df,['Model','Brand','VehicleType','RegistrationYear'],'Gearbox')\n",
        "\n",
        "df.loc[(df['VehicleType'].isna())&(-df['Gearbox'].isna())&(-df['RegistrationYear'].isna())&\n",
        "                   (-df['Brand'].isna())&(-df['Model'].isna()),'VehicleType']=missing(df,['Gearbox','Brand','Model','RegistrationYear'],'VehicleType')\n",
        "\n",
        "df.loc[(df['FuelType'].isna())&(-df['Gearbox'].isna())&(-df['RegistrationYear'].isna())&\n",
        "                   (-df['Brand'].isna())&(-df['Model'].isna()),'FuelType']=missing(df,['Gearbox','Brand','Model','RegistrationYear'],'FuelType')"
      ]
    },
    {
      "cell_type": "code",
      "execution_count": 23,
      "metadata": {
        "id": "Q_2EjlBF7nZP"
      },
      "outputs": [],
      "source": [
        "df['FuelType']=df.groupby(['Brand','RegistrationYear','Model'])['FuelType'].apply(lambda x: x.ffill().bfill())\n",
        "df['VehicleType']=df.groupby(['Brand','Model','RegistrationYear'])['VehicleType'].apply(lambda x: x.ffill().bfill())\n",
        "df['Gearbox']=df.groupby(['Brand','Model','RegistrationYear'])['Gearbox'].apply(lambda x: x.ffill().bfill())"
      ]
    },
    {
      "cell_type": "code",
      "execution_count": 24,
      "metadata": {
        "id": "ekRgijSA7nZP",
        "colab": {
          "base_uri": "https://localhost:8080/",
          "height": 545
        },
        "outputId": "080b3acb-8d4d-4a28-a88d-316afc488ba7"
      },
      "outputs": [
        {
          "output_type": "display_data",
          "data": {
            "text/plain": [
              "<Figure size 1500x600 with 1 Axes>"
            ],
            "image/png": "[encoded data removed]"
          },
          "metadata": {}
        }
      ],
      "source": [
        "%store -r ax\n",
        "\n",
        "new_missing_values = df.isna().sum()\n",
        "new_missing_columns = new_missing_values[new_missing_values > 0]\n",
        "\n",
        "new_missing_columns.plot(kind='barh', grid=True, color='r', alpha=0.6, ax=ax, label='После')\n",
        "\n",
        "ax.legend()\n",
        "\n",
        "plt.show()\n"
      ]
    },
    {
      "cell_type": "code",
      "execution_count": 25,
      "metadata": {
        "id": "KBMUmi8w7nZP",
        "colab": {
          "base_uri": "https://localhost:8080/"
        },
        "outputId": "fd158197-bc04-4e94-b98b-8fdd6498514f"
      },
      "outputs": [
        {
          "output_type": "execute_result",
          "data": {
            "text/plain": [
              "(289816, 16)"
            ]
          },
          "metadata": {},
          "execution_count": 25
        }
      ],
      "source": [
        "df.shape"
      ]
    },
    {
      "cell_type": "markdown",
      "metadata": {
        "id": "NdQLS__q7nZP"
      },
      "source": [
        "### Вывод / Conclusion\n",
        "Как мы видим количесвто пропсуков значительно сократилось,в связи с чем мы можем оставшиеся удалить. / \n",
        "As we can see, the number of missing values has significantly decreased, allowing us to delete the remaining ones."
      ]
    },
    {
      "cell_type": "code",
      "execution_count": 26,
      "metadata": {
        "id": "Q_AK-sDt7nZP"
      },
      "outputs": [],
      "source": [
        "df=df.dropna()\n",
        "df=df.drop_duplicates()"
      ]
    },
    {
      "cell_type": "code",
      "execution_count": 27,
      "metadata": {
        "id": "_H8Lhois7nZQ",
        "colab": {
          "base_uri": "https://localhost:8080/"
        },
        "outputId": "47c24425-6776-489b-8c92-bec6e5361214"
      },
      "outputs": [
        {
          "output_type": "stream",
          "name": "stdout",
          "text": [
            "Количество пропусков : DateCrawled          0\n",
            "Price                0\n",
            "VehicleType          0\n",
            "RegistrationYear     0\n",
            "Gearbox              0\n",
            "Power                0\n",
            "Model                0\n",
            "Kilometer            0\n",
            "RegistrationMonth    0\n",
            "FuelType             0\n",
            "Brand                0\n",
            "Repaired             0\n",
            "DateCreated          0\n",
            "NumberOfPictures     0\n",
            "PostalCode           0\n",
            "LastSeen             0\n",
            "dtype: int64\n",
            "\n",
            "Количество lдубликатов : 0\n"
          ]
        }
      ],
      "source": [
        "print(f'Количество пропусков : {df.isna().sum()}')\n",
        "print()\n",
        "print(f'Количество lдубликатов : {df.duplicated().sum()}')"
      ]
    },
    {
      "cell_type": "markdown",
      "metadata": {
        "id": "Yz4YzAdH7nZe"
      },
      "source": [
        "## Работа с признаками / Work with features"
      ]
    },
    {
      "cell_type": "markdown",
      "metadata": {
        "id": "nOd2lHRs7nZf"
      },
      "source": [
        "### Создание новых признаков / Create new features"
      ]
    },
    {
      "cell_type": "code",
      "execution_count": 28,
      "metadata": {
        "id": "iEyjZO6W7nZf"
      },
      "outputs": [],
      "source": [
        "df['how_long']=(df['LastSeen']-df['DateCreated']).astype('timedelta64[D]')\n",
        "\n",
        "df['year_created']=(pd.DatetimeIndex(df['DateCreated']).year).astype(\"category\")\n",
        "\n",
        "df['month_created']=pd.DatetimeIndex(df['DateCreated']).month.astype(\"category\")\n",
        "\n",
        "df['Repaired']=np.where(df['Repaired']=='yes',1,0)\n",
        "for i in ['RegistrationYear','FuelType','Repaired']:\n",
        "    df[i]=df[i].astype(\"category\")"
      ]
    },
    {
      "cell_type": "markdown",
      "metadata": {
        "id": "_tH0CYxw7nZf"
      },
      "source": [
        "### Удаление не нужных признаков / Removing unnecessary features"
      ]
    },
    {
      "cell_type": "code",
      "execution_count": 29,
      "metadata": {
        "id": "SZ8dSGdG7nZf"
      },
      "outputs": [],
      "source": [
        "df=df.drop(['DateCrawled','RegistrationMonth','DateCreated','LastSeen','NumberOfPictures'],axis=1)"
      ]
    },
    {
      "cell_type": "code",
      "execution_count": 30,
      "metadata": {
        "id": "yeM9juxN7nZf",
        "colab": {
          "base_uri": "https://localhost:8080/"
        },
        "outputId": "b87712c3-ab96-4986-aa62-5ee1db8a8abf"
      },
      "outputs": [
        {
          "output_type": "stream",
          "name": "stdout",
          "text": [
            "10303\n"
          ]
        }
      ],
      "source": [
        "print(df.duplicated().sum())\n",
        "df=df.drop_duplicates()"
      ]
    },
    {
      "cell_type": "markdown",
      "metadata": {
        "id": "EAaaZ0ZV7nZg"
      },
      "source": [
        "### Анализ"
      ]
    },
    {
      "cell_type": "code",
      "execution_count": 31,
      "metadata": {
        "scrolled": false,
        "id": "nyZkKKV57nZh",
        "colab": {
          "base_uri": "https://localhost:8080/",
          "height": 1000
        },
        "outputId": "527ddaab-1175-4245-8fd6-07b5cec0ac41"
      },
      "outputs": [
        {
          "output_type": "display_data",
          "data": {
            "text/plain": [
              "<Figure size 1500x500 with 1 Axes>"
            ],
            "image/png": "[encoded data removed]"
          },
          "metadata": {}
        },
        {
          "output_type": "display_data",
          "data": {
            "text/plain": [
              "<Figure size 1500x500 with 1 Axes>"
            ],
            "image/png": "[encoded data removed]"
          },
          "metadata": {}
        },
        {
          "output_type": "display_data",
          "data": {
            "text/plain": [
              "<Figure size 1500x500 with 1 Axes>"
            ],
            "image/png": "[encoded data removed]"
          },
          "metadata": {}
        },
        {
          "output_type": "display_data",
          "data": {
            "text/plain": [
              "<Figure size 1500x500 with 1 Axes>"
            ],
            "image/png": "[encoded data removed]"
          },
          "metadata": {}
        },
        {
          "output_type": "display_data",
          "data": {
            "text/plain": [
              "<Figure size 1500x500 with 1 Axes>"
            ],
            "image/png": "[encoded data removed]"
          },
          "metadata": {}
        },
        {
          "output_type": "display_data",
          "data": {
            "text/plain": [
              "<Figure size 1500x500 with 1 Axes>"
            ],
            "image/png": "[encoded data removed]"
          },
          "metadata": {}
        }
      ],
      "source": [
        "for i in ['Brand','RegistrationYear','VehicleType','how_long','month_created','Repaired']:\n",
        "    \n",
        "    df.pivot_table(index=i,values='Price',aggfunc='mean').plot(kind='bar',figsize=(15,5),color='g',grid=True,legend=False)\n",
        "    plt.xlabel(i)\n",
        "    plt.ylabel('Средняя цена')\n",
        "    \n",
        "    plt.show()\n"
      ]
    },
    {
      "cell_type": "markdown",
      "metadata": {
        "id": "y7RNXmLJ7nZh"
      },
      "source": [
        "### Вывод / Conclusion "
      ]
    },
    {
      "cell_type": "markdown",
      "metadata": {
        "id": "tTGGmx0o7nZh"
      },
      "source": [
        "После небольшого анализа ,мы можем увидеть что некоторые признаки отличаються по цене,конечно большинство из них вполне логичны,но и опять же эти графики дают представление об общей картине.Что ороже стоят машины которые не были биты премиальных брендов,так же можем увидеть что быстрее продаються машины дешовые,так же моно понять что все старые машины это какой то дорогой раритет так как стоимость большая а дата регистрации очень старая,так же можем понять в какие месяца какой тип машин продаеться.\n",
        "\n",
        "ENG:\n",
        "\n",
        "After a brief analysis, we can see that some features vary in price, most of which are quite logical. Yet again, these graphs provide an overview of the general picture. More expensive cars are those that haven't been damaged and belong to premium brands. We can also see that cheaper cars sell faster. Additionally, it can be understood that all old cars are some sort of expensive rarity since the cost is high and the registration date is very old. We can also understand in which months certain types of cars are sold.\n"
      ]
    },
    {
      "cell_type": "markdown",
      "metadata": {
        "id": "RLEQaZCh7nZi"
      },
      "source": [
        "## Обучение моделей / Learning models"
      ]
    },
    {
      "cell_type": "markdown",
      "metadata": {
        "id": "K7_KxQ2o7nZi"
      },
      "source": [
        "### Выделим признаки и целевой признак / Let's highlight the signs and the target attribute"
      ]
    },
    {
      "cell_type": "code",
      "execution_count": 54,
      "metadata": {
        "id": "qtjCXkS17nZi"
      },
      "outputs": [],
      "source": [
        "features=df.drop('Price',axis=1)\n",
        "target=df['Price']\n",
        "\n",
        "\n",
        "\n",
        "features_train,fetures_test,target_train,target_test=train_test_split(features,target,test_size=0.25,random_state=345,shuffle=target)\n",
        "\n",
        "pre=make_column_transformer((OrdinalEncoder(),[i for i in df.columns  if df[i].dtype !='int']),\n",
        "                            (StandardScaler(),[i for i in df.columns  if df[i].dtype =='int' and i!='Price']))\n",
        "\n",
        "pre.fit(features)\n",
        "fetures_train_encode=pre.transform(features_train)\n",
        "fetures_test_encode=pre.transform(fetures_test)"
      ]
    },
    {
      "cell_type": "code",
      "execution_count": 37,
      "metadata": {
        "id": "FesoogPx7nZj"
      },
      "outputs": [],
      "source": [
        "time_model=[]\n",
        "RMSE=[]\n"
      ]
    },
    {
      "cell_type": "markdown",
      "metadata": {
        "id": "S-QqexLp7nZl"
      },
      "source": [
        "### Создадим функцию и обучим несколько моделей. / Create study function and leanr some models\n",
        "* Так же я решил использовать SelectKBest так как у нас достаточно большая выборка а исходя их данных которые у нас были ранее можно ограничить чать признаков для того что бы обучении проходило быстрее\n",
        "* Изначально я хотел использовать полностью конвеер без функции но так как нам нужно еще учесть и время обучения какждой модели решил разюить все отдельно.\n",
        "\n",
        "ENG \n",
        "* I also decided to use SelectKBest because we have a fairly large sample, and based on the data we had previously, we can limit some features to speed up training.\n",
        "* Initially, I wanted to use the pipeline completely without a function, but since we also need to take into account the training time of each model, I decided to run everything separately."
      ]
    },
    {
      "cell_type": "code",
      "execution_count": 38,
      "metadata": {
        "id": "U1uelLWr7nZl"
      },
      "outputs": [],
      "source": [
        "def study(features,target,param,model):\n",
        "    \n",
        "    \n",
        "    \n",
        "    feature_selection = SelectKBest(score_func=f_regression)\n",
        "\n",
        "    pipeline = Pipeline([('selection',feature_selection),('model',model)])\n",
        "    \n",
        "\n",
        "    grid = RandomizedSearchCV(pipeline, param, cv=5,scoring='neg_root_mean_squared_error')\n",
        "    grid.fit(features, target)\n",
        "    \n",
        "    print('RMSE:', grid.best_score_)\n",
        "    return grid"
      ]
    },
    {
      "cell_type": "code",
      "execution_count": 39,
      "metadata": {
        "id": "nBHS85DM7nZl",
        "colab": {
          "base_uri": "https://localhost:8080/"
        },
        "outputId": "b0c08aa8-7c46-4613-f249-76665d990c64"
      },
      "outputs": [
        {
          "output_type": "stream",
          "name": "stdout",
          "text": [
            "RMSE: -1618.1205502659734\n"
          ]
        }
      ],
      "source": [
        "\n",
        "\n",
        "start_time = time.time()\n",
        "cat=(study(fetures_train_encode,target_train,{'selection__k': [3, 6, 10],'model__learning_rate':[0.01,0.1,1],'model__l2_leaf_reg': [0.1, 1, 10],'model__n_estimators': [100, 500, 100],'model__depth':[4,6,8]},CatBoostRegressor(verbose=False)))\n",
        "RMSE.append(cat.best_score_)\n",
        "end_time = time.time()\n",
        "time_model.append(end_time-start_time)\n"
      ]
    },
    {
      "cell_type": "code",
      "execution_count": 40,
      "metadata": {
        "id": "PIooq4OO7nZl",
        "colab": {
          "base_uri": "https://localhost:8080/"
        },
        "outputId": "d2f670ed-4431-489c-b73a-aede81a13a6e"
      },
      "outputs": [
        {
          "output_type": "stream",
          "name": "stdout",
          "text": [
            "RMSE: -1991.7664691775994\n"
          ]
        }
      ],
      "source": [
        "\n",
        "start_time = time.time()\n",
        "forest=(study(fetures_train_encode,target_train,{'selection__k': [3, 6, 10],'model__n_estimators': range(10,70,20),'model__max_depth': [4, 6, 8],'model__min_samples_split': [2, 4, 8]},RandomForestRegressor(random_state=1224)))\n",
        "RMSE.append(forest.best_score_)\n",
        "end_time = time.time()\n",
        "time_model.append(end_time-start_time)"
      ]
    },
    {
      "cell_type": "code",
      "execution_count": 41,
      "metadata": {
        "id": "6XOYRZLX7nZl",
        "colab": {
          "base_uri": "https://localhost:8080/"
        },
        "outputId": "c18c2479-33e7-4e3c-abcf-5f0dacba95b7"
      },
      "outputs": [
        {
          "output_type": "stream",
          "name": "stdout",
          "text": [
            "RMSE: -1602.3962692067498\n"
          ]
        }
      ],
      "source": [
        "start_time = time.time()\n",
        "light=(study(fetures_train_encode,target_train,{'selection__k': [3, 6, 10],'model__learning_rate': [0.01, 0.1, 1],'model__num_leaves': [32, 64, 128],'model__max_depth': [4, 6, 8]},LGBMRegressor()))\n",
        "RMSE.append(light.best_score_)\n",
        "end_time = time.time()\n",
        "time_model.append(end_time-start_time)"
      ]
    },
    {
      "cell_type": "code",
      "execution_count": 42,
      "metadata": {
        "id": "W2FoMxTv7nZm",
        "colab": {
          "base_uri": "https://localhost:8080/"
        },
        "outputId": "bb5f5f7d-121b-4594-dd20-c8dc8d995757"
      },
      "outputs": [
        {
          "output_type": "stream",
          "name": "stdout",
          "text": [
            "RMSE: -2002.4771673635291\n"
          ]
        }
      ],
      "source": [
        "start_time = time.time()\n",
        "tree=(study(fetures_train_encode,target_train,{'selection__k': [3, 6, 10],'model__max_depth': range(3,10),'model__min_samples_split': [2, 4, 8]},DecisionTreeRegressor()))\n",
        "RMSE.append(tree.best_score_)\n",
        "end_time = time.time()\n",
        "time_model.append(end_time-start_time)"
      ]
    },
    {
      "cell_type": "code",
      "execution_count": 43,
      "metadata": {
        "id": "_fim-yGT7nZm"
      },
      "outputs": [],
      "source": [
        "def predict_time(model,features):\n",
        "  start_time = time.time()\n",
        "  model.predict(features)\n",
        "  end_time = time.time()\n",
        "  return (end_time-start_time)"
      ]
    },
    {
      "cell_type": "markdown",
      "metadata": {
        "id": "5adoCbtN7nZm"
      },
      "source": [
        "## Анализ моделей / Model analysis"
      ]
    },
    {
      "cell_type": "code",
      "execution_count": 44,
      "metadata": {
        "id": "hXXJutYx7nZn",
        "colab": {
          "base_uri": "https://localhost:8080/",
          "height": 175
        },
        "outputId": "55e246e6-03fc-44eb-b5d6-3c40ca105c26"
      },
      "outputs": [
        {
          "output_type": "execute_result",
          "data": {
            "text/plain": [
              "                    Time         RMSE\n",
              "CatBoost      301.175837  1618.120550\n",
              "RandomForest  126.697489  1991.766469\n",
              "LightGBM      112.547049  1602.396269\n",
              "DecisionTree   15.479622  2002.477167"
            ],
            "text/html": [
              "\n",
              "  <div id=\"df-3472d0b6-8adf-4e96-b47a-3ac5ade4da2d\">\n",
              "    <div class=\"colab-df-container\">\n",
              "      <div>\n",
              "<style scoped>\n",
              "    .dataframe tbody tr th:only-of-type {\n",
              "        vertical-align: middle;\n",
              "    }\n",
              "\n",
              "    .dataframe tbody tr th {\n",
              "        vertical-align: top;\n",
              "    }\n",
              "\n",
              "    .dataframe thead th {\n",
              "        text-align: right;\n",
              "    }\n",
              "</style>\n",
              "<table border=\"1\" class=\"dataframe\">\n",
              "  <thead>\n",
              "    <tr style=\"text-align: right;\">\n",
              "      <th></th>\n",
              "      <th>Time</th>\n",
              "      <th>RMSE</th>\n",
              "    </tr>\n",
              "  </thead>\n",
              "  <tbody>\n",
              "    <tr>\n",
              "      <th>CatBoost</th>\n",
              "      <td>301.175837</td>\n",
              "      <td>1618.120550</td>\n",
              "    </tr>\n",
              "    <tr>\n",
              "      <th>RandomForest</th>\n",
              "      <td>126.697489</td>\n",
              "      <td>1991.766469</td>\n",
              "    </tr>\n",
              "    <tr>\n",
              "      <th>LightGBM</th>\n",
              "      <td>112.547049</td>\n",
              "      <td>1602.396269</td>\n",
              "    </tr>\n",
              "    <tr>\n",
              "      <th>DecisionTree</th>\n",
              "      <td>15.479622</td>\n",
              "      <td>2002.477167</td>\n",
              "    </tr>\n",
              "  </tbody>\n",
              "</table>\n",
              "</div>\n",
              "      <button class=\"colab-df-convert\" onclick=\"convertToInteractive('df-3472d0b6-8adf-4e96-b47a-3ac5ade4da2d')\"\n",
              "              title=\"Convert this dataframe to an interactive table.\"\n",
              "              style=\"display:none;\">\n",
              "        \n",
              "  <svg xmlns=\"http://www.w3.org/2000/svg\" height=\"24px\"viewBox=\"0 0 24 24\"\n",
              "       width=\"24px\">\n",
              "    <path d=\"M0 0h24v24H0V0z\" fill=\"none\"/>\n",
              "    <path d=\"M18.56 5.44l.94 2.06.94-2.06 2.06-.94-2.06-.94-.94-2.06-.94 2.06-2.06.94zm-11 1L8.5 8.5l.94-2.06 2.06-.94-2.06-.94L8.5 2.5l-.94 2.06-2.06.94zm10 10l.94 2.06.94-2.06 2.06-.94-2.06-.94-.94-2.06-.94 2.06-2.06.94z\"/><path d=\"M17.41 7.96l-1.37-1.37c-.4-.4-.92-.59-1.43-.59-.52 0-1.04.2-1.43.59L10.3 9.45l-7.72 7.72c-.78.78-.78 2.05 0 2.83L4 21.41c.39.39.9.59 1.41.59.51 0 1.02-.2 1.41-.59l7.78-7.78 2.81-2.81c.8-.78.8-2.07 0-2.86zM5.41 20L4 18.59l7.72-7.72 1.47 1.35L5.41 20z\"/>\n",
              "  </svg>\n",
              "      </button>\n",
              "      \n",
              "  <style>\n",
              "    .colab-df-container {\n",
              "      display:flex;\n",
              "      flex-wrap:wrap;\n",
              "      gap: 12px;\n",
              "    }\n",
              "\n",
              "    .colab-df-convert {\n",
              "      background-color: #E8F0FE;\n",
              "      border: none;\n",
              "      border-radius: 50%;\n",
              "      cursor: pointer;\n",
              "      display: none;\n",
              "      fill: #1967D2;\n",
              "      height: 32px;\n",
              "      padding: 0 0 0 0;\n",
              "      width: 32px;\n",
              "    }\n",
              "\n",
              "    .colab-df-convert:hover {\n",
              "      background-color: #E2EBFA;\n",
              "      box-shadow: 0px 1px 2px rgba(60, 64, 67, 0.3), 0px 1px 3px 1px rgba(60, 64, 67, 0.15);\n",
              "      fill: #174EA6;\n",
              "    }\n",
              "\n",
              "    [theme=dark] .colab-df-convert {\n",
              "      background-color: #3B4455;\n",
              "      fill: #D2E3FC;\n",
              "    }\n",
              "\n",
              "    [theme=dark] .colab-df-convert:hover {\n",
              "      background-color: #434B5C;\n",
              "      box-shadow: 0px 1px 3px 1px rgba(0, 0, 0, 0.15);\n",
              "      filter: drop-shadow(0px 1px 2px rgba(0, 0, 0, 0.3));\n",
              "      fill: #FFFFFF;\n",
              "    }\n",
              "  </style>\n",
              "\n",
              "      <script>\n",
              "        const buttonEl =\n",
              "          document.querySelector('#df-3472d0b6-8adf-4e96-b47a-3ac5ade4da2d button.colab-df-convert');\n",
              "        buttonEl.style.display =\n",
              "          google.colab.kernel.accessAllowed ? 'block' : 'none';\n",
              "\n",
              "        async function convertToInteractive(key) {\n",
              "          const element = document.querySelector('#df-3472d0b6-8adf-4e96-b47a-3ac5ade4da2d');\n",
              "          const dataTable =\n",
              "            await google.colab.kernel.invokeFunction('convertToInteractive',\n",
              "                                                     [key], {});\n",
              "          if (!dataTable) return;\n",
              "\n",
              "          const docLinkHtml = 'Like what you see? Visit the ' +\n",
              "            '<a target=\"_blank\" href=https://colab.research.google.com/notebooks/data_table.ipynb>data table notebook</a>'\n",
              "            + ' to learn more about interactive tables.';\n",
              "          element.innerHTML = '';\n",
              "          dataTable['output_type'] = 'display_data';\n",
              "          await google.colab.output.renderOutput(dataTable, element);\n",
              "          const docLink = document.createElement('div');\n",
              "          docLink.innerHTML = docLinkHtml;\n",
              "          element.appendChild(docLink);\n",
              "        }\n",
              "      </script>\n",
              "    </div>\n",
              "  </div>\n",
              "  "
            ]
          },
          "metadata": {},
          "execution_count": 44
        }
      ],
      "source": [
        "models=pd.DataFrame({'Time':time_model,'RMSE':(RMSE)},index=['CatBoost','RandomForest','LightGBM','DecisionTree'])\n",
        "models['RMSE']=models['RMSE']*-1\n",
        "models"
      ]
    },
    {
      "cell_type": "code",
      "execution_count": 46,
      "metadata": {
        "id": "GY2VTq5Q7nZn",
        "colab": {
          "base_uri": "https://localhost:8080/",
          "height": 695
        },
        "outputId": "bdca6b2f-d137-4d59-c450-097d8a544d0b"
      },
      "outputs": [
        {
          "output_type": "execute_result",
          "data": {
            "text/plain": [
              "CatBoost        301.175837\n",
              "RandomForest    126.697489\n",
              "LightGBM        112.547049\n",
              "DecisionTree     15.479622\n",
              "dtype: float64"
            ]
          },
          "metadata": {},
          "execution_count": 46
        },
        {
          "output_type": "display_data",
          "data": {
            "text/plain": [
              "<Figure size 600x600 with 1 Axes>"
            ],
            "image/png": "[encoded data removed]"
          },
          "metadata": {}
        }
      ],
      "source": [
        "models.plot(kind='bar',grid=True,figsize=(6,6))\n",
        "pd.Series(time_model,index=['CatBoost','RandomForest','LightGBM','DecisionTree'])"
      ]
    },
    {
      "cell_type": "code",
      "execution_count": 47,
      "metadata": {
        "id": "6XfgErHx7nZo",
        "colab": {
          "base_uri": "https://localhost:8080/",
          "height": 548
        },
        "outputId": "1609887c-d2e9-4d37-b697-02b38c239395"
      },
      "outputs": [
        {
          "output_type": "execute_result",
          "data": {
            "text/plain": [
              "<Axes: >"
            ]
          },
          "metadata": {},
          "execution_count": 47
        },
        {
          "output_type": "display_data",
          "data": {
            "text/plain": [
              "<Figure size 500x500 with 1 Axes>"
            ],
            "image/png": "[encoded data removed]"
          },
          "metadata": {}
        }
      ],
      "source": [
        "predict_t=pd.Series([predict_time(i,fetures_test_encode) for i in [cat,forest,light,tree]],index=['CatBoost','RandomForest','LightGBM','DecisionTree'])\n",
        "predict_t.plot(kind='bar',grid=True,figsize=(5,5))"
      ]
    },
    {
      "cell_type": "markdown",
      "metadata": {
        "id": "7QYE7v337nZo"
      },
      "source": [
        "### Вывод / Conclusion"
      ]
    },
    {
      "cell_type": "markdown",
      "metadata": {
        "id": "q8iMrgIn7nZo"
      },
      "source": [
        "Мы видим что модель CatBoost показывает лучший показатель в метрике RMSE ,но модель самая долгая ,если искать лучший показать по времени то это определенно Древо решений ,но метрика RMSE одна из самых худших хотя и удовлетворяет условие,но если брать что то среднее между качеством и временем то LightGBMR подходит лучше всего он показывает и относительно хороший показтель метрики и скорость своего обучения.В связи с этим мы остановимся на этой модели,осталось проверить на переобученность .\n",
        "\n",
        "ENG:\n",
        "\n",
        "We see that the CatBoost model shows the best performance in the RMSE metric, but it's the slowest model. If we are looking for the best performance in terms of time, then definitely the Decision Tree is the winner, but its RMSE metric is one of the worst, even though it meets the requirement. However, if we're looking for a balance between quality and time, then LightGBM fits the best. It shows relatively good performance in terms of the metric and its training speed. With this in mind, we will settle on this model, the remaining task is to check for overfitting."
      ]
    },
    {
      "cell_type": "code",
      "execution_count": 55,
      "metadata": {
        "id": "UFdFgHaA7nZp",
        "colab": {
          "base_uri": "https://localhost:8080/"
        },
        "outputId": "4fc7ac9e-abfd-46bd-fb57-b5595e06c1f7"
      },
      "outputs": [
        {
          "output_type": "stream",
          "name": "stdout",
          "text": [
            "RMSE модели с обучающими данными : -1602.3962692067498\n",
            "RMSE модели с тестовыми данными : 1598.9917397179229\n"
          ]
        }
      ],
      "source": [
        "print(f'RMSE модели с обучающими данными : {light.best_score_}')\n",
        "print(f'RMSE модели с тестовыми данными : {np.sqrt(mean_squared_error(target_test,light.predict(fetures_test_encode)))}')"
      ]
    },
    {
      "cell_type": "markdown",
      "metadata": {
        "id": "Fft4yhWN7nZp"
      },
      "source": [
        "Мы видим что разницы практически нету в связи с этим окончательно выбираем данную модель / We see that there is practically no difference in this regard, we finally choose this model"
      ]
    }
  ],
  "metadata": {
    "ExecuteTimeLog": [
      {
        "duration": 1776,
        "start_time": "2023-03-21T08:36:16.062Z"
      },
      {
        "duration": 3033,
        "start_time": "2023-03-21T08:36:17.840Z"
      },
      {
        "duration": 16,
        "start_time": "2023-03-21T08:36:20.875Z"
      },
      {
        "duration": 139,
        "start_time": "2023-03-21T08:36:20.893Z"
      },
      {
        "duration": 4,
        "start_time": "2023-03-21T08:36:21.033Z"
      },
      {
        "duration": 115,
        "start_time": "2023-03-21T08:36:21.038Z"
      },
      {
        "duration": 366,
        "start_time": "2023-03-21T08:37:37.475Z"
      },
      {
        "duration": 477,
        "start_time": "2023-03-21T08:38:15.662Z"
      },
      {
        "duration": 153,
        "start_time": "2023-03-21T08:40:11.593Z"
      },
      {
        "duration": 154,
        "start_time": "2023-03-21T08:40:22.917Z"
      },
      {
        "duration": 150,
        "start_time": "2023-03-21T08:46:47.536Z"
      },
      {
        "duration": 180583,
        "start_time": "2023-03-21T08:46:56.621Z"
      },
      {
        "duration": 153,
        "start_time": "2023-03-21T08:50:20.297Z"
      },
      {
        "duration": 84,
        "start_time": "2023-03-21T08:50:25.289Z"
      },
      {
        "duration": 9,
        "start_time": "2023-03-21T08:53:03.256Z"
      },
      {
        "duration": 553,
        "start_time": "2023-03-21T08:53:52.546Z"
      },
      {
        "duration": 4,
        "start_time": "2023-03-21T08:53:59.116Z"
      },
      {
        "duration": 27530,
        "start_time": "2023-03-21T08:54:04.075Z"
      },
      {
        "duration": 8327,
        "start_time": "2023-03-21T08:57:34.547Z"
      },
      {
        "duration": 120,
        "start_time": "2023-03-21T08:59:33.623Z"
      },
      {
        "duration": 120,
        "start_time": "2023-03-21T09:00:29.262Z"
      },
      {
        "duration": 281,
        "start_time": "2023-03-21T09:00:54.336Z"
      },
      {
        "duration": 261,
        "start_time": "2023-03-21T09:01:45.342Z"
      },
      {
        "duration": 767,
        "start_time": "2023-03-21T09:01:51.052Z"
      },
      {
        "duration": 13,
        "start_time": "2023-03-21T09:01:51.821Z"
      },
      {
        "duration": 141,
        "start_time": "2023-03-21T09:01:51.835Z"
      },
      {
        "duration": 4,
        "start_time": "2023-03-21T09:01:51.977Z"
      },
      {
        "duration": 93,
        "start_time": "2023-03-21T09:01:51.982Z"
      },
      {
        "duration": 154,
        "start_time": "2023-03-21T09:01:52.503Z"
      },
      {
        "duration": 386,
        "start_time": "2023-03-21T09:01:54.442Z"
      },
      {
        "duration": 186,
        "start_time": "2023-03-21T09:01:58.399Z"
      },
      {
        "duration": 199,
        "start_time": "2023-03-21T09:02:15.739Z"
      },
      {
        "duration": 203,
        "start_time": "2023-03-21T09:02:25.722Z"
      },
      {
        "duration": 66,
        "start_time": "2023-03-21T09:02:27.082Z"
      },
      {
        "duration": 61,
        "start_time": "2023-03-21T09:02:27.270Z"
      },
      {
        "duration": 27863,
        "start_time": "2023-03-21T09:02:27.673Z"
      },
      {
        "duration": 20072,
        "start_time": "2023-03-21T09:02:55.539Z"
      },
      {
        "duration": 57,
        "start_time": "2023-03-21T09:03:28.182Z"
      },
      {
        "duration": 161,
        "start_time": "2023-03-21T09:03:34.638Z"
      },
      {
        "duration": 162,
        "start_time": "2023-03-21T09:03:51.807Z"
      },
      {
        "duration": 162,
        "start_time": "2023-03-21T09:04:08.901Z"
      },
      {
        "duration": 168,
        "start_time": "2023-03-21T09:04:59.479Z"
      },
      {
        "duration": 55,
        "start_time": "2023-03-21T09:05:07.617Z"
      },
      {
        "duration": 46,
        "start_time": "2023-03-21T09:05:25.467Z"
      },
      {
        "duration": 177,
        "start_time": "2023-03-21T09:05:39.308Z"
      },
      {
        "duration": 47,
        "start_time": "2023-03-21T09:05:46.245Z"
      },
      {
        "duration": 49,
        "start_time": "2023-03-21T09:05:59.703Z"
      },
      {
        "duration": 174,
        "start_time": "2023-03-21T09:07:40.927Z"
      },
      {
        "duration": 46,
        "start_time": "2023-03-21T09:07:54.508Z"
      },
      {
        "duration": 187,
        "start_time": "2023-03-21T09:08:57.185Z"
      },
      {
        "duration": 43,
        "start_time": "2023-03-21T09:09:03.219Z"
      },
      {
        "duration": 47,
        "start_time": "2023-03-21T09:09:07.295Z"
      },
      {
        "duration": 283,
        "start_time": "2023-03-21T09:11:35.427Z"
      },
      {
        "duration": 146,
        "start_time": "2023-03-21T09:11:46.030Z"
      },
      {
        "duration": 162,
        "start_time": "2023-03-21T09:11:54.071Z"
      },
      {
        "duration": 278,
        "start_time": "2023-03-21T09:14:05.974Z"
      },
      {
        "duration": 178,
        "start_time": "2023-03-21T09:14:11.747Z"
      },
      {
        "duration": 43,
        "start_time": "2023-03-21T09:14:36.191Z"
      },
      {
        "duration": 144,
        "start_time": "2023-03-21T09:14:55.674Z"
      },
      {
        "duration": 160,
        "start_time": "2023-03-21T09:15:21.767Z"
      },
      {
        "duration": 345,
        "start_time": "2023-03-21T09:15:30.694Z"
      },
      {
        "duration": 213,
        "start_time": "2023-03-21T09:18:01.415Z"
      },
      {
        "duration": 193,
        "start_time": "2023-03-21T09:18:06.361Z"
      },
      {
        "duration": 177,
        "start_time": "2023-03-21T09:18:22.295Z"
      },
      {
        "duration": 6,
        "start_time": "2023-03-21T09:18:38.758Z"
      },
      {
        "duration": 773,
        "start_time": "2023-03-21T09:18:39.433Z"
      },
      {
        "duration": 14,
        "start_time": "2023-03-21T09:18:40.208Z"
      },
      {
        "duration": 144,
        "start_time": "2023-03-21T09:18:40.223Z"
      },
      {
        "duration": 4,
        "start_time": "2023-03-21T09:18:40.369Z"
      },
      {
        "duration": 100,
        "start_time": "2023-03-21T09:18:40.390Z"
      },
      {
        "duration": 164,
        "start_time": "2023-03-21T09:18:40.502Z"
      },
      {
        "duration": 382,
        "start_time": "2023-03-21T09:18:40.669Z"
      },
      {
        "duration": 214,
        "start_time": "2023-03-21T09:18:41.260Z"
      },
      {
        "duration": 208,
        "start_time": "2023-03-21T09:18:41.477Z"
      },
      {
        "duration": 65,
        "start_time": "2023-03-21T09:18:42.172Z"
      },
      {
        "duration": 7,
        "start_time": "2023-03-21T09:18:42.358Z"
      },
      {
        "duration": 26105,
        "start_time": "2023-03-21T09:18:42.734Z"
      },
      {
        "duration": 16432,
        "start_time": "2023-03-21T09:19:08.841Z"
      },
      {
        "duration": 429,
        "start_time": "2023-03-21T09:20:52.518Z"
      },
      {
        "duration": 47,
        "start_time": "2023-03-21T09:21:01.920Z"
      },
      {
        "duration": 43,
        "start_time": "2023-03-21T09:21:04.574Z"
      },
      {
        "duration": 239,
        "start_time": "2023-03-21T09:21:08.726Z"
      },
      {
        "duration": 5,
        "start_time": "2023-03-21T09:21:29.496Z"
      },
      {
        "duration": 875,
        "start_time": "2023-03-21T09:21:29.858Z"
      },
      {
        "duration": 15,
        "start_time": "2023-03-21T09:21:30.735Z"
      },
      {
        "duration": 161,
        "start_time": "2023-03-21T09:21:30.752Z"
      },
      {
        "duration": 4,
        "start_time": "2023-03-21T09:21:30.915Z"
      },
      {
        "duration": 124,
        "start_time": "2023-03-21T09:21:30.921Z"
      },
      {
        "duration": 171,
        "start_time": "2023-03-21T09:21:31.047Z"
      },
      {
        "duration": 389,
        "start_time": "2023-03-21T09:21:31.221Z"
      },
      {
        "duration": 216,
        "start_time": "2023-03-21T09:21:31.612Z"
      },
      {
        "duration": 193,
        "start_time": "2023-03-21T09:21:31.830Z"
      },
      {
        "duration": 64,
        "start_time": "2023-03-21T09:21:32.416Z"
      },
      {
        "duration": 6,
        "start_time": "2023-03-21T09:21:32.577Z"
      },
      {
        "duration": 25879,
        "start_time": "2023-03-21T09:21:33.918Z"
      },
      {
        "duration": 15429,
        "start_time": "2023-03-21T09:21:59.799Z"
      },
      {
        "duration": 186,
        "start_time": "2023-03-21T09:22:15.230Z"
      },
      {
        "duration": 46,
        "start_time": "2023-03-21T09:24:49.438Z"
      },
      {
        "duration": 4,
        "start_time": "2023-03-21T09:25:08.999Z"
      },
      {
        "duration": 827,
        "start_time": "2023-03-21T09:25:09.374Z"
      },
      {
        "duration": 14,
        "start_time": "2023-03-21T09:25:10.203Z"
      },
      {
        "duration": 157,
        "start_time": "2023-03-21T09:25:10.219Z"
      },
      {
        "duration": 3,
        "start_time": "2023-03-21T09:25:10.379Z"
      },
      {
        "duration": 86,
        "start_time": "2023-03-21T09:25:10.389Z"
      },
      {
        "duration": 164,
        "start_time": "2023-03-21T09:25:10.489Z"
      },
      {
        "duration": 375,
        "start_time": "2023-03-21T09:25:10.655Z"
      },
      {
        "duration": 224,
        "start_time": "2023-03-21T09:25:11.032Z"
      },
      {
        "duration": 191,
        "start_time": "2023-03-21T09:25:11.258Z"
      },
      {
        "duration": 64,
        "start_time": "2023-03-21T09:25:11.790Z"
      },
      {
        "duration": 9,
        "start_time": "2023-03-21T09:25:12.329Z"
      },
      {
        "duration": 25794,
        "start_time": "2023-03-21T09:25:13.278Z"
      },
      {
        "duration": 15680,
        "start_time": "2023-03-21T09:25:39.074Z"
      },
      {
        "duration": 224,
        "start_time": "2023-03-21T09:25:54.756Z"
      },
      {
        "duration": 53,
        "start_time": "2023-03-21T09:25:54.982Z"
      },
      {
        "duration": 48,
        "start_time": "2023-03-21T09:26:51.227Z"
      },
      {
        "duration": 48,
        "start_time": "2023-03-21T09:27:01.484Z"
      },
      {
        "duration": 49,
        "start_time": "2023-03-21T09:27:04.499Z"
      },
      {
        "duration": 46,
        "start_time": "2023-03-21T09:27:15.582Z"
      },
      {
        "duration": 1514,
        "start_time": "2023-03-21T09:27:32.567Z"
      },
      {
        "duration": 948,
        "start_time": "2023-03-21T09:27:34.083Z"
      },
      {
        "duration": 22,
        "start_time": "2023-03-21T09:27:35.033Z"
      },
      {
        "duration": 164,
        "start_time": "2023-03-21T09:27:35.057Z"
      },
      {
        "duration": 4,
        "start_time": "2023-03-21T09:27:35.223Z"
      },
      {
        "duration": 114,
        "start_time": "2023-03-21T09:27:35.229Z"
      },
      {
        "duration": 186,
        "start_time": "2023-03-21T09:27:35.345Z"
      },
      {
        "duration": 465,
        "start_time": "2023-03-21T09:27:35.533Z"
      },
      {
        "duration": 231,
        "start_time": "2023-03-21T09:27:36.000Z"
      },
      {
        "duration": 262,
        "start_time": "2023-03-21T09:27:36.234Z"
      },
      {
        "duration": 91,
        "start_time": "2023-03-21T09:27:36.498Z"
      },
      {
        "duration": 9,
        "start_time": "2023-03-21T09:27:36.591Z"
      },
      {
        "duration": 27608,
        "start_time": "2023-03-21T09:27:36.601Z"
      },
      {
        "duration": 15305,
        "start_time": "2023-03-21T09:28:04.210Z"
      },
      {
        "duration": 220,
        "start_time": "2023-03-21T09:28:19.517Z"
      },
      {
        "duration": 281,
        "start_time": "2023-03-21T09:31:49.814Z"
      },
      {
        "duration": 122,
        "start_time": "2023-03-21T09:33:09.962Z"
      },
      {
        "duration": 216,
        "start_time": "2023-03-21T09:33:18.691Z"
      },
      {
        "duration": 228,
        "start_time": "2023-03-21T09:33:32.593Z"
      },
      {
        "duration": 179,
        "start_time": "2023-03-21T09:33:41.720Z"
      },
      {
        "duration": 196,
        "start_time": "2023-03-21T09:33:47.974Z"
      },
      {
        "duration": 64,
        "start_time": "2023-03-21T09:34:35.419Z"
      },
      {
        "duration": 17,
        "start_time": "2023-03-21T09:34:45.259Z"
      },
      {
        "duration": 134,
        "start_time": "2023-03-21T09:34:53.337Z"
      },
      {
        "duration": 329,
        "start_time": "2023-03-21T09:35:09.160Z"
      },
      {
        "duration": 237,
        "start_time": "2023-03-21T09:35:20.324Z"
      },
      {
        "duration": 4116,
        "start_time": "2023-03-21T09:37:06.476Z"
      },
      {
        "duration": 17,
        "start_time": "2023-03-21T09:49:02.987Z"
      },
      {
        "duration": 211,
        "start_time": "2023-03-21T09:49:10.034Z"
      },
      {
        "duration": 28,
        "start_time": "2023-03-21T09:49:55.811Z"
      },
      {
        "duration": 552,
        "start_time": "2023-03-21T09:50:09.315Z"
      },
      {
        "duration": 4,
        "start_time": "2023-03-21T09:50:41.322Z"
      },
      {
        "duration": 781,
        "start_time": "2023-03-21T09:50:43.818Z"
      },
      {
        "duration": 723,
        "start_time": "2023-03-21T09:50:47.723Z"
      },
      {
        "duration": 45,
        "start_time": "2023-03-21T09:51:59.954Z"
      },
      {
        "duration": 673,
        "start_time": "2023-03-21T09:52:22.679Z"
      },
      {
        "duration": 1473,
        "start_time": "2023-03-21T09:53:25.419Z"
      },
      {
        "duration": 895,
        "start_time": "2023-03-21T09:53:26.894Z"
      },
      {
        "duration": 20,
        "start_time": "2023-03-21T09:53:27.791Z"
      },
      {
        "duration": 179,
        "start_time": "2023-03-21T09:53:27.813Z"
      },
      {
        "duration": 5,
        "start_time": "2023-03-21T09:53:27.995Z"
      },
      {
        "duration": 143,
        "start_time": "2023-03-21T09:53:28.002Z"
      },
      {
        "duration": 210,
        "start_time": "2023-03-21T09:53:28.147Z"
      },
      {
        "duration": 479,
        "start_time": "2023-03-21T09:53:28.359Z"
      },
      {
        "duration": 252,
        "start_time": "2023-03-21T09:53:28.840Z"
      },
      {
        "duration": 269,
        "start_time": "2023-03-21T09:53:29.094Z"
      },
      {
        "duration": 88,
        "start_time": "2023-03-21T09:53:29.365Z"
      },
      {
        "duration": 91,
        "start_time": "2023-03-21T09:53:29.455Z"
      },
      {
        "duration": 27349,
        "start_time": "2023-03-21T09:53:29.548Z"
      },
      {
        "duration": 15481,
        "start_time": "2023-03-21T09:53:56.901Z"
      },
      {
        "duration": 207,
        "start_time": "2023-03-21T09:54:12.384Z"
      },
      {
        "duration": 300,
        "start_time": "2023-03-21T09:54:12.593Z"
      },
      {
        "duration": 275,
        "start_time": "2023-03-21T09:54:12.895Z"
      },
      {
        "duration": 123,
        "start_time": "2023-03-21T09:54:13.172Z"
      },
      {
        "duration": 6,
        "start_time": "2023-03-21T09:54:13.297Z"
      },
      {
        "duration": 218,
        "start_time": "2023-03-21T09:54:13.305Z"
      },
      {
        "duration": 3705,
        "start_time": "2023-03-21T09:54:13.525Z"
      },
      {
        "duration": 443,
        "start_time": "2023-03-21T09:54:17.232Z"
      },
      {
        "duration": 719,
        "start_time": "2023-03-21T09:54:17.698Z"
      },
      {
        "duration": 4,
        "start_time": "2023-03-21T09:55:32.940Z"
      },
      {
        "duration": 845,
        "start_time": "2023-03-21T09:55:33.797Z"
      },
      {
        "duration": 14,
        "start_time": "2023-03-21T09:55:35.294Z"
      },
      {
        "duration": 128,
        "start_time": "2023-03-21T09:55:35.493Z"
      },
      {
        "duration": 4,
        "start_time": "2023-03-21T09:55:35.693Z"
      },
      {
        "duration": 93,
        "start_time": "2023-03-21T09:55:36.902Z"
      },
      {
        "duration": 279,
        "start_time": "2023-03-21T09:55:37.915Z"
      },
      {
        "duration": 684,
        "start_time": "2023-03-21T09:55:38.505Z"
      },
      {
        "duration": 124,
        "start_time": "2023-03-21T10:02:25.331Z"
      },
      {
        "duration": 4,
        "start_time": "2023-03-21T10:03:12.975Z"
      },
      {
        "duration": 5,
        "start_time": "2023-03-21T10:03:19.026Z"
      },
      {
        "duration": 61,
        "start_time": "2023-03-21T10:09:10.476Z"
      },
      {
        "duration": 55,
        "start_time": "2023-03-21T10:09:25.285Z"
      },
      {
        "duration": 94878,
        "start_time": "2023-03-21T10:09:31.526Z"
      },
      {
        "duration": 79189,
        "start_time": "2023-03-21T10:12:30.499Z"
      },
      {
        "duration": 5,
        "start_time": "2023-03-21T10:14:16.386Z"
      },
      {
        "duration": 4,
        "start_time": "2023-03-21T10:14:57.992Z"
      },
      {
        "duration": 72804,
        "start_time": "2023-03-21T10:15:07.585Z"
      },
      {
        "duration": 10,
        "start_time": "2023-03-21T10:16:46.039Z"
      },
      {
        "duration": 5,
        "start_time": "2023-03-21T10:16:49.123Z"
      },
      {
        "duration": 14,
        "start_time": "2023-03-21T10:17:19.351Z"
      },
      {
        "duration": 5,
        "start_time": "2023-03-21T10:17:38.379Z"
      },
      {
        "duration": 151682,
        "start_time": "2023-03-21T10:17:43.312Z"
      },
      {
        "duration": 3,
        "start_time": "2023-03-21T10:20:14.996Z"
      },
      {
        "duration": 45,
        "start_time": "2023-03-21T10:25:05.518Z"
      },
      {
        "duration": 134602,
        "start_time": "2023-03-21T10:25:13.098Z"
      },
      {
        "duration": 5,
        "start_time": "2023-03-21T10:27:47.382Z"
      },
      {
        "duration": 66842,
        "start_time": "2023-03-21T10:28:15.180Z"
      },
      {
        "duration": 329399,
        "start_time": "2023-03-21T10:30:37.145Z"
      },
      {
        "duration": 78500,
        "start_time": "2023-03-21T10:39:18.091Z"
      },
      {
        "duration": 0,
        "start_time": "2023-03-21T10:40:36.594Z"
      },
      {
        "duration": 209163,
        "start_time": "2023-03-21T10:40:39.703Z"
      },
      {
        "duration": 0,
        "start_time": "2023-03-21T10:44:08.869Z"
      },
      {
        "duration": 96640,
        "start_time": "2023-03-21T10:44:17.059Z"
      },
      {
        "duration": 40171,
        "start_time": "2023-03-21T10:45:55.888Z"
      },
      {
        "duration": 0,
        "start_time": "2023-03-21T10:54:04.867Z"
      },
      {
        "duration": 0,
        "start_time": "2023-03-21T10:54:04.869Z"
      },
      {
        "duration": 0,
        "start_time": "2023-03-21T10:54:04.870Z"
      },
      {
        "duration": 45,
        "start_time": "2023-03-21T10:54:09.636Z"
      },
      {
        "duration": 46,
        "start_time": "2023-03-21T10:54:18.305Z"
      },
      {
        "duration": 71856,
        "start_time": "2023-03-21T10:54:25.303Z"
      },
      {
        "duration": 68515,
        "start_time": "2023-03-21T10:57:26.732Z"
      },
      {
        "duration": 46,
        "start_time": "2023-03-21T10:58:54.242Z"
      },
      {
        "duration": 69382,
        "start_time": "2023-03-21T11:00:50.186Z"
      },
      {
        "duration": 241543,
        "start_time": "2023-03-21T12:02:41.275Z"
      },
      {
        "duration": 0,
        "start_time": "2023-03-21T12:06:42.820Z"
      },
      {
        "duration": 0,
        "start_time": "2023-03-21T12:06:42.822Z"
      },
      {
        "duration": 4,
        "start_time": "2023-03-21T12:06:56.934Z"
      },
      {
        "duration": 28060,
        "start_time": "2023-03-21T12:08:06.270Z"
      },
      {
        "duration": 6,
        "start_time": "2023-03-21T12:08:37.463Z"
      },
      {
        "duration": 4885,
        "start_time": "2023-03-21T12:08:44.539Z"
      },
      {
        "duration": 4,
        "start_time": "2023-03-21T12:08:54.038Z"
      },
      {
        "duration": 6588,
        "start_time": "2023-03-21T12:08:56.156Z"
      },
      {
        "duration": 98,
        "start_time": "2023-03-21T12:09:25.929Z"
      },
      {
        "duration": 6,
        "start_time": "2023-03-21T12:09:58.380Z"
      },
      {
        "duration": 8,
        "start_time": "2023-03-21T12:10:55.611Z"
      },
      {
        "duration": 1639,
        "start_time": "2023-03-21T12:10:56.823Z"
      },
      {
        "duration": 1040,
        "start_time": "2023-03-21T12:10:58.464Z"
      },
      {
        "duration": 22,
        "start_time": "2023-03-21T12:10:59.506Z"
      },
      {
        "duration": 187,
        "start_time": "2023-03-21T12:10:59.530Z"
      },
      {
        "duration": 4,
        "start_time": "2023-03-21T12:10:59.720Z"
      },
      {
        "duration": 125,
        "start_time": "2023-03-21T12:10:59.725Z"
      },
      {
        "duration": 198,
        "start_time": "2023-03-21T12:10:59.851Z"
      },
      {
        "duration": 752,
        "start_time": "2023-03-21T12:11:00.050Z"
      },
      {
        "duration": 453,
        "start_time": "2023-03-21T12:11:00.805Z"
      },
      {
        "duration": 381,
        "start_time": "2023-03-21T12:11:01.261Z"
      },
      {
        "duration": 303,
        "start_time": "2023-03-21T12:11:01.644Z"
      },
      {
        "duration": 91,
        "start_time": "2023-03-21T12:11:01.949Z"
      },
      {
        "duration": 7,
        "start_time": "2023-03-21T12:11:02.042Z"
      },
      {
        "duration": 28717,
        "start_time": "2023-03-21T12:11:02.051Z"
      },
      {
        "duration": 15419,
        "start_time": "2023-03-21T12:11:30.770Z"
      },
      {
        "duration": 298,
        "start_time": "2023-03-21T12:11:46.191Z"
      },
      {
        "duration": 270,
        "start_time": "2023-03-21T12:11:46.491Z"
      },
      {
        "duration": 226,
        "start_time": "2023-03-21T12:11:46.763Z"
      },
      {
        "duration": 132,
        "start_time": "2023-03-21T12:11:46.991Z"
      },
      {
        "duration": 11,
        "start_time": "2023-03-21T12:11:47.125Z"
      },
      {
        "duration": 211,
        "start_time": "2023-03-21T12:11:47.138Z"
      },
      {
        "duration": 3862,
        "start_time": "2023-03-21T12:11:47.350Z"
      },
      {
        "duration": 679,
        "start_time": "2023-03-21T12:11:51.214Z"
      },
      {
        "duration": 4,
        "start_time": "2023-03-21T12:11:51.895Z"
      },
      {
        "duration": 485468,
        "start_time": "2023-03-21T12:11:51.900Z"
      },
      {
        "duration": 197698,
        "start_time": "2023-03-21T12:20:12.271Z"
      },
      {
        "duration": 39,
        "start_time": "2023-03-21T12:23:32.993Z"
      },
      {
        "duration": 4,
        "start_time": "2023-03-21T12:23:45.534Z"
      },
      {
        "duration": 24,
        "start_time": "2023-03-21T12:24:16.903Z"
      },
      {
        "duration": 12,
        "start_time": "2023-03-21T12:25:10.644Z"
      },
      {
        "duration": 5,
        "start_time": "2023-03-21T12:27:22.787Z"
      },
      {
        "duration": 3,
        "start_time": "2023-03-21T12:27:28.883Z"
      },
      {
        "duration": 4,
        "start_time": "2023-03-21T12:27:29.803Z"
      },
      {
        "duration": 821,
        "start_time": "2023-03-21T12:27:30.360Z"
      },
      {
        "duration": 17,
        "start_time": "2023-03-21T12:27:31.183Z"
      },
      {
        "duration": 172,
        "start_time": "2023-03-21T12:27:31.202Z"
      },
      {
        "duration": 44,
        "start_time": "2023-03-21T12:27:31.375Z"
      },
      {
        "duration": 130,
        "start_time": "2023-03-21T12:27:31.421Z"
      },
      {
        "duration": 187,
        "start_time": "2023-03-21T12:27:31.554Z"
      },
      {
        "duration": 699,
        "start_time": "2023-03-21T12:27:31.743Z"
      },
      {
        "duration": 366,
        "start_time": "2023-03-21T12:27:33.423Z"
      },
      {
        "duration": 224,
        "start_time": "2023-03-21T12:27:39.355Z"
      },
      {
        "duration": 216,
        "start_time": "2023-03-21T12:27:42.663Z"
      },
      {
        "duration": 69,
        "start_time": "2023-03-21T12:27:45.414Z"
      },
      {
        "duration": 7,
        "start_time": "2023-03-21T12:27:46.503Z"
      },
      {
        "duration": 27164,
        "start_time": "2023-03-21T12:27:55.487Z"
      },
      {
        "duration": 15853,
        "start_time": "2023-03-21T12:28:22.653Z"
      },
      {
        "duration": 15465,
        "start_time": "2023-03-21T12:29:18.895Z"
      },
      {
        "duration": 209,
        "start_time": "2023-03-21T12:29:34.362Z"
      },
      {
        "duration": 4,
        "start_time": "2023-03-21T12:29:34.574Z"
      },
      {
        "duration": 220,
        "start_time": "2023-03-21T12:31:27.230Z"
      },
      {
        "duration": 195,
        "start_time": "2023-03-21T12:31:28.310Z"
      },
      {
        "duration": 116,
        "start_time": "2023-03-21T12:31:31.633Z"
      },
      {
        "duration": 7,
        "start_time": "2023-03-21T12:31:34.244Z"
      },
      {
        "duration": 179,
        "start_time": "2023-03-21T12:31:34.629Z"
      },
      {
        "duration": 3800,
        "start_time": "2023-03-21T12:31:40.179Z"
      },
      {
        "duration": 639,
        "start_time": "2023-03-21T12:31:45.350Z"
      },
      {
        "duration": 4,
        "start_time": "2023-03-21T12:31:48.657Z"
      },
      {
        "duration": 16232,
        "start_time": "2023-03-21T12:32:19.489Z"
      },
      {
        "duration": 16991,
        "start_time": "2023-03-21T12:32:40.935Z"
      },
      {
        "duration": 17467,
        "start_time": "2023-03-21T12:34:01.422Z"
      },
      {
        "duration": 17029,
        "start_time": "2023-03-21T12:34:22.660Z"
      },
      {
        "duration": 5,
        "start_time": "2023-03-21T12:35:37.537Z"
      },
      {
        "duration": 17401,
        "start_time": "2023-03-21T12:35:39.677Z"
      },
      {
        "duration": 17438,
        "start_time": "2023-03-21T12:37:03.131Z"
      },
      {
        "duration": 0,
        "start_time": "2023-03-21T12:37:20.571Z"
      },
      {
        "duration": 5,
        "start_time": "2023-03-21T12:38:06.845Z"
      },
      {
        "duration": 16897,
        "start_time": "2023-03-21T12:38:09.481Z"
      },
      {
        "duration": 3,
        "start_time": "2023-03-21T12:38:41.926Z"
      },
      {
        "duration": 17517,
        "start_time": "2023-03-21T12:38:44.299Z"
      },
      {
        "duration": 154485,
        "start_time": "2023-03-21T12:39:41.751Z"
      },
      {
        "duration": 0,
        "start_time": "2023-03-21T12:45:43.717Z"
      },
      {
        "duration": 5,
        "start_time": "2023-03-21T12:45:53.644Z"
      },
      {
        "duration": 75,
        "start_time": "2023-03-21T12:45:58.889Z"
      },
      {
        "duration": 6974,
        "start_time": "2023-03-21T12:46:28.695Z"
      },
      {
        "duration": 0,
        "start_time": "2023-03-21T12:46:35.672Z"
      },
      {
        "duration": 4,
        "start_time": "2023-03-21T12:46:37.499Z"
      },
      {
        "duration": 221261,
        "start_time": "2023-03-21T12:46:39.855Z"
      },
      {
        "duration": 195170,
        "start_time": "2023-03-21T12:51:19.314Z"
      },
      {
        "duration": 10289,
        "start_time": "2023-03-21T12:55:14.113Z"
      },
      {
        "duration": 10974,
        "start_time": "2023-03-21T12:55:40.024Z"
      },
      {
        "duration": 10277,
        "start_time": "2023-03-21T12:56:13.629Z"
      },
      {
        "duration": 363513,
        "start_time": "2023-03-21T12:56:51.350Z"
      },
      {
        "duration": 240986,
        "start_time": "2023-03-21T13:05:14.410Z"
      },
      {
        "duration": 12,
        "start_time": "2023-03-22T13:56:51.734Z"
      },
      {
        "duration": 1659,
        "start_time": "2023-03-22T13:56:52.301Z"
      },
      {
        "duration": 1064,
        "start_time": "2023-03-22T13:56:53.962Z"
      },
      {
        "duration": 19,
        "start_time": "2023-03-22T13:56:55.027Z"
      },
      {
        "duration": 118,
        "start_time": "2023-03-22T13:56:55.048Z"
      },
      {
        "duration": 5,
        "start_time": "2023-03-22T13:56:55.168Z"
      },
      {
        "duration": 111,
        "start_time": "2023-03-22T13:56:55.175Z"
      },
      {
        "duration": 154,
        "start_time": "2023-03-22T13:56:55.288Z"
      },
      {
        "duration": 728,
        "start_time": "2023-03-22T13:56:55.444Z"
      },
      {
        "duration": 491,
        "start_time": "2023-03-22T13:56:56.175Z"
      },
      {
        "duration": 265,
        "start_time": "2023-03-22T13:56:56.668Z"
      },
      {
        "duration": 212,
        "start_time": "2023-03-22T13:56:56.936Z"
      },
      {
        "duration": 78,
        "start_time": "2023-03-22T13:56:57.150Z"
      },
      {
        "duration": 8,
        "start_time": "2023-03-22T13:56:57.229Z"
      },
      {
        "duration": 24696,
        "start_time": "2023-03-22T13:56:57.238Z"
      },
      {
        "duration": 12442,
        "start_time": "2023-03-22T13:57:21.935Z"
      },
      {
        "duration": 244,
        "start_time": "2023-03-22T13:57:34.379Z"
      },
      {
        "duration": 3,
        "start_time": "2023-03-22T13:57:34.625Z"
      },
      {
        "duration": 8575,
        "start_time": "2023-03-22T13:57:34.631Z"
      },
      {
        "duration": 403,
        "start_time": "2023-03-22T13:57:43.207Z"
      },
      {
        "duration": 83,
        "start_time": "2023-03-22T13:57:43.611Z"
      },
      {
        "duration": 6,
        "start_time": "2023-03-22T13:57:43.695Z"
      },
      {
        "duration": 167,
        "start_time": "2023-03-22T13:57:43.703Z"
      },
      {
        "duration": 3375,
        "start_time": "2023-03-22T13:57:43.871Z"
      },
      {
        "duration": 616,
        "start_time": "2023-03-22T13:57:47.248Z"
      },
      {
        "duration": 4,
        "start_time": "2023-03-22T13:57:47.865Z"
      },
      {
        "duration": 361268,
        "start_time": "2023-03-22T13:57:47.870Z"
      },
      {
        "duration": 18,
        "start_time": "2023-03-22T17:10:39.124Z"
      },
      {
        "duration": 9698,
        "start_time": "2023-03-22T17:10:39.223Z"
      },
      {
        "duration": 7011,
        "start_time": "2023-03-22T17:10:48.923Z"
      },
      {
        "duration": 120,
        "start_time": "2023-03-22T17:10:55.935Z"
      },
      {
        "duration": 1076,
        "start_time": "2023-03-22T17:10:56.057Z"
      },
      {
        "duration": 176,
        "start_time": "2023-03-22T17:10:57.147Z"
      },
      {
        "duration": 1014,
        "start_time": "2023-03-22T17:10:57.324Z"
      },
      {
        "duration": 1488,
        "start_time": "2023-03-22T17:10:58.343Z"
      },
      {
        "duration": 4502,
        "start_time": "2023-03-22T17:10:59.839Z"
      },
      {
        "duration": 3579,
        "start_time": "2023-03-22T17:11:04.352Z"
      },
      {
        "duration": 2003,
        "start_time": "2023-03-22T17:11:07.941Z"
      },
      {
        "duration": 2398,
        "start_time": "2023-03-22T17:11:09.947Z"
      },
      {
        "duration": 587,
        "start_time": "2023-03-22T17:11:12.351Z"
      },
      {
        "duration": 85,
        "start_time": "2023-03-22T17:11:12.944Z"
      },
      {
        "duration": 200399,
        "start_time": "2023-03-22T17:11:13.030Z"
      },
      {
        "duration": 108505,
        "start_time": "2023-03-22T17:14:33.444Z"
      },
      {
        "duration": 2292,
        "start_time": "2023-03-22T17:16:21.959Z"
      },
      {
        "duration": 22,
        "start_time": "2023-03-22T17:16:24.325Z"
      },
      {
        "duration": 1516,
        "start_time": "2023-03-22T17:16:24.435Z"
      },
      {
        "duration": 1570,
        "start_time": "2023-03-22T17:16:25.953Z"
      },
      {
        "duration": 922,
        "start_time": "2023-03-22T17:16:27.525Z"
      },
      {
        "duration": 82,
        "start_time": "2023-03-22T17:16:28.449Z"
      },
      {
        "duration": 2016,
        "start_time": "2023-03-22T17:16:28.533Z"
      },
      {
        "duration": 26868,
        "start_time": "2023-03-22T17:16:30.571Z"
      },
      {
        "duration": 4708,
        "start_time": "2023-03-22T17:16:57.445Z"
      },
      {
        "duration": 9,
        "start_time": "2023-03-22T17:17:02.232Z"
      },
      {
        "duration": 381,
        "start_time": "2023-03-22T17:17:02.251Z"
      },
      {
        "duration": 1009,
        "start_time": "2023-03-22T17:17:02.634Z"
      },
      {
        "duration": 0,
        "start_time": "2023-03-22T17:17:03.649Z"
      },
      {
        "duration": 0,
        "start_time": "2023-03-22T17:17:03.658Z"
      },
      {
        "duration": 0,
        "start_time": "2023-03-22T17:17:03.666Z"
      },
      {
        "duration": 0,
        "start_time": "2023-03-22T17:17:03.725Z"
      },
      {
        "duration": 0,
        "start_time": "2023-03-22T17:17:03.728Z"
      },
      {
        "duration": 12,
        "start_time": "2023-03-22T17:17:23.660Z"
      },
      {
        "duration": 98,
        "start_time": "2023-03-22T17:17:25.842Z"
      },
      {
        "duration": 91,
        "start_time": "2023-03-22T17:17:39.036Z"
      },
      {
        "duration": 9253,
        "start_time": "2023-03-22T17:17:39.130Z"
      },
      {
        "duration": 6355,
        "start_time": "2023-03-22T17:17:48.422Z"
      },
      {
        "duration": 277,
        "start_time": "2023-03-22T17:17:54.784Z"
      },
      {
        "duration": 1305,
        "start_time": "2023-03-22T17:17:55.064Z"
      },
      {
        "duration": 20,
        "start_time": "2023-03-22T17:17:56.428Z"
      },
      {
        "duration": 1005,
        "start_time": "2023-03-22T17:17:56.458Z"
      },
      {
        "duration": 1006,
        "start_time": "2023-03-22T17:17:57.465Z"
      },
      {
        "duration": 4251,
        "start_time": "2023-03-22T17:17:58.476Z"
      },
      {
        "duration": 3734,
        "start_time": "2023-03-22T17:18:02.731Z"
      },
      {
        "duration": 2188,
        "start_time": "2023-03-22T17:18:06.471Z"
      },
      {
        "duration": 1807,
        "start_time": "2023-03-22T17:18:08.747Z"
      },
      {
        "duration": 511,
        "start_time": "2023-03-22T17:18:10.631Z"
      },
      {
        "duration": 69,
        "start_time": "2023-03-22T17:18:11.166Z"
      },
      {
        "duration": 221189,
        "start_time": "2023-03-22T17:18:11.246Z"
      },
      {
        "duration": 107208,
        "start_time": "2023-03-22T17:21:52.442Z"
      },
      {
        "duration": 1787,
        "start_time": "2023-03-22T17:23:39.652Z"
      },
      {
        "duration": 11,
        "start_time": "2023-03-22T17:23:41.441Z"
      },
      {
        "duration": 2587,
        "start_time": "2023-03-22T17:23:41.454Z"
      },
      {
        "duration": 1384,
        "start_time": "2023-03-22T17:23:44.043Z"
      },
      {
        "duration": 796,
        "start_time": "2023-03-22T17:23:45.436Z"
      },
      {
        "duration": 12,
        "start_time": "2023-03-22T17:23:46.234Z"
      },
      {
        "duration": 1379,
        "start_time": "2023-03-22T17:23:46.272Z"
      },
      {
        "duration": 24967,
        "start_time": "2023-03-22T17:23:47.657Z"
      },
      {
        "duration": 4186,
        "start_time": "2023-03-22T17:24:12.659Z"
      },
      {
        "duration": 26,
        "start_time": "2023-03-22T17:24:16.921Z"
      },
      {
        "duration": 271,
        "start_time": "2023-03-22T17:24:16.958Z"
      },
      {
        "duration": 14,
        "start_time": "2023-03-24T15:08:46.499Z"
      },
      {
        "duration": 44,
        "start_time": "2023-03-24T15:08:46.843Z"
      },
      {
        "duration": 8,
        "start_time": "2023-03-24T15:08:47.028Z"
      },
      {
        "duration": 8,
        "start_time": "2023-03-24T15:08:47.288Z"
      },
      {
        "duration": 2,
        "start_time": "2023-03-24T15:12:53.414Z"
      },
      {
        "duration": 3,
        "start_time": "2023-03-24T15:13:07.058Z"
      }
    ],
    "kernelspec": {
      "display_name": "Python 3",
      "name": "python3"
    },
    "language_info": {
      "codemirror_mode": {
        "name": "ipython",
        "version": 3
      },
      "file_extension": ".py",
      "mimetype": "text/x-python",
      "name": "python",
      "nbconvert_exporter": "python",
      "pygments_lexer": "ipython3",
      "version": "3.9.5"
    },
    "toc": {
      "base_numbering": 1,
      "nav_menu": {},
      "number_sections": true,
      "sideBar": true,
      "skip_h1_title": true,
      "title_cell": "Table of Contents",
      "title_sidebar": "Contents",
      "toc_cell": false,
      "toc_position": {
        "height": "calc(100% - 180px)",
        "left": "10px",
        "top": "150px",
        "width": "165px"
      },
      "toc_section_display": true,
      "toc_window_display": false
    },
    "colab": {
      "provenance": [],
      "gpuType": "T4"
    },
    "accelerator": "GPU"
  },
  "nbformat": 4,
  "nbformat_minor": 0
}